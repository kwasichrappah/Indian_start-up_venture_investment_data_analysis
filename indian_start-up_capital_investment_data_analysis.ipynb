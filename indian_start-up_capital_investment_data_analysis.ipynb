{
 "cells": [
  {
   "cell_type": "markdown",
   "id": "c5490f1b",
   "metadata": {},
   "source": [
    "# Investigating the Indian startup ecosystem"
   ]
  },
  {
   "cell_type": "markdown",
   "id": "0aa95a93",
   "metadata": {},
   "source": [
    "## Business Understanding"
   ]
  },
  {
   "cell_type": "markdown",
   "id": "17672573",
   "metadata": {},
   "source": [
    "### Description\n",
    "The objective of this project is to analyse the indian start-up investment data over the course of four years (2018-2021)."
   ]
  },
  {
   "cell_type": "markdown",
   "id": "6f8a8009",
   "metadata": {},
   "source": [
    "#### Data Sources\n",
    "- 2 SQL data sources (2021 & 2020)\n",
    "- 2 CSV files (2019 & 2018)"
   ]
  },
  {
   "cell_type": "markdown",
   "id": "116a0a05",
   "metadata": {},
   "source": [
    "### Null Hypothesis \n",
    "Investment amounts received by start-ups have no relation to sectors they operate in.\n"
   ]
  },
  {
   "cell_type": "markdown",
   "id": "c477776d",
   "metadata": {},
   "source": [
    "### Alternate Hypothesis\n",
    "There is a relationship between investment amounts received by start-ups and the sectors they operate in"
   ]
  },
  {
   "cell_type": "markdown",
   "id": "b392e991",
   "metadata": {},
   "source": [
    "### Analytical Questions\n",
    "1. Does location of headquarters affect the amount of funding or investments?\n",
    "2. What is the average funding needed per Sector/Category of start up affect the fundings?\n",
    "3. How many companies are in the different sectors of funding ?\n",
    "4. Which stages give out the highest investment amounts?\n",
    "5. Which cities have the highest number of startups and at what levels?\n",
    "6. What is the average amount of funding startups receive per year?\n",
    "7. Year of establishment as against average investment in its year of funding"
   ]
  },
  {
   "cell_type": "code",
   "execution_count": 159,
   "id": "ab9093f6",
   "metadata": {},
   "outputs": [],
   "source": [
    "#Libraries imported\n",
    "import sqlalchemy as sa\n",
    "import pyodbc  \n",
    "from scipy import stats   \n",
    "from scipy.stats import kruskal\n",
    "from dotenv import dotenv_values \n",
    "import pandas as pd\n",
    "import seaborn as sns\n",
    "import warnings \n"
   ]
  },
  {
   "cell_type": "code",
   "execution_count": 160,
   "id": "7960ef4f",
   "metadata": {},
   "outputs": [],
   "source": [
    "env_variables= dotenv_values('logins.env')\n",
    "database= env_variables.get('database')\n",
    "server = env_variables.get('server')\n",
    "username = env_variables.get('username')\n",
    "password = env_variables.get('password')\n",
    "\n"
   ]
  },
  {
   "cell_type": "markdown",
   "id": "c02588ac",
   "metadata": {},
   "source": [
    "## Data Understanding\n",
    "\n"
   ]
  },
  {
   "cell_type": "markdown",
   "id": "6526fade",
   "metadata": {},
   "source": [
    "#### Connecting to the dapDB to extract the 2020 and 2021 data"
   ]
  },
  {
   "cell_type": "code",
   "execution_count": 161,
   "id": "c213a6d4",
   "metadata": {},
   "outputs": [],
   "source": [
    "#Connecting to the database to analyse the 2020-2021 data\n",
    "\n",
    "connection_string = f\"DRIVER={{SQL Server}};SERVER={server};DATABASE={database};UID={username};PWD={password};MARS_Connection=yes;MinProtocolVersion=TLSv1.2;\"\n",
    "connection = pyodbc.connect(connection_string)"
   ]
  },
  {
   "cell_type": "code",
   "execution_count": 162,
   "id": "3373bb90",
   "metadata": {},
   "outputs": [
    {
     "name": "stderr",
     "output_type": "stream",
     "text": [
      "C:\\Users\\chrap\\AppData\\Local\\Temp\\ipykernel_23056\\2739378453.py:5: UserWarning: pandas only supports SQLAlchemy connectable (engine/connection) or database string URI or sqlite3 DBAPI2 connection. Other DBAPI2 objects are not tested. Please consider using SQLAlchemy.\n",
      "  data_2020 = pd.read_sql(query, connection)\n"
     ]
    },
    {
     "data": {
      "text/plain": [
       "Index(['Company_Brand', 'Founded', 'HeadQuarter', 'Sector', 'What_it_does',\n",
       "       'Founders', 'Investor', 'Amount', 'Stage', 'column10'],\n",
       "      dtype='object')"
      ]
     },
     "execution_count": 162,
     "metadata": {},
     "output_type": "execute_result"
    }
   ],
   "source": [
    "#query the 2020 startup funding data\n",
    "\n",
    "query = \"SELECT * FROM LP1_startup_funding2020\"\n",
    "\n",
    "data_2020 = pd.read_sql(query, connection)\n",
    "data_2020.columns"
   ]
  },
  {
   "cell_type": "code",
   "execution_count": 163,
   "id": "bb08e710",
   "metadata": {},
   "outputs": [],
   "source": [
    "#Including the investment year to the data\n",
    "data_2020['Investment_year'] = '2020'\n",
    "data_2020=data_2020.reset_index()"
   ]
  },
  {
   "cell_type": "code",
   "execution_count": 164,
   "id": "16261e43",
   "metadata": {},
   "outputs": [
    {
     "data": {
      "text/plain": [
       "index                int64\n",
       "Company_Brand       object\n",
       "Founded            float64\n",
       "HeadQuarter         object\n",
       "Sector              object\n",
       "What_it_does        object\n",
       "Founders            object\n",
       "Investor            object\n",
       "Amount             float64\n",
       "Stage               object\n",
       "column10            object\n",
       "Investment_year     object\n",
       "dtype: object"
      ]
     },
     "execution_count": 164,
     "metadata": {},
     "output_type": "execute_result"
    }
   ],
   "source": [
    "#Checking the datatypes of the columns\n",
    "datatypes = data_2020.dtypes\n",
    "datatypes"
   ]
  },
  {
   "cell_type": "code",
   "execution_count": 165,
   "id": "7e67dcd3",
   "metadata": {},
   "outputs": [
    {
     "name": "stderr",
     "output_type": "stream",
     "text": [
      "C:\\Users\\chrap\\AppData\\Local\\Temp\\ipykernel_23056\\3538229512.py:4: UserWarning: pandas only supports SQLAlchemy connectable (engine/connection) or database string URI or sqlite3 DBAPI2 connection. Other DBAPI2 objects are not tested. Please consider using SQLAlchemy.\n",
      "  data_2021 = pd.read_sql(query, connection)\n"
     ]
    },
    {
     "data": {
      "text/html": [
       "<div>\n",
       "<style scoped>\n",
       "    .dataframe tbody tr th:only-of-type {\n",
       "        vertical-align: middle;\n",
       "    }\n",
       "\n",
       "    .dataframe tbody tr th {\n",
       "        vertical-align: top;\n",
       "    }\n",
       "\n",
       "    .dataframe thead th {\n",
       "        text-align: right;\n",
       "    }\n",
       "</style>\n",
       "<table border=\"1\" class=\"dataframe\">\n",
       "  <thead>\n",
       "    <tr style=\"text-align: right;\">\n",
       "      <th></th>\n",
       "      <th>Company_Brand</th>\n",
       "      <th>Founded</th>\n",
       "      <th>HeadQuarter</th>\n",
       "      <th>Sector</th>\n",
       "      <th>What_it_does</th>\n",
       "      <th>Founders</th>\n",
       "      <th>Investor</th>\n",
       "      <th>Amount</th>\n",
       "      <th>Stage</th>\n",
       "    </tr>\n",
       "  </thead>\n",
       "  <tbody>\n",
       "    <tr>\n",
       "      <th>0</th>\n",
       "      <td>Unbox Robotics</td>\n",
       "      <td>$2,019.00</td>\n",
       "      <td>Bangalore</td>\n",
       "      <td>AI startup</td>\n",
       "      <td>Unbox Robotics builds on-demand AI-driven ware...</td>\n",
       "      <td>Pramod Ghadge, Shahid Memon</td>\n",
       "      <td>BEENEXT, Entrepreneur First</td>\n",
       "      <td>$1,200,000</td>\n",
       "      <td>Pre-series A</td>\n",
       "    </tr>\n",
       "    <tr>\n",
       "      <th>1</th>\n",
       "      <td>upGrad</td>\n",
       "      <td>$2,015.00</td>\n",
       "      <td>Mumbai</td>\n",
       "      <td>EdTech</td>\n",
       "      <td>UpGrad is an online higher education platform.</td>\n",
       "      <td>Mayank Kumar, Phalgun Kompalli, Ravijot Chugh,...</td>\n",
       "      <td>Unilazer Ventures, IIFL Asset Management</td>\n",
       "      <td>$120,000,000</td>\n",
       "      <td>None</td>\n",
       "    </tr>\n",
       "    <tr>\n",
       "      <th>2</th>\n",
       "      <td>Lead School</td>\n",
       "      <td>$2,012.00</td>\n",
       "      <td>Mumbai</td>\n",
       "      <td>EdTech</td>\n",
       "      <td>LEAD School offers technology based school tra...</td>\n",
       "      <td>Smita Deorah, Sumeet Mehta</td>\n",
       "      <td>GSV Ventures, Westbridge Capital</td>\n",
       "      <td>$30,000,000</td>\n",
       "      <td>Series D</td>\n",
       "    </tr>\n",
       "    <tr>\n",
       "      <th>3</th>\n",
       "      <td>Bizongo</td>\n",
       "      <td>$2,015.00</td>\n",
       "      <td>Mumbai</td>\n",
       "      <td>B2B E-commerce</td>\n",
       "      <td>Bizongo is a business-to-business online marke...</td>\n",
       "      <td>Aniket Deb, Ankit Tomar, Sachin Agrawal</td>\n",
       "      <td>CDC Group, IDG Capital</td>\n",
       "      <td>$51,000,000</td>\n",
       "      <td>Series C</td>\n",
       "    </tr>\n",
       "    <tr>\n",
       "      <th>4</th>\n",
       "      <td>FypMoney</td>\n",
       "      <td>$2,021.00</td>\n",
       "      <td>Gurugram</td>\n",
       "      <td>FinTech</td>\n",
       "      <td>FypMoney is Digital NEO Bank for Teenagers, em...</td>\n",
       "      <td>Kapil Banwari</td>\n",
       "      <td>Liberatha Kallat, Mukesh Yadav, Dinesh Nagpal</td>\n",
       "      <td>$2,000,000</td>\n",
       "      <td>Seed</td>\n",
       "    </tr>\n",
       "  </tbody>\n",
       "</table>\n",
       "</div>"
      ],
      "text/plain": [
       "    Company_Brand   Founded HeadQuarter          Sector  \\\n",
       "0  Unbox Robotics $2,019.00   Bangalore      AI startup   \n",
       "1          upGrad $2,015.00      Mumbai          EdTech   \n",
       "2     Lead School $2,012.00      Mumbai          EdTech   \n",
       "3         Bizongo $2,015.00      Mumbai  B2B E-commerce   \n",
       "4        FypMoney $2,021.00    Gurugram         FinTech   \n",
       "\n",
       "                                        What_it_does  \\\n",
       "0  Unbox Robotics builds on-demand AI-driven ware...   \n",
       "1     UpGrad is an online higher education platform.   \n",
       "2  LEAD School offers technology based school tra...   \n",
       "3  Bizongo is a business-to-business online marke...   \n",
       "4  FypMoney is Digital NEO Bank for Teenagers, em...   \n",
       "\n",
       "                                            Founders  \\\n",
       "0                        Pramod Ghadge, Shahid Memon   \n",
       "1  Mayank Kumar, Phalgun Kompalli, Ravijot Chugh,...   \n",
       "2                         Smita Deorah, Sumeet Mehta   \n",
       "3            Aniket Deb, Ankit Tomar, Sachin Agrawal   \n",
       "4                                      Kapil Banwari   \n",
       "\n",
       "                                        Investor        Amount         Stage  \n",
       "0                    BEENEXT, Entrepreneur First    $1,200,000  Pre-series A  \n",
       "1       Unilazer Ventures, IIFL Asset Management  $120,000,000          None  \n",
       "2               GSV Ventures, Westbridge Capital   $30,000,000      Series D  \n",
       "3                         CDC Group, IDG Capital   $51,000,000      Series C  \n",
       "4  Liberatha Kallat, Mukesh Yadav, Dinesh Nagpal    $2,000,000          Seed  "
      ]
     },
     "execution_count": 165,
     "metadata": {},
     "output_type": "execute_result"
    }
   ],
   "source": [
    "#query the 2021 startup funding data\n",
    "query = \"SELECT * FROM LP1_startup_funding2021\"\n",
    "\n",
    "data_2021 = pd.read_sql(query, connection)\n",
    "data_2021.head(5)\n"
   ]
  },
  {
   "cell_type": "code",
   "execution_count": 166,
   "id": "349d6fc5",
   "metadata": {},
   "outputs": [
    {
     "data": {
      "text/plain": [
       "Company_Brand     object\n",
       "Founded          float64\n",
       "HeadQuarter       object\n",
       "Sector            object\n",
       "What_it_does      object\n",
       "Founders          object\n",
       "Investor          object\n",
       "Amount            object\n",
       "Stage             object\n",
       "dtype: object"
      ]
     },
     "execution_count": 166,
     "metadata": {},
     "output_type": "execute_result"
    }
   ],
   "source": [
    "#Checking the datatypes of the columns\n",
    "datatypes = data_2021.dtypes\n",
    "datatypes"
   ]
  },
  {
   "cell_type": "code",
   "execution_count": 167,
   "id": "5cf0d6ee",
   "metadata": {},
   "outputs": [],
   "source": [
    "#Currency Converter function\n",
    "def curr_converter(df,rate):\n",
    "    amount_new=[]\n",
    "    for a in df:\n",
    "        if a.startswith('$'):\n",
    "            \n",
    "            amount_new.append(a.split('$')[1].replace(',',''))\n",
    "        elif a.startswith('₹'): \n",
    "            \n",
    "            amount_new.append(float((a.split('₹')[1]).replace(',',''))/rate )  \n",
    "        else :\n",
    "            amount_new.append(a)    \n",
    "    return amount_new"
   ]
  },
  {
   "cell_type": "code",
   "execution_count": 168,
   "id": "c417e196",
   "metadata": {},
   "outputs": [],
   "source": [
    "#Removing the dollar sign from data\n",
    "data_2021[data_2021['Amount'].str.contains('$', na = False)]\n",
    "data_2021['Amount']=data_2021.Amount.str.replace('\\W', '', regex=True)\n"
   ]
  },
  {
   "cell_type": "code",
   "execution_count": 169,
   "id": "84455b30",
   "metadata": {},
   "outputs": [
    {
     "data": {
      "text/html": [
       "<div>\n",
       "<style scoped>\n",
       "    .dataframe tbody tr th:only-of-type {\n",
       "        vertical-align: middle;\n",
       "    }\n",
       "\n",
       "    .dataframe tbody tr th {\n",
       "        vertical-align: top;\n",
       "    }\n",
       "\n",
       "    .dataframe thead th {\n",
       "        text-align: right;\n",
       "    }\n",
       "</style>\n",
       "<table border=\"1\" class=\"dataframe\">\n",
       "  <thead>\n",
       "    <tr style=\"text-align: right;\">\n",
       "      <th></th>\n",
       "      <th>Company_Brand</th>\n",
       "      <th>Founded</th>\n",
       "      <th>HeadQuarter</th>\n",
       "      <th>Sector</th>\n",
       "      <th>What_it_does</th>\n",
       "      <th>Founders</th>\n",
       "      <th>Investor</th>\n",
       "      <th>Amount</th>\n",
       "      <th>Stage</th>\n",
       "    </tr>\n",
       "  </thead>\n",
       "  <tbody>\n",
       "    <tr>\n",
       "      <th>0</th>\n",
       "      <td>Unbox Robotics</td>\n",
       "      <td>2019.0</td>\n",
       "      <td>Bangalore</td>\n",
       "      <td>AI startup</td>\n",
       "      <td>Unbox Robotics builds on-demand AI-driven ware...</td>\n",
       "      <td>Pramod Ghadge, Shahid Memon</td>\n",
       "      <td>BEENEXT, Entrepreneur First</td>\n",
       "      <td>1200000</td>\n",
       "      <td>Pre-series A</td>\n",
       "    </tr>\n",
       "    <tr>\n",
       "      <th>1</th>\n",
       "      <td>upGrad</td>\n",
       "      <td>2015.0</td>\n",
       "      <td>Mumbai</td>\n",
       "      <td>EdTech</td>\n",
       "      <td>UpGrad is an online higher education platform.</td>\n",
       "      <td>Mayank Kumar, Phalgun Kompalli, Ravijot Chugh,...</td>\n",
       "      <td>Unilazer Ventures, IIFL Asset Management</td>\n",
       "      <td>120000000</td>\n",
       "      <td>None</td>\n",
       "    </tr>\n",
       "  </tbody>\n",
       "</table>\n",
       "</div>"
      ],
      "text/plain": [
       "    Company_Brand Founded HeadQuarter      Sector  \\\n",
       "0  Unbox Robotics  2019.0   Bangalore  AI startup   \n",
       "1          upGrad  2015.0      Mumbai      EdTech   \n",
       "\n",
       "                                        What_it_does  \\\n",
       "0  Unbox Robotics builds on-demand AI-driven ware...   \n",
       "1     UpGrad is an online higher education platform.   \n",
       "\n",
       "                                            Founders  \\\n",
       "0                        Pramod Ghadge, Shahid Memon   \n",
       "1  Mayank Kumar, Phalgun Kompalli, Ravijot Chugh,...   \n",
       "\n",
       "                                   Investor     Amount         Stage  \n",
       "0               BEENEXT, Entrepreneur First    1200000  Pre-series A  \n",
       "1  Unilazer Ventures, IIFL Asset Management  120000000          None  "
      ]
     },
     "execution_count": 169,
     "metadata": {},
     "output_type": "execute_result"
    }
   ],
   "source": [
    "data_2021['Founded'] = data_2021['Founded'].astype(str)\n",
    "data_2021.head(2)"
   ]
  },
  {
   "cell_type": "markdown",
   "id": "9a51925d",
   "metadata": {},
   "source": [
    "#### Realised that 2021 data had data entry errors whereby there was a mixup in inputing the data for the Investor,Amount and then the Stage columns"
   ]
  },
  {
   "cell_type": "code",
   "execution_count": 170,
   "metadata": {},
   "outputs": [],
   "source": [
    "#combining the Stage and Amount columns since there are mixed data entry errors\n",
    "data_2021['new'] =  data_2021['Investor'].fillna('inv') +data_2021['Amount'].astype(str) + data_2021['Stage'].fillna('ab') \n",
    "\n"
   ]
  },
  {
   "cell_type": "code",
   "execution_count": 171,
   "id": "b76fc991",
   "metadata": {},
   "outputs": [
    {
     "data": {
      "text/html": [
       "<div>\n",
       "<style scoped>\n",
       "    .dataframe tbody tr th:only-of-type {\n",
       "        vertical-align: middle;\n",
       "    }\n",
       "\n",
       "    .dataframe tbody tr th {\n",
       "        vertical-align: top;\n",
       "    }\n",
       "\n",
       "    .dataframe thead th {\n",
       "        text-align: right;\n",
       "    }\n",
       "</style>\n",
       "<table border=\"1\" class=\"dataframe\">\n",
       "  <thead>\n",
       "    <tr style=\"text-align: right;\">\n",
       "      <th></th>\n",
       "      <th>Company_Brand</th>\n",
       "      <th>Founded</th>\n",
       "      <th>HeadQuarter</th>\n",
       "      <th>Sector</th>\n",
       "      <th>What_it_does</th>\n",
       "      <th>Founders</th>\n",
       "      <th>Investor</th>\n",
       "      <th>Amount</th>\n",
       "      <th>Stage</th>\n",
       "      <th>new</th>\n",
       "      <th>Amount_new</th>\n",
       "    </tr>\n",
       "  </thead>\n",
       "  <tbody>\n",
       "    <tr>\n",
       "      <th>0</th>\n",
       "      <td>Unbox Robotics</td>\n",
       "      <td>2019.0</td>\n",
       "      <td>Bangalore</td>\n",
       "      <td>AI startup</td>\n",
       "      <td>Unbox Robotics builds on-demand AI-driven ware...</td>\n",
       "      <td>Pramod Ghadge, Shahid Memon</td>\n",
       "      <td>BEENEXT, Entrepreneur First</td>\n",
       "      <td>1200000</td>\n",
       "      <td>Pre-series A</td>\n",
       "      <td>BEENEXT, Entrepreneur First1200000Pre-series A</td>\n",
       "      <td>1200000</td>\n",
       "    </tr>\n",
       "  </tbody>\n",
       "</table>\n",
       "</div>"
      ],
      "text/plain": [
       "    Company_Brand Founded HeadQuarter      Sector  \\\n",
       "0  Unbox Robotics  2019.0   Bangalore  AI startup   \n",
       "\n",
       "                                        What_it_does  \\\n",
       "0  Unbox Robotics builds on-demand AI-driven ware...   \n",
       "\n",
       "                      Founders                     Investor   Amount  \\\n",
       "0  Pramod Ghadge, Shahid Memon  BEENEXT, Entrepreneur First  1200000   \n",
       "\n",
       "          Stage                                             new Amount_new  \n",
       "0  Pre-series A  BEENEXT, Entrepreneur First1200000Pre-series A    1200000  "
      ]
     },
     "execution_count": 171,
     "metadata": {},
     "output_type": "execute_result"
    }
   ],
   "source": [
    "#Extract the amounts in the combined column to get the new amount column\n",
    "data_2021['Amount_new']=data_2021['new'].str.extract('(\\d+)')\n",
    "data_2021.head(1)\n"
   ]
  },
  {
   "cell_type": "code",
   "execution_count": 172,
   "id": "ab3b9c0c",
   "metadata": {},
   "outputs": [],
   "source": [
    "\n",
    "data_2021.drop(['new','Amount'], axis =1,inplace=True)\n",
    "data_2021['Investment_year'] = '2021'"
   ]
  },
  {
   "cell_type": "code",
   "execution_count": 173,
   "id": "9d3bf247",
   "metadata": {},
   "outputs": [],
   "source": [
    "#Renaming the Amount_new column\n",
    "data_2021.rename(columns={'Amount_new':'Amount'}, inplace=True)\n",
    "data_2021=data_2021.reset_index()\n",
    "\n",
    "#2021 data cleaned!!!!!!!!!!!"
   ]
  },
  {
   "cell_type": "code",
   "execution_count": 174,
   "id": "27038f9c",
   "metadata": {},
   "outputs": [
    {
     "data": {
      "text/html": [
       "<div>\n",
       "<style scoped>\n",
       "    .dataframe tbody tr th:only-of-type {\n",
       "        vertical-align: middle;\n",
       "    }\n",
       "\n",
       "    .dataframe tbody tr th {\n",
       "        vertical-align: top;\n",
       "    }\n",
       "\n",
       "    .dataframe thead th {\n",
       "        text-align: right;\n",
       "    }\n",
       "</style>\n",
       "<table border=\"1\" class=\"dataframe\">\n",
       "  <thead>\n",
       "    <tr style=\"text-align: right;\">\n",
       "      <th></th>\n",
       "      <th>index</th>\n",
       "      <th>Company_Brand</th>\n",
       "      <th>Founded</th>\n",
       "      <th>HeadQuarter</th>\n",
       "      <th>Sector</th>\n",
       "      <th>What_it_does</th>\n",
       "      <th>Founders</th>\n",
       "      <th>Investor</th>\n",
       "      <th>Stage</th>\n",
       "      <th>Amount</th>\n",
       "      <th>Investment_year</th>\n",
       "    </tr>\n",
       "  </thead>\n",
       "  <tbody>\n",
       "    <tr>\n",
       "      <th>0</th>\n",
       "      <td>0</td>\n",
       "      <td>Unbox Robotics</td>\n",
       "      <td>2019.0</td>\n",
       "      <td>Bangalore</td>\n",
       "      <td>AI startup</td>\n",
       "      <td>Unbox Robotics builds on-demand AI-driven ware...</td>\n",
       "      <td>Pramod Ghadge, Shahid Memon</td>\n",
       "      <td>BEENEXT, Entrepreneur First</td>\n",
       "      <td>Pre-series A</td>\n",
       "      <td>1200000</td>\n",
       "      <td>2021</td>\n",
       "    </tr>\n",
       "  </tbody>\n",
       "</table>\n",
       "</div>"
      ],
      "text/plain": [
       "   index   Company_Brand Founded HeadQuarter      Sector  \\\n",
       "0      0  Unbox Robotics  2019.0   Bangalore  AI startup   \n",
       "\n",
       "                                        What_it_does  \\\n",
       "0  Unbox Robotics builds on-demand AI-driven ware...   \n",
       "\n",
       "                      Founders                     Investor         Stage  \\\n",
       "0  Pramod Ghadge, Shahid Memon  BEENEXT, Entrepreneur First  Pre-series A   \n",
       "\n",
       "    Amount Investment_year  \n",
       "0  1200000            2021  "
      ]
     },
     "execution_count": 174,
     "metadata": {},
     "output_type": "execute_result"
    }
   ],
   "source": [
    "data_2021.head(1)"
   ]
  },
  {
   "cell_type": "code",
   "execution_count": 175,
   "id": "833b4a08",
   "metadata": {},
   "outputs": [
    {
     "data": {
      "text/html": [
       "<div>\n",
       "<style scoped>\n",
       "    .dataframe tbody tr th:only-of-type {\n",
       "        vertical-align: middle;\n",
       "    }\n",
       "\n",
       "    .dataframe tbody tr th {\n",
       "        vertical-align: top;\n",
       "    }\n",
       "\n",
       "    .dataframe thead th {\n",
       "        text-align: right;\n",
       "    }\n",
       "</style>\n",
       "<table border=\"1\" class=\"dataframe\">\n",
       "  <thead>\n",
       "    <tr style=\"text-align: right;\">\n",
       "      <th></th>\n",
       "      <th>Company Name</th>\n",
       "      <th>Industry</th>\n",
       "      <th>Round/Series</th>\n",
       "      <th>Amount</th>\n",
       "      <th>Location</th>\n",
       "      <th>About Company</th>\n",
       "    </tr>\n",
       "  </thead>\n",
       "  <tbody>\n",
       "    <tr>\n",
       "      <th>0</th>\n",
       "      <td>TheCollegeFever</td>\n",
       "      <td>Brand Marketing, Event Promotion, Marketing, S...</td>\n",
       "      <td>Seed</td>\n",
       "      <td>250000</td>\n",
       "      <td>Bangalore, Karnataka, India</td>\n",
       "      <td>TheCollegeFever is a hub for fun, fiesta and f...</td>\n",
       "    </tr>\n",
       "    <tr>\n",
       "      <th>1</th>\n",
       "      <td>Happy Cow Dairy</td>\n",
       "      <td>Agriculture, Farming</td>\n",
       "      <td>Seed</td>\n",
       "      <td>₹40,000,000</td>\n",
       "      <td>Mumbai, Maharashtra, India</td>\n",
       "      <td>A startup which aggregates milk from dairy far...</td>\n",
       "    </tr>\n",
       "    <tr>\n",
       "      <th>2</th>\n",
       "      <td>MyLoanCare</td>\n",
       "      <td>Credit, Financial Services, Lending, Marketplace</td>\n",
       "      <td>Series A</td>\n",
       "      <td>₹65,000,000</td>\n",
       "      <td>Gurgaon, Haryana, India</td>\n",
       "      <td>Leading Online Loans Marketplace in India</td>\n",
       "    </tr>\n",
       "    <tr>\n",
       "      <th>3</th>\n",
       "      <td>PayMe India</td>\n",
       "      <td>Financial Services, FinTech</td>\n",
       "      <td>Angel</td>\n",
       "      <td>2000000</td>\n",
       "      <td>Noida, Uttar Pradesh, India</td>\n",
       "      <td>PayMe India is an innovative FinTech organizat...</td>\n",
       "    </tr>\n",
       "    <tr>\n",
       "      <th>4</th>\n",
       "      <td>Eunimart</td>\n",
       "      <td>E-Commerce Platforms, Retail, SaaS</td>\n",
       "      <td>Seed</td>\n",
       "      <td>—</td>\n",
       "      <td>Hyderabad, Andhra Pradesh, India</td>\n",
       "      <td>Eunimart is a one stop solution for merchants ...</td>\n",
       "    </tr>\n",
       "  </tbody>\n",
       "</table>\n",
       "</div>"
      ],
      "text/plain": [
       "      Company Name                                           Industry  \\\n",
       "0  TheCollegeFever  Brand Marketing, Event Promotion, Marketing, S...   \n",
       "1  Happy Cow Dairy                               Agriculture, Farming   \n",
       "2       MyLoanCare   Credit, Financial Services, Lending, Marketplace   \n",
       "3      PayMe India                        Financial Services, FinTech   \n",
       "4         Eunimart                 E-Commerce Platforms, Retail, SaaS   \n",
       "\n",
       "  Round/Series       Amount                          Location  \\\n",
       "0         Seed       250000       Bangalore, Karnataka, India   \n",
       "1         Seed  ₹40,000,000        Mumbai, Maharashtra, India   \n",
       "2     Series A  ₹65,000,000           Gurgaon, Haryana, India   \n",
       "3        Angel      2000000       Noida, Uttar Pradesh, India   \n",
       "4         Seed            —  Hyderabad, Andhra Pradesh, India   \n",
       "\n",
       "                                       About Company  \n",
       "0  TheCollegeFever is a hub for fun, fiesta and f...  \n",
       "1  A startup which aggregates milk from dairy far...  \n",
       "2          Leading Online Loans Marketplace in India  \n",
       "3  PayMe India is an innovative FinTech organizat...  \n",
       "4  Eunimart is a one stop solution for merchants ...  "
      ]
     },
     "execution_count": 175,
     "metadata": {},
     "output_type": "execute_result"
    }
   ],
   "source": [
    "#Reading 2018 data from the csv files\n",
    "\n",
    "data_2018=pd.read_csv('startup_funding_2018_2019\\startup_funding2018.csv')\n",
    "data_2018.head(5)"
   ]
  },
  {
   "cell_type": "code",
   "execution_count": 176,
   "id": "9933b5b8",
   "metadata": {},
   "outputs": [
    {
     "data": {
      "text/html": [
       "<div>\n",
       "<style scoped>\n",
       "    .dataframe tbody tr th:only-of-type {\n",
       "        vertical-align: middle;\n",
       "    }\n",
       "\n",
       "    .dataframe tbody tr th {\n",
       "        vertical-align: top;\n",
       "    }\n",
       "\n",
       "    .dataframe thead th {\n",
       "        text-align: right;\n",
       "    }\n",
       "</style>\n",
       "<table border=\"1\" class=\"dataframe\">\n",
       "  <thead>\n",
       "    <tr style=\"text-align: right;\">\n",
       "      <th></th>\n",
       "      <th>Company_Brand</th>\n",
       "      <th>Sector</th>\n",
       "      <th>Stage</th>\n",
       "      <th>Amount</th>\n",
       "      <th>HeadQuarter</th>\n",
       "      <th>What_it_does</th>\n",
       "    </tr>\n",
       "  </thead>\n",
       "  <tbody>\n",
       "    <tr>\n",
       "      <th>0</th>\n",
       "      <td>TheCollegeFever</td>\n",
       "      <td>Brand Marketing, Event Promotion, Marketing, S...</td>\n",
       "      <td>Seed</td>\n",
       "      <td>250000</td>\n",
       "      <td>Bangalore, Karnataka, India</td>\n",
       "      <td>TheCollegeFever is a hub for fun, fiesta and f...</td>\n",
       "    </tr>\n",
       "    <tr>\n",
       "      <th>1</th>\n",
       "      <td>Happy Cow Dairy</td>\n",
       "      <td>Agriculture, Farming</td>\n",
       "      <td>Seed</td>\n",
       "      <td>₹40,000,000</td>\n",
       "      <td>Mumbai, Maharashtra, India</td>\n",
       "      <td>A startup which aggregates milk from dairy far...</td>\n",
       "    </tr>\n",
       "    <tr>\n",
       "      <th>2</th>\n",
       "      <td>MyLoanCare</td>\n",
       "      <td>Credit, Financial Services, Lending, Marketplace</td>\n",
       "      <td>Series A</td>\n",
       "      <td>₹65,000,000</td>\n",
       "      <td>Gurgaon, Haryana, India</td>\n",
       "      <td>Leading Online Loans Marketplace in India</td>\n",
       "    </tr>\n",
       "    <tr>\n",
       "      <th>3</th>\n",
       "      <td>PayMe India</td>\n",
       "      <td>Financial Services, FinTech</td>\n",
       "      <td>Angel</td>\n",
       "      <td>2000000</td>\n",
       "      <td>Noida, Uttar Pradesh, India</td>\n",
       "      <td>PayMe India is an innovative FinTech organizat...</td>\n",
       "    </tr>\n",
       "    <tr>\n",
       "      <th>4</th>\n",
       "      <td>Eunimart</td>\n",
       "      <td>E-Commerce Platforms, Retail, SaaS</td>\n",
       "      <td>Seed</td>\n",
       "      <td>—</td>\n",
       "      <td>Hyderabad, Andhra Pradesh, India</td>\n",
       "      <td>Eunimart is a one stop solution for merchants ...</td>\n",
       "    </tr>\n",
       "  </tbody>\n",
       "</table>\n",
       "</div>"
      ],
      "text/plain": [
       "     Company_Brand                                             Sector  \\\n",
       "0  TheCollegeFever  Brand Marketing, Event Promotion, Marketing, S...   \n",
       "1  Happy Cow Dairy                               Agriculture, Farming   \n",
       "2       MyLoanCare   Credit, Financial Services, Lending, Marketplace   \n",
       "3      PayMe India                        Financial Services, FinTech   \n",
       "4         Eunimart                 E-Commerce Platforms, Retail, SaaS   \n",
       "\n",
       "      Stage       Amount                       HeadQuarter  \\\n",
       "0      Seed       250000       Bangalore, Karnataka, India   \n",
       "1      Seed  ₹40,000,000        Mumbai, Maharashtra, India   \n",
       "2  Series A  ₹65,000,000           Gurgaon, Haryana, India   \n",
       "3     Angel      2000000       Noida, Uttar Pradesh, India   \n",
       "4      Seed            —  Hyderabad, Andhra Pradesh, India   \n",
       "\n",
       "                                        What_it_does  \n",
       "0  TheCollegeFever is a hub for fun, fiesta and f...  \n",
       "1  A startup which aggregates milk from dairy far...  \n",
       "2          Leading Online Loans Marketplace in India  \n",
       "3  PayMe India is an innovative FinTech organizat...  \n",
       "4  Eunimart is a one stop solution for merchants ...  "
      ]
     },
     "execution_count": 176,
     "metadata": {},
     "output_type": "execute_result"
    }
   ],
   "source": [
    "#Renaming column names of 2018 data to match all other datasets\n",
    "data_2018.rename(columns={'Company Name':'Company_Brand','Industry':'Sector', 'Round/Series':'Stage', 'Location':'HeadQuarter', 'About Company':'What_it_does'}, inplace=True)\n",
    "data_2018.head(5)"
   ]
  },
  {
   "cell_type": "code",
   "execution_count": 177,
   "id": "56c823cc",
   "metadata": {},
   "outputs": [],
   "source": [
    "#Removing the Lahk symbol and converting the Rupees to dollars\n",
    "exch_rate= 158.38\n",
    "amount_list=data_2018.Amount.tolist()\n",
    "amount_new=curr_converter(amount_list,exch_rate)\n",
    "data_2018['Amount']=amount_new\n",
    "data_2018['Investment_year'] = '2018'\n",
    "data_2018=data_2018.reset_index()"
   ]
  },
  {
   "cell_type": "code",
   "execution_count": 178,
   "id": "2d3abf18",
   "metadata": {},
   "outputs": [
    {
     "data": {
      "text/html": [
       "<div>\n",
       "<style scoped>\n",
       "    .dataframe tbody tr th:only-of-type {\n",
       "        vertical-align: middle;\n",
       "    }\n",
       "\n",
       "    .dataframe tbody tr th {\n",
       "        vertical-align: top;\n",
       "    }\n",
       "\n",
       "    .dataframe thead th {\n",
       "        text-align: right;\n",
       "    }\n",
       "</style>\n",
       "<table border=\"1\" class=\"dataframe\">\n",
       "  <thead>\n",
       "    <tr style=\"text-align: right;\">\n",
       "      <th></th>\n",
       "      <th>Company/Brand</th>\n",
       "      <th>Founded</th>\n",
       "      <th>HeadQuarter</th>\n",
       "      <th>Sector</th>\n",
       "      <th>What it does</th>\n",
       "      <th>Founders</th>\n",
       "      <th>Investor</th>\n",
       "      <th>Amount($)</th>\n",
       "      <th>Stage</th>\n",
       "    </tr>\n",
       "  </thead>\n",
       "  <tbody>\n",
       "    <tr>\n",
       "      <th>0</th>\n",
       "      <td>Bombay Shaving</td>\n",
       "      <td>nan</td>\n",
       "      <td>NaN</td>\n",
       "      <td>Ecommerce</td>\n",
       "      <td>Provides a range of male grooming products</td>\n",
       "      <td>Shantanu Deshpande</td>\n",
       "      <td>Sixth Sense Ventures</td>\n",
       "      <td>$6,300,000</td>\n",
       "      <td>NaN</td>\n",
       "    </tr>\n",
       "    <tr>\n",
       "      <th>1</th>\n",
       "      <td>Ruangguru</td>\n",
       "      <td>2014.0</td>\n",
       "      <td>Mumbai</td>\n",
       "      <td>Edtech</td>\n",
       "      <td>A learning platform that provides topic-based ...</td>\n",
       "      <td>Adamas Belva Syah Devara, Iman Usman.</td>\n",
       "      <td>General Atlantic</td>\n",
       "      <td>$150,000,000</td>\n",
       "      <td>Series C</td>\n",
       "    </tr>\n",
       "    <tr>\n",
       "      <th>2</th>\n",
       "      <td>Eduisfun</td>\n",
       "      <td>nan</td>\n",
       "      <td>Mumbai</td>\n",
       "      <td>Edtech</td>\n",
       "      <td>It aims to make learning fun via games.</td>\n",
       "      <td>Jatin Solanki</td>\n",
       "      <td>Deepak Parekh, Amitabh Bachchan, Piyush Pandey</td>\n",
       "      <td>$28,000,000</td>\n",
       "      <td>Fresh funding</td>\n",
       "    </tr>\n",
       "    <tr>\n",
       "      <th>3</th>\n",
       "      <td>HomeLane</td>\n",
       "      <td>2014.0</td>\n",
       "      <td>Chennai</td>\n",
       "      <td>Interior design</td>\n",
       "      <td>Provides interior designing solutions</td>\n",
       "      <td>Srikanth Iyer, Rama Harinath</td>\n",
       "      <td>Evolvence India Fund (EIF), Pidilite Group, FJ...</td>\n",
       "      <td>$30,000,000</td>\n",
       "      <td>Series D</td>\n",
       "    </tr>\n",
       "    <tr>\n",
       "      <th>4</th>\n",
       "      <td>Nu Genes</td>\n",
       "      <td>2004.0</td>\n",
       "      <td>Telangana</td>\n",
       "      <td>AgriTech</td>\n",
       "      <td>It is a seed company engaged in production, pr...</td>\n",
       "      <td>Narayana Reddy Punyala</td>\n",
       "      <td>Innovation in Food and Agriculture (IFA)</td>\n",
       "      <td>$6,000,000</td>\n",
       "      <td>NaN</td>\n",
       "    </tr>\n",
       "  </tbody>\n",
       "</table>\n",
       "</div>"
      ],
      "text/plain": [
       "    Company/Brand Founded HeadQuarter           Sector  \\\n",
       "0  Bombay Shaving     nan         NaN        Ecommerce   \n",
       "1       Ruangguru  2014.0      Mumbai           Edtech   \n",
       "2        Eduisfun     nan      Mumbai           Edtech   \n",
       "3        HomeLane  2014.0     Chennai  Interior design   \n",
       "4        Nu Genes  2004.0   Telangana         AgriTech   \n",
       "\n",
       "                                        What it does  \\\n",
       "0         Provides a range of male grooming products   \n",
       "1  A learning platform that provides topic-based ...   \n",
       "2            It aims to make learning fun via games.   \n",
       "3              Provides interior designing solutions   \n",
       "4  It is a seed company engaged in production, pr...   \n",
       "\n",
       "                                Founders  \\\n",
       "0                     Shantanu Deshpande   \n",
       "1  Adamas Belva Syah Devara, Iman Usman.   \n",
       "2                          Jatin Solanki   \n",
       "3           Srikanth Iyer, Rama Harinath   \n",
       "4                 Narayana Reddy Punyala   \n",
       "\n",
       "                                            Investor     Amount($)  \\\n",
       "0                               Sixth Sense Ventures    $6,300,000   \n",
       "1                                   General Atlantic  $150,000,000   \n",
       "2     Deepak Parekh, Amitabh Bachchan, Piyush Pandey   $28,000,000   \n",
       "3  Evolvence India Fund (EIF), Pidilite Group, FJ...   $30,000,000   \n",
       "4           Innovation in Food and Agriculture (IFA)    $6,000,000   \n",
       "\n",
       "           Stage  \n",
       "0            NaN  \n",
       "1       Series C  \n",
       "2  Fresh funding  \n",
       "3       Series D  \n",
       "4            NaN  "
      ]
     },
     "execution_count": 178,
     "metadata": {},
     "output_type": "execute_result"
    }
   ],
   "source": [
    "#Reading 2019 data from the csv files\n",
    "data_2019=pd.read_csv('startup_funding_2018_2019\\startup_funding2019.csv')\n",
    "data_2019['Founded'] = data_2019['Founded'].astype(str)\n",
    "data_2019.head(5)"
   ]
  },
  {
   "cell_type": "code",
   "execution_count": 179,
   "id": "07727f93",
   "metadata": {},
   "outputs": [
    {
     "data": {
      "text/plain": [
       "Index(['Company_Brand', 'Founded', 'HeadQuarter', 'Sector', 'What_it_does',\n",
       "       'Founders', 'Investor', 'Amount', 'Stage'],\n",
       "      dtype='object')"
      ]
     },
     "execution_count": 179,
     "metadata": {},
     "output_type": "execute_result"
    }
   ],
   "source": [
    "#Renaming column names of 2019 data to match all other datasets\n",
    "data_2019.rename(columns={'Company/Brand':'Company_Brand', 'What it does':'What_it_does', 'Amount($)':'Amount'}, inplace=True)\n",
    "data_2019.columns\n"
   ]
  },
  {
   "cell_type": "code",
   "execution_count": 180,
   "id": "cd271fc1",
   "metadata": {},
   "outputs": [],
   "source": [
    "#Removing the Lahk symbol and converting the Rupees to dollars\n",
    "exch_rate= 177.13\n",
    "amount_list=data_2019.Amount.tolist()\n",
    "amount_new=curr_converter(amount_list,exch_rate)\n",
    "data_2019['Amount']=amount_new\n",
    "data_2019['Investment_year'] = '2019'\n",
    "#data_2019=data_2019.reset_index()"
   ]
  },
  {
   "cell_type": "markdown",
   "id": "c376ae0c",
   "metadata": {},
   "source": [
    "### Merging datasets"
   ]
  },
  {
   "cell_type": "code",
   "execution_count": 181,
   "id": "92f18bcf",
   "metadata": {},
   "outputs": [
    {
     "data": {
      "text/html": [
       "<div>\n",
       "<style scoped>\n",
       "    .dataframe tbody tr th:only-of-type {\n",
       "        vertical-align: middle;\n",
       "    }\n",
       "\n",
       "    .dataframe tbody tr th {\n",
       "        vertical-align: top;\n",
       "    }\n",
       "\n",
       "    .dataframe thead th {\n",
       "        text-align: right;\n",
       "    }\n",
       "</style>\n",
       "<table border=\"1\" class=\"dataframe\">\n",
       "  <thead>\n",
       "    <tr style=\"text-align: right;\">\n",
       "      <th></th>\n",
       "      <th>index</th>\n",
       "      <th>Company_Brand</th>\n",
       "      <th>Founded</th>\n",
       "      <th>HeadQuarter</th>\n",
       "      <th>Sector</th>\n",
       "      <th>What_it_does</th>\n",
       "      <th>Founders</th>\n",
       "      <th>Investor</th>\n",
       "      <th>Stage</th>\n",
       "      <th>Amount</th>\n",
       "      <th>Investment_year</th>\n",
       "      <th>column10</th>\n",
       "    </tr>\n",
       "  </thead>\n",
       "  <tbody>\n",
       "    <tr>\n",
       "      <th>0</th>\n",
       "      <td>$0.00</td>\n",
       "      <td>Unbox Robotics</td>\n",
       "      <td>2019.0</td>\n",
       "      <td>Bangalore</td>\n",
       "      <td>AI startup</td>\n",
       "      <td>Unbox Robotics builds on-demand AI-driven ware...</td>\n",
       "      <td>Pramod Ghadge, Shahid Memon</td>\n",
       "      <td>BEENEXT, Entrepreneur First</td>\n",
       "      <td>Pre-series A</td>\n",
       "      <td>1200000</td>\n",
       "      <td>2021</td>\n",
       "      <td>NaN</td>\n",
       "    </tr>\n",
       "    <tr>\n",
       "      <th>1</th>\n",
       "      <td>$1.00</td>\n",
       "      <td>upGrad</td>\n",
       "      <td>2015.0</td>\n",
       "      <td>Mumbai</td>\n",
       "      <td>EdTech</td>\n",
       "      <td>UpGrad is an online higher education platform.</td>\n",
       "      <td>Mayank Kumar, Phalgun Kompalli, Ravijot Chugh,...</td>\n",
       "      <td>Unilazer Ventures, IIFL Asset Management</td>\n",
       "      <td>None</td>\n",
       "      <td>120000000</td>\n",
       "      <td>2021</td>\n",
       "      <td>NaN</td>\n",
       "    </tr>\n",
       "    <tr>\n",
       "      <th>2</th>\n",
       "      <td>$2.00</td>\n",
       "      <td>Lead School</td>\n",
       "      <td>2012.0</td>\n",
       "      <td>Mumbai</td>\n",
       "      <td>EdTech</td>\n",
       "      <td>LEAD School offers technology based school tra...</td>\n",
       "      <td>Smita Deorah, Sumeet Mehta</td>\n",
       "      <td>GSV Ventures, Westbridge Capital</td>\n",
       "      <td>Series D</td>\n",
       "      <td>30000000</td>\n",
       "      <td>2021</td>\n",
       "      <td>NaN</td>\n",
       "    </tr>\n",
       "    <tr>\n",
       "      <th>3</th>\n",
       "      <td>$3.00</td>\n",
       "      <td>Bizongo</td>\n",
       "      <td>2015.0</td>\n",
       "      <td>Mumbai</td>\n",
       "      <td>B2B E-commerce</td>\n",
       "      <td>Bizongo is a business-to-business online marke...</td>\n",
       "      <td>Aniket Deb, Ankit Tomar, Sachin Agrawal</td>\n",
       "      <td>CDC Group, IDG Capital</td>\n",
       "      <td>Series C</td>\n",
       "      <td>51000000</td>\n",
       "      <td>2021</td>\n",
       "      <td>NaN</td>\n",
       "    </tr>\n",
       "    <tr>\n",
       "      <th>4</th>\n",
       "      <td>$4.00</td>\n",
       "      <td>FypMoney</td>\n",
       "      <td>2021.0</td>\n",
       "      <td>Gurugram</td>\n",
       "      <td>FinTech</td>\n",
       "      <td>FypMoney is Digital NEO Bank for Teenagers, em...</td>\n",
       "      <td>Kapil Banwari</td>\n",
       "      <td>Liberatha Kallat, Mukesh Yadav, Dinesh Nagpal</td>\n",
       "      <td>Seed</td>\n",
       "      <td>2000000</td>\n",
       "      <td>2021</td>\n",
       "      <td>NaN</td>\n",
       "    </tr>\n",
       "  </tbody>\n",
       "</table>\n",
       "</div>"
      ],
      "text/plain": [
       "   index   Company_Brand Founded HeadQuarter          Sector  \\\n",
       "0  $0.00  Unbox Robotics  2019.0   Bangalore      AI startup   \n",
       "1  $1.00          upGrad  2015.0      Mumbai          EdTech   \n",
       "2  $2.00     Lead School  2012.0      Mumbai          EdTech   \n",
       "3  $3.00         Bizongo  2015.0      Mumbai  B2B E-commerce   \n",
       "4  $4.00        FypMoney  2021.0    Gurugram         FinTech   \n",
       "\n",
       "                                        What_it_does  \\\n",
       "0  Unbox Robotics builds on-demand AI-driven ware...   \n",
       "1     UpGrad is an online higher education platform.   \n",
       "2  LEAD School offers technology based school tra...   \n",
       "3  Bizongo is a business-to-business online marke...   \n",
       "4  FypMoney is Digital NEO Bank for Teenagers, em...   \n",
       "\n",
       "                                            Founders  \\\n",
       "0                        Pramod Ghadge, Shahid Memon   \n",
       "1  Mayank Kumar, Phalgun Kompalli, Ravijot Chugh,...   \n",
       "2                         Smita Deorah, Sumeet Mehta   \n",
       "3            Aniket Deb, Ankit Tomar, Sachin Agrawal   \n",
       "4                                      Kapil Banwari   \n",
       "\n",
       "                                        Investor         Stage     Amount  \\\n",
       "0                    BEENEXT, Entrepreneur First  Pre-series A    1200000   \n",
       "1       Unilazer Ventures, IIFL Asset Management          None  120000000   \n",
       "2               GSV Ventures, Westbridge Capital      Series D   30000000   \n",
       "3                         CDC Group, IDG Capital      Series C   51000000   \n",
       "4  Liberatha Kallat, Mukesh Yadav, Dinesh Nagpal          Seed    2000000   \n",
       "\n",
       "  Investment_year column10  \n",
       "0            2021      NaN  \n",
       "1            2021      NaN  \n",
       "2            2021      NaN  \n",
       "3            2021      NaN  \n",
       "4            2021      NaN  "
      ]
     },
     "execution_count": 181,
     "metadata": {},
     "output_type": "execute_result"
    }
   ],
   "source": [
    "#Concating the four datasets since they have a similar structure to one big data\n",
    "pd.set_option('display.max_rows', None)\n",
    "final_df = pd.concat([data_2021,data_2020,data_2019,data_2018],axis=0,ignore_index=True)\n",
    "final_df.head(5)\n"
   ]
  },
  {
   "cell_type": "code",
   "execution_count": 182,
   "id": "85c608f4",
   "metadata": {},
   "outputs": [],
   "source": [
    "#Saving the combined dataset to xlsx\n",
    "#final_df.to_csv(\"startup_funding_2018_2019\\combined.csv\",index=False\n",
    "#             ) "
   ]
  },
  {
   "cell_type": "markdown",
   "id": "e8edf755",
   "metadata": {},
   "source": [
    "# Data Exploration"
   ]
  },
  {
   "cell_type": "code",
   "execution_count": 183,
   "id": "004843c0",
   "metadata": {},
   "outputs": [
    {
     "name": "stdout",
     "output_type": "stream",
     "text": [
      "<class 'pandas.core.frame.DataFrame'>\n",
      "RangeIndex: 2879 entries, 0 to 2878\n",
      "Data columns (total 12 columns):\n",
      " #   Column           Non-Null Count  Dtype  \n",
      "---  ------           --------------  -----  \n",
      " 0   index            2790 non-null   float64\n",
      " 1   Company_Brand    2879 non-null   object \n",
      " 2   Founded          2140 non-null   object \n",
      " 3   HeadQuarter      2765 non-null   object \n",
      " 4   Sector           2861 non-null   object \n",
      " 5   What_it_does     2879 non-null   object \n",
      " 6   Founders         2334 non-null   object \n",
      " 7   Investor         2253 non-null   object \n",
      " 8   Stage            1941 non-null   object \n",
      " 9   Amount           2494 non-null   object \n",
      " 10  Investment_year  2879 non-null   object \n",
      " 11  column10         2 non-null      object \n",
      "dtypes: float64(1), object(11)\n",
      "memory usage: 270.0+ KB\n"
     ]
    },
    {
     "data": {
      "text/html": [
       "<div>\n",
       "<style scoped>\n",
       "    .dataframe tbody tr th:only-of-type {\n",
       "        vertical-align: middle;\n",
       "    }\n",
       "\n",
       "    .dataframe tbody tr th {\n",
       "        vertical-align: top;\n",
       "    }\n",
       "\n",
       "    .dataframe thead th {\n",
       "        text-align: right;\n",
       "    }\n",
       "</style>\n",
       "<table border=\"1\" class=\"dataframe\">\n",
       "  <thead>\n",
       "    <tr style=\"text-align: right;\">\n",
       "      <th></th>\n",
       "      <th>index</th>\n",
       "      <th>Company_Brand</th>\n",
       "      <th>Founded</th>\n",
       "      <th>HeadQuarter</th>\n",
       "      <th>Sector</th>\n",
       "      <th>What_it_does</th>\n",
       "      <th>Founders</th>\n",
       "      <th>Investor</th>\n",
       "      <th>Stage</th>\n",
       "      <th>Amount</th>\n",
       "      <th>Investment_year</th>\n",
       "      <th>column10</th>\n",
       "    </tr>\n",
       "  </thead>\n",
       "  <tbody>\n",
       "    <tr>\n",
       "      <th>0</th>\n",
       "      <td>$0.00</td>\n",
       "      <td>Unbox Robotics</td>\n",
       "      <td>2019.0</td>\n",
       "      <td>Bangalore</td>\n",
       "      <td>AI startup</td>\n",
       "      <td>Unbox Robotics builds on-demand AI-driven ware...</td>\n",
       "      <td>Pramod Ghadge, Shahid Memon</td>\n",
       "      <td>BEENEXT, Entrepreneur First</td>\n",
       "      <td>Pre-series A</td>\n",
       "      <td>1200000</td>\n",
       "      <td>2021</td>\n",
       "      <td>NaN</td>\n",
       "    </tr>\n",
       "    <tr>\n",
       "      <th>1</th>\n",
       "      <td>$1.00</td>\n",
       "      <td>upGrad</td>\n",
       "      <td>2015.0</td>\n",
       "      <td>Mumbai</td>\n",
       "      <td>EdTech</td>\n",
       "      <td>UpGrad is an online higher education platform.</td>\n",
       "      <td>Mayank Kumar, Phalgun Kompalli, Ravijot Chugh,...</td>\n",
       "      <td>Unilazer Ventures, IIFL Asset Management</td>\n",
       "      <td>None</td>\n",
       "      <td>120000000</td>\n",
       "      <td>2021</td>\n",
       "      <td>NaN</td>\n",
       "    </tr>\n",
       "  </tbody>\n",
       "</table>\n",
       "</div>"
      ],
      "text/plain": [
       "   index   Company_Brand Founded HeadQuarter      Sector  \\\n",
       "0  $0.00  Unbox Robotics  2019.0   Bangalore  AI startup   \n",
       "1  $1.00          upGrad  2015.0      Mumbai      EdTech   \n",
       "\n",
       "                                        What_it_does  \\\n",
       "0  Unbox Robotics builds on-demand AI-driven ware...   \n",
       "1     UpGrad is an online higher education platform.   \n",
       "\n",
       "                                            Founders  \\\n",
       "0                        Pramod Ghadge, Shahid Memon   \n",
       "1  Mayank Kumar, Phalgun Kompalli, Ravijot Chugh,...   \n",
       "\n",
       "                                   Investor         Stage     Amount  \\\n",
       "0               BEENEXT, Entrepreneur First  Pre-series A    1200000   \n",
       "1  Unilazer Ventures, IIFL Asset Management          None  120000000   \n",
       "\n",
       "  Investment_year column10  \n",
       "0            2021      NaN  \n",
       "1            2021      NaN  "
      ]
     },
     "execution_count": 183,
     "metadata": {},
     "output_type": "execute_result"
    }
   ],
   "source": [
    "df= final_df\n",
    "df.info()\n",
    "df.head(2)"
   ]
  },
  {
   "cell_type": "code",
   "execution_count": 184,
   "id": "9172939b",
   "metadata": {},
   "outputs": [
    {
     "data": {
      "text/plain": [
       "array(['Bangalore', 'Mumbai', 'Gurugram', 'New Delhi', 'Hyderabad',\n",
       "       'Jaipur', 'Ahmadabad', 'Chennai', None,\n",
       "       'Small Towns, Andhra Pradesh', 'Goa', 'Rajsamand', 'Ranchi',\n",
       "       'Faridabad, Haryana', 'Gujarat', 'Pune', 'Thane', 'Computer Games',\n",
       "       'Cochin', 'Noida', 'Chandigarh', 'Gurgaon', 'Vadodara',\n",
       "       'Food & Beverages', 'Pharmaceuticals\\t#REF!', 'Gurugram\\t#REF!',\n",
       "       'Kolkata', 'Ahmedabad', 'Mohali', 'Haryana', 'Indore', 'Powai',\n",
       "       'Ghaziabad', 'Nagpur', 'West Bengal', 'Patna', 'Samsitpur',\n",
       "       'Lucknow', 'Telangana', 'Silvassa', 'Thiruvananthapuram',\n",
       "       'Faridabad', 'Roorkee', 'Ambernath', 'Panchkula', 'Surat',\n",
       "       'Coimbatore', 'Andheri', 'Mangalore', 'Telugana', 'Bhubaneswar',\n",
       "       'Kottayam', 'Beijing', 'Panaji', 'Satara', 'Orissia', 'Jodhpur',\n",
       "       'New York', 'Santra', 'Mountain View, CA', 'Trivandrum',\n",
       "       'Jharkhand', 'Kanpur', 'Bhilwara', 'Guwahati',\n",
       "       'Online Media\\t#REF!', 'Kochi', 'London',\n",
       "       'Information Technology & Services', 'The Nilgiris', 'Gandhinagar',\n",
       "       'Belgaum', 'Tirunelveli, Tamilnadu', 'Singapore', 'Kerala',\n",
       "       'Jaipur, Rajastan', 'Delhi', 'Frisco, Texas, United States',\n",
       "       'California', 'Dhingsara, Haryana', 'New York, United States',\n",
       "       'San Francisco, California, United States',\n",
       "       'San Francisco, United States', 'San Ramon, California',\n",
       "       'Paris, Ile-de-France, France', 'Plano, Texas, United States',\n",
       "       'Sydney', 'San Francisco Bay Area, Silicon Valley, West Coast',\n",
       "       'Bangaldesh', 'London, England, United Kingdom',\n",
       "       'Sydney, New South Wales, Australia', 'Milano, Lombardia, Italy',\n",
       "       'Palmwoods, Queensland, Australia', 'France',\n",
       "       'San Francisco Bay Area, West Coast, Western US',\n",
       "       'Trivandrum, Kerala, India', 'Samastipur, Bihar',\n",
       "       'Irvine, California, United States', 'Tumkur, Karnataka',\n",
       "       'Newcastle Upon Tyne, Newcastle upon Tyne, United Kingdom',\n",
       "       'Shanghai, China', 'Jiaxing, Zhejiang, China', 'Rajastan',\n",
       "       'Ludhiana', 'Dehradun', 'San Franciscao', 'San Francisco',\n",
       "       'Tangerang, Jawa Barat, Indonesia', 'Berlin', 'Seattle', 'Riyadh',\n",
       "       'Seoul', 'Bangkok', 'Warangal', 'Hyderebad', 'Odisha', 'Bihar',\n",
       "       'Tamil Nadu', 'Uttar Pradesh', 'Bhopal', 'Banglore', 'Bengaluru',\n",
       "       nan, 'Uttar pradesh', 'Rajasthan', 'Bangalore, Karnataka, India',\n",
       "       'Mumbai, Maharashtra, India', 'Gurgaon, Haryana, India',\n",
       "       'Noida, Uttar Pradesh, India', 'Hyderabad, Andhra Pradesh, India',\n",
       "       'Bengaluru, Karnataka, India', 'Kalkaji, Delhi, India',\n",
       "       'Delhi, Delhi, India', 'India, Asia', 'Hubli, Karnataka, India',\n",
       "       'New Delhi, Delhi, India', 'Chennai, Tamil Nadu, India',\n",
       "       'Mohali, Punjab, India', 'Kolkata, West Bengal, India',\n",
       "       'Pune, Maharashtra, India', 'Jodhpur, Rajasthan, India',\n",
       "       'Kanpur, Uttar Pradesh, India', 'Ahmedabad, Gujarat, India',\n",
       "       'Azadpur, Delhi, India', 'Haryana, Haryana, India',\n",
       "       'Cochin, Kerala, India', 'Faridabad, Haryana, India',\n",
       "       'Jaipur, Rajasthan, India', 'Kota, Rajasthan, India',\n",
       "       'Anand, Gujarat, India', 'Bangalore City, Karnataka, India',\n",
       "       'Belgaum, Karnataka, India', 'Thane, Maharashtra, India',\n",
       "       'Margão, Goa, India', 'Indore, Madhya Pradesh, India',\n",
       "       'Alwar, Rajasthan, India', 'Kannur, Kerala, India',\n",
       "       'Ernakulam, Kerala, India', 'Kormangala, Karnataka, India',\n",
       "       'Uttar Pradesh, India, Asia', 'Andheri, Maharashtra, India',\n",
       "       'Mylapore, Tamil Nadu, India', 'Ghaziabad, Uttar Pradesh, India',\n",
       "       'Kochi, Kerala, India', 'Powai, Assam, India',\n",
       "       'Guntur, Andhra Pradesh, India', 'Kalpakkam, Tamil Nadu, India',\n",
       "       'Bhopal, Madhya Pradesh, India', 'Coimbatore, Tamil Nadu, India',\n",
       "       'Worli, Maharashtra, India', 'Alleppey, Kerala, India',\n",
       "       'Chandigarh, Chandigarh, India', 'Guindy, Tamil Nadu, India',\n",
       "       'Lucknow, Uttar Pradesh, India'], dtype=object)"
      ]
     },
     "execution_count": 184,
     "metadata": {},
     "output_type": "execute_result"
    }
   ],
   "source": [
    "df.shape\n",
    "df['HeadQuarter'].unique()"
   ]
  },
  {
   "cell_type": "code",
   "execution_count": 185,
   "id": "09fe9543",
   "metadata": {},
   "outputs": [],
   "source": [
    "#split HQ column into Town,City and Country columns\n",
    "df[['Town', 'City','Country']] = df['HeadQuarter'].str.split(',', expand=True)\n",
    "#df.head(2)\n"
   ]
  },
  {
   "cell_type": "code",
   "execution_count": 186,
   "id": "49d6d69c",
   "metadata": {},
   "outputs": [],
   "source": [
    "# Function to fill new column based on conditions\n",
    "def fill_new_column(row):\n",
    "    if row['Town'] != '':\n",
    "        return row['Town']\n",
    "    else:\n",
    "        return row['City']\n",
    "    \n",
    "# Create a new column filled with values from one column or default value if empty\n",
    "df['Headquarter_City'] = df.apply(fill_new_column, axis=1)    \n",
    "\n",
    "#df.head(2)"
   ]
  },
  {
   "cell_type": "code",
   "execution_count": 187,
   "id": "f5209245",
   "metadata": {},
   "outputs": [],
   "source": [
    "#Correct a few of the misspelled names\n",
    "hq = df.Headquarter_City.tolist()\n",
    "hq_cat=[]\n",
    "hq_cat = ['Ahmedabad' if 'ahmedabad' in str(a).lower()  or 'ahmadabad' in str(a).lower()\n",
    "         else 'Bangalore' if 'bangalore' in str(a).lower() \n",
    "         else 'Uttar Pradesh' if 'pradesh' in str(a).lower() \n",
    "         else 'Gurugram' if 'gurugram' in str(a).lower() \n",
    "         else 'Bangalore' if 'banglo' in str(a).lower() \n",
    "         else 'Hyderabad' if 'hyderebad' in str(a).lower() or 'hyderabad' in str(a).lower()\n",
    "         else a\n",
    "         for a in hq]\n",
    "hq_cat\n",
    "df['Headquarter_City']=hq_cat"
   ]
  },
  {
   "cell_type": "markdown",
   "id": "04e16ee5",
   "metadata": {},
   "source": [
    "#### Categorising the Sectors into 9 groups for easier classification\n",
    "- Technology & Software: Startups primarily focused on developing software, AI, IT solutions, and technology-related services.\n",
    "- E-commerce & Retail: Startups involved in online retail, e-commerce platforms, marketplace solutions, and retail-focused businesses.\n",
    "- Finance & FinTech: Startups operating in financial services, banking, financial technology (FinTech), cryptocurrency, and related areas.\n",
    "- Healthcare & HealthTech: Startups in the healthcare industry, including health technology (HealthTech), telemedicine, medical devices, and healthcare services.\n",
    "- Education: Startups in the Education industry, including learning,spacetech,data story telling and edtech.\n",
    "- Energy: Startups in the Energy industry, including Renewable energy,battery technology, EV systems, crude oil and other energy related services.\n",
    "- Agriculture: Startups in the Agriclture industry, including farming and fishing.\n",
    "- Hospitality: Startups in the Hospitality industry, including real estate,hotels,homes and hospitality services.\n",
    "- Others: Startups that do not fit directly into the above categories or have unique business models.\n"
   ]
  },
  {
   "cell_type": "code",
   "execution_count": 188,
   "id": "6153f6c1",
   "metadata": {},
   "outputs": [],
   "source": [
    "#Categorizing the startups into 9 groups\n",
    "sector = df.Sector.tolist()\n",
    "cat=[]\n",
    "cat = ['Finance & FinTech' if 'bank' in str(a).lower() or 'trading' in str(a).lower() or 'fintech' in str(a).lower() or 'vent' in str(a).lower() or 'capital' in str(a).lower() or 'insure' in str(a).lower() or 'crypt' in str(a).lower() or 'nft' in str(a).lower() or 'equity' in str(a).lower()\n",
    "         else 'Technology & Software' if 'ai startup' in str(a).lower() or 'it' in str(a).lower() or 'chain' in str(a).lower() or 'augment' in str(a).lower() or 'robot' in str(a).lower() or 'gamin' in str(a).lower() or 'information' in str(a).lower() or 'mobile' in str(a).lower() or 'mlops' in str(a).lower() or 'biotech' in str(a).lower() or 'space' in str(a).lower() or 'nano' in str(a).lower()\n",
    "         else 'E-commerce & Retail' if 'b2b' in str(a).lower() or 'e-com' in str(a).lower() or 'reta' in str(a).lower() or 'soci' in str(a).lower() or 'food' in str(a).lower() or 'content' in str(a).lower() or 'decor' in str(a).lower() or 'electronics' in str(a).lower() or 'apparel' in str(a).lower() or 'fashion' in str(a).lower() or 'food' in str(a).lower() or  'eye' in str(a).lower() or 'merchand' in str(a).lower()\n",
    "         else 'Education' if 'edtech' in str(a).lower() or 'learn' in str(a).lower() or 'working' in str(a).lower() or 'story' in str(a).lower()  or 'edcation' in str(a).lower() or 'engineering' in str(a).lower()\n",
    "         else 'Healthcare & HealthTech' if 'heal' in str(a).lower() or 'medi' in str(a).lower() or 'care' in str(a).lower() or 'hael' in str(a).lower() or 'nutri' in str(a).lower()\n",
    "         else 'Agriculture' if 'farm' in str(a).lower() or 'fish' in str(a).lower() or 'annabi' in str(a).lower() or 'pollution' in str(a).lower()\n",
    "         else 'Energy' if 'energy' in str(a).lower() or 'petro' in str(a).lower() or 'crude' in str(a).lower() or 'batter' in str(a).lower() or 'ev start' in str(a).lower() or 'solar' in str(a).lower() or 'ev' in str(a).lower()\n",
    "         else 'Hospitality' if 'hospitalit' in str(a).lower() or 'mortg' in str(a).lower() or 'estate' in str(a).lower() or 'touri' in str(a).lower()\n",
    "         else 'Other'\n",
    "         for a in sector]\n"
   ]
  },
  {
   "cell_type": "markdown",
   "id": "9f5e93b7",
   "metadata": {},
   "source": [
    "#### Categorizing the Stages\n",
    "Categorizing the Stages into the 8 known groups of startup funding. Though there are other ways of funding such as debt financing ,IPO, etc there are eight (8) known groups of startup funding which are the seed funding and the other seven (7) in series from A to G."
   ]
  },
  {
   "cell_type": "code",
   "execution_count": 189,
   "id": "c789af86",
   "metadata": {},
   "outputs": [],
   "source": [
    "#Categorizing the Stages into the 9 known groups of startup funding \n",
    "stages = df.Stage.tolist()\n",
    "stage=[]\n",
    "stage = ['Series A' if 'series a' in str(a).lower() \n",
    "         else 'Series B' if 'series b' in str(a).lower() \n",
    "         else 'Series C' if 'series c' in str(a).lower()\n",
    "         else 'Series D' if 'series d' in str(a).lower() \n",
    "         else 'Series E' if 'series e' in str(a).lower() \n",
    "         else 'Series F' if 'series f' in str(a).lower() \n",
    "         else 'Series G' if 'series g' in str(a).lower() \n",
    "         else 'Seed' if 'seed' in str(a).lower() \n",
    "         else 'Other'\n",
    "         for a in stages]"
   ]
  },
  {
   "cell_type": "code",
   "execution_count": 190,
   "id": "3461e56a",
   "metadata": {},
   "outputs": [],
   "source": [
    "#Adding the category and categorised stages to the dataset\n",
    "df['Category']=cat\n",
    "df['Categorised_stage']=stage"
   ]
  },
  {
   "cell_type": "code",
   "execution_count": 191,
   "id": "0e96858d",
   "metadata": {},
   "outputs": [
    {
     "data": {
      "text/html": [
       "<div>\n",
       "<style scoped>\n",
       "    .dataframe tbody tr th:only-of-type {\n",
       "        vertical-align: middle;\n",
       "    }\n",
       "\n",
       "    .dataframe tbody tr th {\n",
       "        vertical-align: top;\n",
       "    }\n",
       "\n",
       "    .dataframe thead th {\n",
       "        text-align: right;\n",
       "    }\n",
       "</style>\n",
       "<table border=\"1\" class=\"dataframe\">\n",
       "  <thead>\n",
       "    <tr style=\"text-align: right;\">\n",
       "      <th></th>\n",
       "      <th>index</th>\n",
       "      <th>Company_Brand</th>\n",
       "      <th>Founded</th>\n",
       "      <th>HeadQuarter</th>\n",
       "      <th>Sector</th>\n",
       "      <th>What_it_does</th>\n",
       "      <th>Founders</th>\n",
       "      <th>Investor</th>\n",
       "      <th>Stage</th>\n",
       "      <th>Amount</th>\n",
       "      <th>Investment_year</th>\n",
       "      <th>column10</th>\n",
       "      <th>Town</th>\n",
       "      <th>City</th>\n",
       "      <th>Country</th>\n",
       "      <th>Headquarter_City</th>\n",
       "      <th>Category</th>\n",
       "      <th>Categorised_stage</th>\n",
       "    </tr>\n",
       "  </thead>\n",
       "  <tbody>\n",
       "    <tr>\n",
       "      <th>0</th>\n",
       "      <td>$0.00</td>\n",
       "      <td>Unbox Robotics</td>\n",
       "      <td>2019.0</td>\n",
       "      <td>Bangalore</td>\n",
       "      <td>AI startup</td>\n",
       "      <td>Unbox Robotics builds on-demand AI-driven ware...</td>\n",
       "      <td>Pramod Ghadge, Shahid Memon</td>\n",
       "      <td>BEENEXT, Entrepreneur First</td>\n",
       "      <td>Pre-series A</td>\n",
       "      <td>1200000</td>\n",
       "      <td>2021</td>\n",
       "      <td>NaN</td>\n",
       "      <td>Bangalore</td>\n",
       "      <td>None</td>\n",
       "      <td>None</td>\n",
       "      <td>Bangalore</td>\n",
       "      <td>Technology &amp; Software</td>\n",
       "      <td>Series A</td>\n",
       "    </tr>\n",
       "    <tr>\n",
       "      <th>1</th>\n",
       "      <td>$1.00</td>\n",
       "      <td>upGrad</td>\n",
       "      <td>2015.0</td>\n",
       "      <td>Mumbai</td>\n",
       "      <td>EdTech</td>\n",
       "      <td>UpGrad is an online higher education platform.</td>\n",
       "      <td>Mayank Kumar, Phalgun Kompalli, Ravijot Chugh,...</td>\n",
       "      <td>Unilazer Ventures, IIFL Asset Management</td>\n",
       "      <td>None</td>\n",
       "      <td>120000000</td>\n",
       "      <td>2021</td>\n",
       "      <td>NaN</td>\n",
       "      <td>Mumbai</td>\n",
       "      <td>None</td>\n",
       "      <td>None</td>\n",
       "      <td>Mumbai</td>\n",
       "      <td>Education</td>\n",
       "      <td>Other</td>\n",
       "    </tr>\n",
       "  </tbody>\n",
       "</table>\n",
       "</div>"
      ],
      "text/plain": [
       "   index   Company_Brand Founded HeadQuarter      Sector  \\\n",
       "0  $0.00  Unbox Robotics  2019.0   Bangalore  AI startup   \n",
       "1  $1.00          upGrad  2015.0      Mumbai      EdTech   \n",
       "\n",
       "                                        What_it_does  \\\n",
       "0  Unbox Robotics builds on-demand AI-driven ware...   \n",
       "1     UpGrad is an online higher education platform.   \n",
       "\n",
       "                                            Founders  \\\n",
       "0                        Pramod Ghadge, Shahid Memon   \n",
       "1  Mayank Kumar, Phalgun Kompalli, Ravijot Chugh,...   \n",
       "\n",
       "                                   Investor         Stage     Amount  \\\n",
       "0               BEENEXT, Entrepreneur First  Pre-series A    1200000   \n",
       "1  Unilazer Ventures, IIFL Asset Management          None  120000000   \n",
       "\n",
       "  Investment_year column10       Town  City Country Headquarter_City  \\\n",
       "0            2021      NaN  Bangalore  None    None        Bangalore   \n",
       "1            2021      NaN     Mumbai  None    None           Mumbai   \n",
       "\n",
       "                Category Categorised_stage  \n",
       "0  Technology & Software          Series A  \n",
       "1              Education             Other  "
      ]
     },
     "execution_count": 191,
     "metadata": {},
     "output_type": "execute_result"
    }
   ],
   "source": [
    "df.head(2)"
   ]
  },
  {
   "cell_type": "code",
   "execution_count": 192,
   "id": "c6d93ce6",
   "metadata": {},
   "outputs": [
    {
     "name": "stdout",
     "output_type": "stream",
     "text": [
      "<class 'pandas.core.frame.DataFrame'>\n",
      "RangeIndex: 2879 entries, 0 to 2878\n",
      "Data columns (total 18 columns):\n",
      " #   Column             Non-Null Count  Dtype  \n",
      "---  ------             --------------  -----  \n",
      " 0   index              2790 non-null   float64\n",
      " 1   Company_Brand      2879 non-null   object \n",
      " 2   Founded            2140 non-null   object \n",
      " 3   HeadQuarter        2765 non-null   object \n",
      " 4   Sector             2861 non-null   object \n",
      " 5   What_it_does       2879 non-null   object \n",
      " 6   Founders           2334 non-null   object \n",
      " 7   Investor           2253 non-null   object \n",
      " 8   Stage              1941 non-null   object \n",
      " 9   Amount             2494 non-null   object \n",
      " 10  Investment_year    2879 non-null   object \n",
      " 11  column10           2 non-null      object \n",
      " 12  Town               2765 non-null   object \n",
      " 13  City               560 non-null    object \n",
      " 14  Country            540 non-null    object \n",
      " 15  Headquarter_City   2765 non-null   object \n",
      " 16  Category           2879 non-null   object \n",
      " 17  Categorised_stage  2879 non-null   object \n",
      "dtypes: float64(1), object(17)\n",
      "memory usage: 405.0+ KB\n"
     ]
    }
   ],
   "source": [
    "df.info()"
   ]
  },
  {
   "cell_type": "code",
   "execution_count": 193,
   "id": "f29a0e62",
   "metadata": {},
   "outputs": [],
   "source": [
    "#Dropping the Town,Other,City and column10 columns \n",
    "df.drop(['index','Town','Country','City','column10'],axis =1,inplace=True)"
   ]
  },
  {
   "cell_type": "code",
   "execution_count": 194,
   "id": "ee35c92b",
   "metadata": {},
   "outputs": [],
   "source": [
    "#Converting the Amount column to numeric\n",
    "df['Amount'] = pd.to_numeric(df['Amount'], errors='coerce')\n"
   ]
  },
  {
   "cell_type": "code",
   "execution_count": 195,
   "id": "5ac088db",
   "metadata": {},
   "outputs": [
    {
     "data": {
      "text/html": [
       "<div>\n",
       "<style scoped>\n",
       "    .dataframe tbody tr th:only-of-type {\n",
       "        vertical-align: middle;\n",
       "    }\n",
       "\n",
       "    .dataframe tbody tr th {\n",
       "        vertical-align: top;\n",
       "    }\n",
       "\n",
       "    .dataframe thead th {\n",
       "        text-align: right;\n",
       "    }\n",
       "</style>\n",
       "<table border=\"1\" class=\"dataframe\">\n",
       "  <thead>\n",
       "    <tr style=\"text-align: right;\">\n",
       "      <th></th>\n",
       "      <th>Company_Brand</th>\n",
       "      <th>Founded</th>\n",
       "      <th>HeadQuarter</th>\n",
       "      <th>Sector</th>\n",
       "      <th>What_it_does</th>\n",
       "      <th>Founders</th>\n",
       "      <th>Investor</th>\n",
       "      <th>Stage</th>\n",
       "      <th>Amount</th>\n",
       "      <th>Investment_year</th>\n",
       "      <th>Headquarter_City</th>\n",
       "      <th>Category</th>\n",
       "      <th>Categorised_stage</th>\n",
       "    </tr>\n",
       "  </thead>\n",
       "  <tbody>\n",
       "    <tr>\n",
       "      <th>0</th>\n",
       "      <td>Unbox Robotics</td>\n",
       "      <td>2019.0</td>\n",
       "      <td>Bangalore</td>\n",
       "      <td>AI startup</td>\n",
       "      <td>Unbox Robotics builds on-demand AI-driven ware...</td>\n",
       "      <td>Pramod Ghadge, Shahid Memon</td>\n",
       "      <td>BEENEXT, Entrepreneur First</td>\n",
       "      <td>Pre-series A</td>\n",
       "      <td>$1,200,000.00</td>\n",
       "      <td>2021</td>\n",
       "      <td>Bangalore</td>\n",
       "      <td>Technology &amp; Software</td>\n",
       "      <td>Series A</td>\n",
       "    </tr>\n",
       "  </tbody>\n",
       "</table>\n",
       "</div>"
      ],
      "text/plain": [
       "    Company_Brand Founded HeadQuarter      Sector  \\\n",
       "0  Unbox Robotics  2019.0   Bangalore  AI startup   \n",
       "\n",
       "                                        What_it_does  \\\n",
       "0  Unbox Robotics builds on-demand AI-driven ware...   \n",
       "\n",
       "                      Founders                     Investor         Stage  \\\n",
       "0  Pramod Ghadge, Shahid Memon  BEENEXT, Entrepreneur First  Pre-series A   \n",
       "\n",
       "         Amount Investment_year Headquarter_City               Category  \\\n",
       "0 $1,200,000.00            2021        Bangalore  Technology & Software   \n",
       "\n",
       "  Categorised_stage  \n",
       "0          Series A  "
      ]
     },
     "execution_count": 195,
     "metadata": {},
     "output_type": "execute_result"
    }
   ],
   "source": [
    "df.Category.unique()\n",
    "df.head(1)"
   ]
  },
  {
   "cell_type": "markdown",
   "id": "796d1f56",
   "metadata": {},
   "source": [
    "#### Filling the empty Amount rows\n",
    "- Since investments made for startups can not be zero, we are replacing the 'nan' with the median investment of the sector that the startup finds itself in.\n",
    "- Since investments made for startups are not less than $1000, we are replacing these rows with the average investment of the sector that the startup finds itself in."
   ]
  },
  {
   "cell_type": "code",
   "execution_count": 196,
   "id": "80f3bb9e",
   "metadata": {},
   "outputs": [
    {
     "data": {
      "text/plain": [
       "{'Technology & Software': 2055000.0,\n",
       " 'Education': 2000000.0,\n",
       " 'E-commerce & Retail': 4000000.0,\n",
       " 'Finance & FinTech': 5185500.0,\n",
       " 'Other': 2000000.0,\n",
       " 'Healthcare & HealthTech': 2550000.0,\n",
       " 'Energy': 2000000.0,\n",
       " 'Hospitality': 2050000.0,\n",
       " 'Agriculture': 2000000.0}"
      ]
     },
     "execution_count": 196,
     "metadata": {},
     "output_type": "execute_result"
    }
   ],
   "source": [
    "# Finding the medians of the respective category\n",
    "cat_median_dict={}\n",
    "for cat in df.Category.unique():\n",
    "    cat_median_dict[cat] = df[df.Category == cat].Amount.median()\n",
    "\n",
    "cat_median_dict"
   ]
  },
  {
   "cell_type": "code",
   "execution_count": 197,
   "id": "430cc937",
   "metadata": {},
   "outputs": [
    {
     "data": {
      "text/plain": [
       "{'Technology & Software': 18367619.888364002,\n",
       " 'Education': 32298670.270391848,\n",
       " 'E-commerce & Retail': 63950346805.5086,\n",
       " 'Finance & FinTech': 536755019.733096,\n",
       " 'Other': 29459190.50164511,\n",
       " 'Healthcare & HealthTech': 16561045.623498881,\n",
       " 'Energy': 23012981.731940795,\n",
       " 'Hospitality': 7068740.444444444,\n",
       " 'Agriculture': 4056569.6426316453}"
      ]
     },
     "execution_count": 197,
     "metadata": {},
     "output_type": "execute_result"
    }
   ],
   "source": [
    "# Finding the averages of the respective category\n",
    "cat_average_dict={}\n",
    "for cat in df.Category.unique():\n",
    "    cat_average_dict[cat] = df[df.Category == cat].Amount.mean()\n",
    "\n",
    "cat_average_dict"
   ]
  },
  {
   "cell_type": "code",
   "execution_count": 198,
   "id": "a95e6c00",
   "metadata": {},
   "outputs": [],
   "source": [
    "#Filling the nan Amount values  with their respective averages of their respective category\n",
    "index_list = df.query(\"Amount == 'nan'\").index.tolist()\n",
    "for nums in index_list:\n",
    "    cat=df.iloc[nums].Category\n",
    "    old=df.iloc[nums].Amount\n",
    "    df.replace(old,cat_average_dict[cat],inplace=True)"
   ]
  },
  {
   "cell_type": "code",
   "execution_count": 199,
   "id": "294b139b",
   "metadata": {},
   "outputs": [],
   "source": [
    "#Fill nan with their respective medians of their respective category\n",
    "index_list = df.query(\"Amount == 'nan'\").index.tolist()\n",
    "for nums in index_list:\n",
    "    cat=df.iloc[nums].Category\n",
    "    old=df.iloc[nums].Amount\n",
    "    df.replace(old,cat_median_dict[cat],inplace=True)\n"
   ]
  },
  {
   "cell_type": "code",
   "execution_count": 200,
   "id": "29332af3",
   "metadata": {},
   "outputs": [],
   "source": [
    "# Find nulls using .isnull()\n",
    "df=df.replace(r'^s*$', float('NaN'), regex = True)"
   ]
  },
  {
   "cell_type": "code",
   "execution_count": 201,
   "id": "b4fe2f6e",
   "metadata": {},
   "outputs": [
    {
     "data": {
      "text/plain": [
       "Company_Brand          0\n",
       "Founded              739\n",
       "HeadQuarter          114\n",
       "Sector                18\n",
       "What_it_does           0\n",
       "Founders             545\n",
       "Investor             626\n",
       "Stage                938\n",
       "Amount               545\n",
       "Investment_year        0\n",
       "Headquarter_City     114\n",
       "Category               0\n",
       "Categorised_stage      0\n",
       "dtype: int64"
      ]
     },
     "execution_count": 201,
     "metadata": {},
     "output_type": "execute_result"
    }
   ],
   "source": [
    "# Sum of nulls using .isna()\n",
    "df.isna().sum()"
   ]
  },
  {
   "cell_type": "code",
   "execution_count": 202,
   "id": "d311131d",
   "metadata": {},
   "outputs": [],
   "source": [
    "df.dropna(subset = ['Amount'], inplace = True) "
   ]
  },
  {
   "cell_type": "code",
   "execution_count": 203,
   "id": "45110a75",
   "metadata": {},
   "outputs": [
    {
     "data": {
      "text/plain": [
       "(21, 13)"
      ]
     },
     "execution_count": 203,
     "metadata": {},
     "output_type": "execute_result"
    }
   ],
   "source": [
    "#finding duplicates\n",
    "duplicate = df[df.duplicated()]\n",
    "duplicate.shape"
   ]
  },
  {
   "cell_type": "markdown",
   "id": "c5322281",
   "metadata": {},
   "source": [
    "#### OBSERVATION\n",
    "- There are 21 duplicates in the dataset"
   ]
  },
  {
   "cell_type": "code",
   "execution_count": 204,
   "id": "715a4719",
   "metadata": {},
   "outputs": [
    {
     "data": {
      "text/html": [
       "<div>\n",
       "<style scoped>\n",
       "    .dataframe tbody tr th:only-of-type {\n",
       "        vertical-align: middle;\n",
       "    }\n",
       "\n",
       "    .dataframe tbody tr th {\n",
       "        vertical-align: top;\n",
       "    }\n",
       "\n",
       "    .dataframe thead th {\n",
       "        text-align: right;\n",
       "    }\n",
       "</style>\n",
       "<table border=\"1\" class=\"dataframe\">\n",
       "  <thead>\n",
       "    <tr style=\"text-align: right;\">\n",
       "      <th></th>\n",
       "      <th>Company_Brand</th>\n",
       "      <th>Founded</th>\n",
       "      <th>HeadQuarter</th>\n",
       "      <th>Sector</th>\n",
       "      <th>What_it_does</th>\n",
       "      <th>Founders</th>\n",
       "      <th>Investor</th>\n",
       "      <th>Stage</th>\n",
       "      <th>Amount</th>\n",
       "      <th>Investment_year</th>\n",
       "      <th>Headquarter_City</th>\n",
       "      <th>Category</th>\n",
       "      <th>Categorised_stage</th>\n",
       "    </tr>\n",
       "  </thead>\n",
       "  <tbody>\n",
       "    <tr>\n",
       "      <th>0</th>\n",
       "      <td>Unbox Robotics</td>\n",
       "      <td>2019.0</td>\n",
       "      <td>Bangalore</td>\n",
       "      <td>AI startup</td>\n",
       "      <td>Unbox Robotics builds on-demand AI-driven ware...</td>\n",
       "      <td>Pramod Ghadge, Shahid Memon</td>\n",
       "      <td>BEENEXT, Entrepreneur First</td>\n",
       "      <td>Pre-series A</td>\n",
       "      <td>$1,200,000.00</td>\n",
       "      <td>2021</td>\n",
       "      <td>Bangalore</td>\n",
       "      <td>Technology &amp; Software</td>\n",
       "      <td>Series A</td>\n",
       "    </tr>\n",
       "    <tr>\n",
       "      <th>1</th>\n",
       "      <td>upGrad</td>\n",
       "      <td>2015.0</td>\n",
       "      <td>Mumbai</td>\n",
       "      <td>EdTech</td>\n",
       "      <td>UpGrad is an online higher education platform.</td>\n",
       "      <td>Mayank Kumar, Phalgun Kompalli, Ravijot Chugh,...</td>\n",
       "      <td>Unilazer Ventures, IIFL Asset Management</td>\n",
       "      <td>None</td>\n",
       "      <td>$120,000,000.00</td>\n",
       "      <td>2021</td>\n",
       "      <td>Mumbai</td>\n",
       "      <td>Education</td>\n",
       "      <td>Other</td>\n",
       "    </tr>\n",
       "  </tbody>\n",
       "</table>\n",
       "</div>"
      ],
      "text/plain": [
       "    Company_Brand Founded HeadQuarter      Sector  \\\n",
       "0  Unbox Robotics  2019.0   Bangalore  AI startup   \n",
       "1          upGrad  2015.0      Mumbai      EdTech   \n",
       "\n",
       "                                        What_it_does  \\\n",
       "0  Unbox Robotics builds on-demand AI-driven ware...   \n",
       "1     UpGrad is an online higher education platform.   \n",
       "\n",
       "                                            Founders  \\\n",
       "0                        Pramod Ghadge, Shahid Memon   \n",
       "1  Mayank Kumar, Phalgun Kompalli, Ravijot Chugh,...   \n",
       "\n",
       "                                   Investor         Stage          Amount  \\\n",
       "0               BEENEXT, Entrepreneur First  Pre-series A   $1,200,000.00   \n",
       "1  Unilazer Ventures, IIFL Asset Management          None $120,000,000.00   \n",
       "\n",
       "  Investment_year Headquarter_City               Category Categorised_stage  \n",
       "0            2021        Bangalore  Technology & Software          Series A  \n",
       "1            2021           Mumbai              Education             Other  "
      ]
     },
     "execution_count": 204,
     "metadata": {},
     "output_type": "execute_result"
    }
   ],
   "source": [
    "#Dropping the duplicates\n",
    "df.drop_duplicates()\n",
    "df.head(2)"
   ]
  },
  {
   "cell_type": "code",
   "execution_count": 205,
   "id": "6bd9aa29",
   "metadata": {},
   "outputs": [
    {
     "data": {
      "text/html": [
       "<div>\n",
       "<style scoped>\n",
       "    .dataframe tbody tr th:only-of-type {\n",
       "        vertical-align: middle;\n",
       "    }\n",
       "\n",
       "    .dataframe tbody tr th {\n",
       "        vertical-align: top;\n",
       "    }\n",
       "\n",
       "    .dataframe thead th {\n",
       "        text-align: right;\n",
       "    }\n",
       "</style>\n",
       "<table border=\"1\" class=\"dataframe\">\n",
       "  <thead>\n",
       "    <tr style=\"text-align: right;\">\n",
       "      <th></th>\n",
       "      <th>count</th>\n",
       "      <th>mean</th>\n",
       "      <th>std</th>\n",
       "      <th>min</th>\n",
       "      <th>25%</th>\n",
       "      <th>50%</th>\n",
       "      <th>75%</th>\n",
       "      <th>max</th>\n",
       "    </tr>\n",
       "  </thead>\n",
       "  <tbody>\n",
       "    <tr>\n",
       "      <th>Amount</th>\n",
       "      <td>$2,334.00</td>\n",
       "      <td>$8,689,203,248.22</td>\n",
       "      <td>$413,991,936,207.24</td>\n",
       "      <td>$1.00</td>\n",
       "      <td>$700,000.00</td>\n",
       "      <td>$2,940,000.00</td>\n",
       "      <td>$11,000,000.00</td>\n",
       "      <td>$20,000,002,000,000.00</td>\n",
       "    </tr>\n",
       "  </tbody>\n",
       "</table>\n",
       "</div>"
      ],
      "text/plain": [
       "           count              mean                 std   min         25%  \\\n",
       "Amount $2,334.00 $8,689,203,248.22 $413,991,936,207.24 $1.00 $700,000.00   \n",
       "\n",
       "                 50%            75%                    max  \n",
       "Amount $2,940,000.00 $11,000,000.00 $20,000,002,000,000.00  "
      ]
     },
     "execution_count": 205,
     "metadata": {},
     "output_type": "execute_result"
    }
   ],
   "source": [
    "#Converting the Amount column to numeric\n",
    "df.describe().T"
   ]
  },
  {
   "cell_type": "code",
   "execution_count": 206,
   "id": "5be642f0",
   "metadata": {},
   "outputs": [],
   "source": [
    "### Only india cities\n",
    "\n",
    "indian_cities=['Bangalore', 'Mumbai','Gurugram', 'New Delhi','Hyderabad','Jaipur', 'Ahmedabad', 'Chennai','Goa','Rajsamand','Ranchi','Faridabad', 'Gujarat','Thane','Pune','Cochin',\n",
    " 'Noida', 'Chandigarh','Gurgaon','Vadodara','Kolkata', 'Haryana','Indore','Powai','Ghaziabad','Nagpur','West Bengal','Patna','Samsitpur','Lucknow','Telangana','Silvassa', 'Ambernath',\n",
    " 'Panchkula','Surat', 'Andheri','Telugana','Bhubaneswar','Kottayam', 'Panaji','Coimbatore','Satara',\n",
    " 'Orissia','Jodhpur','Santra','Trivandrum','Bhilwara','Kochi', 'The Nilgiris','Gandhinagar', 'Belgaum','Tirunelveli','Delhi', 'Dhingsara',\n",
    " 'Bangaldesh','Samastipur','Rajastan','Ludhiana','Dehradun',\n",
    " 'Kanpur','Odisha','Bihar','Uttar Pradesh','Banglore', 'Rajasthan','Bengaluru','Kalkaji','India',\n",
    " 'Kota','Margão','Kannur','Kormangala','Mylapore','Guntur','Kalpakkam','Bhopal','Alleppey','Guindy']\n",
    "\n",
    "\n",
    "\n",
    "df=df[df['Headquarter_City'].isin(indian_cities)]\n"
   ]
  },
  {
   "cell_type": "code",
   "execution_count": 207,
   "id": "b16b7ddd",
   "metadata": {},
   "outputs": [],
   "source": [
    "#Checking Normality of the data \n",
    "\n",
    "def check_normality(data,name):\n",
    "    test_stat_normality, p_value_normality=stats.shapiro(data)\n",
    "    print(\"p value:%.10f\" % p_value_normality)\n",
    "    if p_value_normality <0.05:\n",
    "        print(f\"Reject null hypothesis >> The data for {name} is not normally distributed\")\n",
    "    else:\n",
    "        print(f\"Fail to reject null hypothesis >> The data for {name} is normally distributed\")"
   ]
  },
  {
   "cell_type": "code",
   "execution_count": 208,
   "id": "ada78c34",
   "metadata": {},
   "outputs": [],
   "source": [
    "fintech=df[df.Category=='Finance & FinTech']\n",
    "tech = df[df.Category=='Technology & Software']\n",
    "commerce=df[df.Category=='E-commerce & Retail']\n",
    "health=df[df.Category=='Healthcare & HealthTech']\n",
    "edu=df[df.Category=='Education']\n",
    "agric = df[df.Category=='Agriculture']\n",
    "energy = df[df.Category == 'Energy']\n",
    "other=df[df.Category=='Other']\n"
   ]
  },
  {
   "cell_type": "code",
   "execution_count": 209,
   "id": "f5a83c6a",
   "metadata": {},
   "outputs": [
    {
     "name": "stdout",
     "output_type": "stream",
     "text": [
      "p value:0.0000000000\n",
      "Reject null hypothesis >> The data for Finance & FinTech is not normally distributed\n",
      "p value:0.0000000000\n",
      "Reject null hypothesis >> The data for Technology & Software is not normally distributed\n",
      "p value:0.0000000000\n",
      "Reject null hypothesis >> The data for E-commerce & Retail is not normally distributed\n",
      "p value:0.0000000000\n",
      "Reject null hypothesis >> The data for Healthcare & HealthTech is not normally distributed\n",
      "p value:0.0000000000\n",
      "Reject null hypothesis >> The data for Education is not normally distributed\n",
      "p value:0.0282336939\n",
      "Reject null hypothesis >> The data for Agriculture is not normally distributed\n",
      "p value:0.0000000000\n",
      "Reject null hypothesis >> The data for Energy is not normally distributed\n",
      "p value:0.0000000000\n",
      "Reject null hypothesis >> The data for Other is not normally distributed\n"
     ]
    }
   ],
   "source": [
    "\n",
    "check_normality(fintech.Amount,'Finance & FinTech')\n",
    "check_normality(tech.Amount,'Technology & Software')\n",
    "check_normality(commerce.Amount,'E-commerce & Retail')\n",
    "check_normality(health.Amount,'Healthcare & HealthTech')\n",
    "check_normality(edu.Amount,'Education')\n",
    "check_normality(agric.Amount,'Agriculture')\n",
    "check_normality(energy.Amount,'Energy')\n",
    "check_normality(other.Amount,'Other')\n"
   ]
  },
  {
   "cell_type": "code",
   "execution_count": 210,
   "id": "85d58984",
   "metadata": {},
   "outputs": [
    {
     "name": "stdout",
     "output_type": "stream",
     "text": [
      "p value:0.5223\n",
      "Fail to reject null hypothesis >> The variances of the samples are same.\n"
     ]
    }
   ],
   "source": [
    "#Use an ANOVA test (READ ABOUT IT) (Non parametric tests)\n",
    "#Using the P-Levene to test the Hypothesis\n",
    "stat, pvalue_levene= stats.levene(fintech.Amount, commerce.Amount, health.Amount,tech.Amount,edu.Amount,agric.Amount,energy.Amount,other.Amount)\n",
    "\n",
    "print(\"p value:%.4f\" % pvalue_levene)\n",
    "if pvalue_levene <0.05:\n",
    "    print(\"Reject null hypothesis >> The variances of the samples are different.\")\n",
    "else:\n",
    "    print(\"Fail to reject null hypothesis >> The variances of the samples are same.\")"
   ]
  },
  {
   "cell_type": "markdown",
   "id": "14032d50",
   "metadata": {},
   "source": [
    "#### OBSERVATION\n",
    "- Though the variances of the samples are the same thereby satisifying the homogeneity of variance,the distribution of the samples differ therefore the data calls for a non-parametric test on its hypothesis.\n",
    "- Using ANOVA to test the hypothesis will introduce a significant level of error. \n",
    "- Conducting a non-parametric test will be ideal (the Kruskal-Wallis test)."
   ]
  },
  {
   "cell_type": "code",
   "execution_count": 211,
   "id": "6e6100a0",
   "metadata": {},
   "outputs": [
    {
     "name": "stdout",
     "output_type": "stream",
     "text": [
      "Statistics=48.664, p=0.0000000264\n",
      "One or more sample distributions are not equal distributions (reject null Hypothesis)\n"
     ]
    }
   ],
   "source": [
    "\n",
    "stat, p = kruskal(fintech.Amount, commerce.Amount, health.Amount,tech.Amount,edu.Amount,agric.Amount,energy.Amount,other.Amount)\n",
    "print('Statistics=%.3f, p=%.10f' % (stat, p))\n",
    "\n",
    "if p > 0.05:\n",
    " print('All sample distributions are the same (fail to reject H0)')\n",
    "else:\n",
    " print('One or more sample distributions are not equal distributions (reject null Hypothesis)')"
   ]
  },
  {
   "cell_type": "markdown",
   "id": "4dfe4dc7",
   "metadata": {},
   "source": [
    "### Analytical Questions"
   ]
  },
  {
   "cell_type": "code",
   "execution_count": 212,
   "id": "f0f4bdde",
   "metadata": {},
   "outputs": [
    {
     "data": {
      "text/html": [
       "<div>\n",
       "<style scoped>\n",
       "    .dataframe tbody tr th:only-of-type {\n",
       "        vertical-align: middle;\n",
       "    }\n",
       "\n",
       "    .dataframe tbody tr th {\n",
       "        vertical-align: top;\n",
       "    }\n",
       "\n",
       "    .dataframe thead th {\n",
       "        text-align: right;\n",
       "    }\n",
       "</style>\n",
       "<table border=\"1\" class=\"dataframe\">\n",
       "  <thead>\n",
       "    <tr style=\"text-align: right;\">\n",
       "      <th></th>\n",
       "      <th>Company_Brand</th>\n",
       "      <th>Founded</th>\n",
       "      <th>HeadQuarter</th>\n",
       "      <th>Sector</th>\n",
       "      <th>What_it_does</th>\n",
       "      <th>Founders</th>\n",
       "      <th>Investor</th>\n",
       "      <th>Stage</th>\n",
       "      <th>Amount</th>\n",
       "      <th>Investment_year</th>\n",
       "      <th>Headquarter_City</th>\n",
       "      <th>Category</th>\n",
       "      <th>Categorised_stage</th>\n",
       "    </tr>\n",
       "  </thead>\n",
       "  <tbody>\n",
       "    <tr>\n",
       "      <th>0</th>\n",
       "      <td>Unbox Robotics</td>\n",
       "      <td>2019.0</td>\n",
       "      <td>Bangalore</td>\n",
       "      <td>AI startup</td>\n",
       "      <td>Unbox Robotics builds on-demand AI-driven ware...</td>\n",
       "      <td>Pramod Ghadge, Shahid Memon</td>\n",
       "      <td>BEENEXT, Entrepreneur First</td>\n",
       "      <td>Pre-series A</td>\n",
       "      <td>$1,200,000.00</td>\n",
       "      <td>2021</td>\n",
       "      <td>Bangalore</td>\n",
       "      <td>Technology &amp; Software</td>\n",
       "      <td>Series A</td>\n",
       "    </tr>\n",
       "    <tr>\n",
       "      <th>1</th>\n",
       "      <td>upGrad</td>\n",
       "      <td>2015.0</td>\n",
       "      <td>Mumbai</td>\n",
       "      <td>EdTech</td>\n",
       "      <td>UpGrad is an online higher education platform.</td>\n",
       "      <td>Mayank Kumar, Phalgun Kompalli, Ravijot Chugh,...</td>\n",
       "      <td>Unilazer Ventures, IIFL Asset Management</td>\n",
       "      <td>None</td>\n",
       "      <td>$120,000,000.00</td>\n",
       "      <td>2021</td>\n",
       "      <td>Mumbai</td>\n",
       "      <td>Education</td>\n",
       "      <td>Other</td>\n",
       "    </tr>\n",
       "  </tbody>\n",
       "</table>\n",
       "</div>"
      ],
      "text/plain": [
       "    Company_Brand Founded HeadQuarter      Sector  \\\n",
       "0  Unbox Robotics  2019.0   Bangalore  AI startup   \n",
       "1          upGrad  2015.0      Mumbai      EdTech   \n",
       "\n",
       "                                        What_it_does  \\\n",
       "0  Unbox Robotics builds on-demand AI-driven ware...   \n",
       "1     UpGrad is an online higher education platform.   \n",
       "\n",
       "                                            Founders  \\\n",
       "0                        Pramod Ghadge, Shahid Memon   \n",
       "1  Mayank Kumar, Phalgun Kompalli, Ravijot Chugh,...   \n",
       "\n",
       "                                   Investor         Stage          Amount  \\\n",
       "0               BEENEXT, Entrepreneur First  Pre-series A   $1,200,000.00   \n",
       "1  Unilazer Ventures, IIFL Asset Management          None $120,000,000.00   \n",
       "\n",
       "  Investment_year Headquarter_City               Category Categorised_stage  \n",
       "0            2021        Bangalore  Technology & Software          Series A  \n",
       "1            2021           Mumbai              Education             Other  "
      ]
     },
     "execution_count": 212,
     "metadata": {},
     "output_type": "execute_result"
    }
   ],
   "source": [
    "df.head(2)"
   ]
  },
  {
   "cell_type": "code",
   "execution_count": 213,
   "id": "b292970f",
   "metadata": {},
   "outputs": [],
   "source": [
    "#Converting Amount to millions of dollars\n",
    "df['Amount']=df.Amount/1000000\n",
    "pd.options.display.float_format = '${:,.2f}'.format"
   ]
  },
  {
   "cell_type": "code",
   "execution_count": null,
   "id": "861db2e3",
   "metadata": {},
   "outputs": [],
   "source": [
    "#Saving the combined dataset to xlsx\n",
    "final_df.to_csv(\"startup_funding_2018_2019\\combined.csv\",index=False\n",
    "            )"
   ]
  },
  {
   "cell_type": "markdown",
   "id": "7edf5584",
   "metadata": {},
   "source": [
    "#### Observation\n",
    "Level of confidence in startups by investors"
   ]
  },
  {
   "cell_type": "markdown",
   "id": "84792fe7",
   "metadata": {},
   "source": [
    "#### 1. Does location of headquarters affect the amount of funding or investments?"
   ]
  },
  {
   "cell_type": "code",
   "execution_count": 228,
   "id": "b9f2dbbe",
   "metadata": {},
   "outputs": [
    {
     "data": {
      "text/plain": [
       "Headquarter_City\n",
       "Gurugram      $94,375.37\n",
       "Mumbai           $597.02\n",
       "Kalpakkam        $210.00\n",
       "Faridabad         $82.20\n",
       "Haryana           $35.63\n",
       "Bangalore         $33.85\n",
       "Rajasthan         $33.00\n",
       "Guindy            $30.00\n",
       "Bhubaneswar       $30.00\n",
       "Patna             $30.00\n",
       "Name: Amount, dtype: float64"
      ]
     },
     "execution_count": 228,
     "metadata": {},
     "output_type": "execute_result"
    }
   ],
   "source": [
    "startup_loc= df.groupby('Headquarter_City')['Amount'].mean().sort_values(ascending=False).head(10)\n",
    "\n",
    "startup_loc"
   ]
  },
  {
   "cell_type": "code",
   "execution_count": 229,
   "id": "18211753",
   "metadata": {},
   "outputs": [
    {
     "data": {
      "text/plain": [
       "<AxesSubplot:title={'center':'Top Ten Average Investments per Headquarter Locations'}, xlabel='Headquarter_City'>"
      ]
     },
     "execution_count": 229,
     "metadata": {},
     "output_type": "execute_result"
    },
    {
     "data": {
      "image/png": "[encoded data removed]",
      "text/plain": [
       "<Figure size 640x480 with 1 Axes>"
      ]
     },
     "metadata": {},
     "output_type": "display_data"
    }
   ],
   "source": [
    "startup_loc.plot(kind=\"bar\",title='Top Ten Average Investments per Headquarter Locations', legend=True,rot=30,y='Millions of Dollars')\n"
   ]
  },
  {
   "cell_type": "markdown",
   "id": "9674676f",
   "metadata": {},
   "source": [
    "#### Observation\n",
    "Gurugram is a business tech hub in the center \n"
   ]
  },
  {
   "cell_type": "markdown",
   "id": "35b2e717",
   "metadata": {},
   "source": [
    "#### 2. What is the average funding needed per Sector/Category of start up affect the fundings?"
   ]
  },
  {
   "cell_type": "code",
   "execution_count": 237,
   "id": "25d1e97f",
   "metadata": {},
   "outputs": [
    {
     "data": {
      "text/plain": [
       "Category\n",
       "E-commerce & Retail       $65,836.62\n",
       "Finance & FinTech            $567.13\n",
       "Education                     $28.44\n",
       "Other                         $26.02\n",
       "Energy                        $21.35\n",
       "Technology & Software         $18.21\n",
       "Healthcare & HealthTech       $16.00\n",
       "Hospitality                    $7.07\n",
       "Agriculture                    $4.06\n",
       "Name: Amount, dtype: float64"
      ]
     },
     "execution_count": 237,
     "metadata": {},
     "output_type": "execute_result"
    }
   ],
   "source": [
    "####Make the necessary changes\n",
    "startup_cat= df.groupby('Category')['Amount'].mean().sort_values(ascending=False)\n",
    "startup_cat"
   ]
  },
  {
   "cell_type": "code",
   "execution_count": 238,
   "id": "2828ab58",
   "metadata": {},
   "outputs": [
    {
     "data": {
      "text/plain": [
       "<AxesSubplot:title={'center':'Average Investments recorded per Category'}, xlabel='Category'>"
      ]
     },
     "execution_count": 238,
     "metadata": {},
     "output_type": "execute_result"
    },
    {
     "data": {
      "image/png": "[encoded data removed]",
      "text/plain": [
       "<Figure size 640x480 with 1 Axes>"
      ]
     },
     "metadata": {},
     "output_type": "display_data"
    }
   ],
   "source": [
    "startup_cat.plot(kind=\"bar\",title='Average Investments recorded per Category', legend=True,rot=30,y='Millions of Dollars')"
   ]
  },
  {
   "cell_type": "markdown",
   "id": "11b3b1ea",
   "metadata": {},
   "source": [
    "#### Observation\n",
    "E-commerce & Retail having the highest average investment shows that this Idustrial Category is vast and booming with a lot of potential. This high average investment shows that there are numerous startups that fall within this category and there is a level of expertise needed to gain a large market share of this very competitve sector."
   ]
  },
  {
   "cell_type": "markdown",
   "id": "2f27f379",
   "metadata": {},
   "source": [
    "#### 3. How many companies are in the different sectors of funding ?"
   ]
  },
  {
   "cell_type": "code",
   "execution_count": 218,
   "id": "ad595f86",
   "metadata": {},
   "outputs": [
    {
     "data": {
      "text/plain": [
       "Categorised_stage\n",
       "Other       816\n",
       "Seed        528\n",
       "Series A    506\n",
       "Series B    139\n",
       "Series C    106\n",
       "Series D     52\n",
       "Series E     30\n",
       "Series F     11\n",
       "Series G      3\n",
       "Name: Category, dtype: int64"
      ]
     },
     "execution_count": 218,
     "metadata": {},
     "output_type": "execute_result"
    }
   ],
   "source": [
    "startup_stages= df.groupby(['Categorised_stage'])['Category'].count().sort_values(ascending=False)\n",
    "startup_stages"
   ]
  },
  {
   "cell_type": "code",
   "execution_count": 219,
   "id": "ffd3ba67",
   "metadata": {},
   "outputs": [
    {
     "data": {
      "text/plain": [
       "<AxesSubplot:title={'center':'Number of companies in the different funding sectors'}, xlabel='Categorised_stage'>"
      ]
     },
     "execution_count": 219,
     "metadata": {},
     "output_type": "execute_result"
    },
    {
     "data": {
      "image/png": "[encoded data removed]",
      "text/plain": [
       "<Figure size 640x480 with 1 Axes>"
      ]
     },
     "metadata": {},
     "output_type": "display_data"
    }
   ],
   "source": [
    "startup_stages.plot(kind=\"bar\",title='Number of companies in the different funding sectors', legend=True,rot=30,y='Millions of Dollars')"
   ]
  },
  {
   "cell_type": "markdown",
   "id": "8a2f3c5e",
   "metadata": {},
   "source": [
    "#### Observation\n",
    "This graph ultimately shows that there is a lot of untapped investments in the startups in India. With almost 800 companies looking other sources of funding such as loans and debt financing, investors can give startups lower rates to not only get a good return on investment but also own a part of the startup company."
   ]
  },
  {
   "cell_type": "markdown",
   "id": "a890a14d",
   "metadata": {},
   "source": [
    "#### 4. Which stages give out the highest investment amounts?"
   ]
  },
  {
   "cell_type": "code",
   "execution_count": 230,
   "id": "d1406af8",
   "metadata": {},
   "outputs": [
    {
     "data": {
      "text/plain": [
       "Categorised_stage\n",
       "Series A   $39,531.97\n",
       "Series F      $330.93\n",
       "Other         $305.87\n",
       "Series G      $197.67\n",
       "Series E      $114.55\n",
       "Series D       $68.43\n",
       "Series C       $48.30\n",
       "Series B       $24.44\n",
       "Seed            $1.79\n",
       "Name: Amount, dtype: float64"
      ]
     },
     "execution_count": 230,
     "metadata": {},
     "output_type": "execute_result"
    }
   ],
   "source": [
    "startup_sectors= df.groupby('Categorised_stage')['Amount'].mean().sort_values(ascending=False)\n",
    "startup_sectors"
   ]
  },
  {
   "cell_type": "code",
   "execution_count": 248,
   "id": "0276ddd2",
   "metadata": {},
   "outputs": [
    {
     "data": {
      "text/plain": [
       "<AxesSubplot:title={'center':'Average investment per funding sectors'}, xlabel='Categorised_stage'>"
      ]
     },
     "execution_count": 248,
     "metadata": {},
     "output_type": "execute_result"
    },
    {
     "data": {
      "image/png": "[encoded data removed]",
      "text/plain": [
       "<Figure size 640x480 with 1 Axes>"
      ]
     },
     "metadata": {},
     "output_type": "display_data"
    }
   ],
   "source": [
    "startup_sectors.plot(kind=\"bar\",title='Average investment per funding sectors', legend=True,rot=30,y='Millions of Dollars')"
   ]
  },
  {
   "cell_type": "markdown",
   "id": "58227356",
   "metadata": {},
   "source": [
    "#### Observation\n",
    "Most investors are more comfortable with startups that have a track record of recieving funds and are able to account for all monies spent. Series A sector having the highest number of companies whilst Seed sector holdin the lowest companies is in line with the earlier "
   ]
  },
  {
   "cell_type": "markdown",
   "id": "e6071267",
   "metadata": {},
   "source": [
    "#### 5. Which cities have the highest number of startups and at what levels?"
   ]
  },
  {
   "cell_type": "code",
   "execution_count": 244,
   "id": "c4457266",
   "metadata": {},
   "outputs": [
    {
     "data": {
      "text/plain": [
       "Headquarter_City  Categorised_stage\n",
       "Bangalore         Other                248\n",
       "                  Seed                 167\n",
       "                  Series A             164\n",
       "Mumbai            Other                161\n",
       "                  Seed                  89\n",
       "                  Series A              81\n",
       "New Delhi         Other                 79\n",
       "Name: Categorised_stage, dtype: int64"
      ]
     },
     "execution_count": 244,
     "metadata": {},
     "output_type": "execute_result"
    }
   ],
   "source": [
    "startup_cities= df.groupby(['Headquarter_City','Categorised_stage'])['Categorised_stage'].count().sort_values(ascending=False).head(7)\n",
    "startup_cities"
   ]
  },
  {
   "cell_type": "code",
   "execution_count": 245,
   "id": "b772ac95",
   "metadata": {},
   "outputs": [
    {
     "data": {
      "text/plain": [
       "<AxesSubplot:title={'center':'Number of companies in the different funding sectors'}, xlabel='Headquarter_City,Categorised_stage'>"
      ]
     },
     "execution_count": 245,
     "metadata": {},
     "output_type": "execute_result"
    },
    {
     "data": {
      "image/png": "[encoded data removed]",
      "text/plain": [
       "<Figure size 640x480 with 1 Axes>"
      ]
     },
     "metadata": {},
     "output_type": "display_data"
    }
   ],
   "source": [
    "startup_cities.plot(kind=\"bar\",title='Number of companies in the different funding sectors', legend=True,rot=30,y='Millions of Dollars')"
   ]
  },
  {
   "cell_type": "markdown",
   "id": "7caa3d38",
   "metadata": {},
   "source": [
    "#### Observation\n",
    "Bangalore has the highest number of startups with almost 250 startups funded by other sources such as debt financing, 167 startups in seed funding and 164 startups in Series A funding."
   ]
  },
  {
   "cell_type": "markdown",
   "id": "f7903a9c",
   "metadata": {},
   "source": [
    "#### 6. What is the average amount of funding startups receive per year?"
   ]
  },
  {
   "cell_type": "code",
   "execution_count": 246,
   "id": "b6150d50",
   "metadata": {},
   "outputs": [
    {
     "data": {
      "text/plain": [
       "Investment_year\n",
       "2018       $15.71\n",
       "2019       $42.65\n",
       "2020      $123.43\n",
       "2021   $18,930.82\n",
       "Name: Amount, dtype: float64"
      ]
     },
     "execution_count": 246,
     "metadata": {},
     "output_type": "execute_result"
    }
   ],
   "source": [
    "startup_year= df.groupby('Investment_year')['Amount'].mean().sort_values(ascending=True)\n",
    "startup_year"
   ]
  },
  {
   "cell_type": "code",
   "execution_count": 247,
   "id": "3d56f210",
   "metadata": {},
   "outputs": [
    {
     "data": {
      "text/plain": [
       "<AxesSubplot:title={'center':'Number of companies in the different funding sectors'}, xlabel='Investment_year'>"
      ]
     },
     "execution_count": 247,
     "metadata": {},
     "output_type": "execute_result"
    },
    {
     "data": {
      "image/png": "[encoded data removed]",
      "text/plain": [
       "<Figure size 640x480 with 1 Axes>"
      ]
     },
     "metadata": {},
     "output_type": "display_data"
    }
   ],
   "source": [
    "startup_year.plot(kind=\"bar\",title='Number of companies in the different funding sectors', legend=True,rot=30,y='Millions of Dollars')"
   ]
  },
  {
   "cell_type": "markdown",
   "id": "3841bb65",
   "metadata": {},
   "source": [
    "#### Observation\n",
    "From the graph,it can be seen that there is an exponentially growing interest in startup funding."
   ]
  },
  {
   "cell_type": "markdown",
   "id": "a23feb2e",
   "metadata": {},
   "source": [
    "##### 7. What is the level of confidence of startups in investors over the years of establishment"
   ]
  },
  {
   "cell_type": "code",
   "execution_count": 226,
   "id": "d11f3a50",
   "metadata": {},
   "outputs": [
    {
     "data": {
      "text/plain": [
       "<AxesSubplot:title={'center':'Number of Investments recieved per year of Startup Establishment'}, xlabel='Founded'>"
      ]
     },
     "execution_count": 226,
     "metadata": {},
     "output_type": "execute_result"
    },
    {
     "data": {
      "image/png": "[encoded data removed]",
      "text/plain": [
       "<Figure size 640x480 with 1 Axes>"
      ]
     },
     "metadata": {},
     "output_type": "display_data"
    }
   ],
   "source": [
    "startup_conf= df.groupby(['Founded'])['Investment_year'].count().head(20)\n",
    "startup_conf.plot(kind=\"bar\",title='Number of Investments recieved per year of Startup Establishment', legend=True,rot=50,y='Millions of Dollars')"
   ]
  },
  {
   "cell_type": "markdown",
   "id": "81e3b045",
   "metadata": {},
   "source": [
    "#### Observation\n",
    "From the graph it can be realised that there was a sudden keen interest and confidence in investment funding by startups from 2010 and then interest grew exponentially till 2015. This interest and confidence dwindled from 2016 to 2020 and this can be attributed to the difficulty of finding investors and cost of funding."
   ]
  },
  {
   "cell_type": "markdown",
   "id": "7bc4fd9e",
   "metadata": {},
   "source": [
    "#### 8. Year of establishment as against average investment in its year of funding"
   ]
  },
  {
   "cell_type": "code",
   "execution_count": 227,
   "id": "670bc723",
   "metadata": {},
   "outputs": [
    {
     "data": {
      "text/plain": [
       "<AxesSubplot:title={'center':'Top Ten Startups Locations with the Highest Number of Investments'}, xlabel='Founded,Investment_year'>"
      ]
     },
     "execution_count": 227,
     "metadata": {},
     "output_type": "execute_result"
    },
    {
     "data": {
      "image/png": "[encoded data removed]",
      "text/plain": [
       "<Figure size 640x480 with 1 Axes>"
      ]
     },
     "metadata": {},
     "output_type": "display_data"
    }
   ],
   "source": [
    "startup_founded= df.groupby(['Founded','Investment_year'])['Amount'].mean().sort_values(ascending=False).head(10)\n",
    "startup_founded.plot(kind=\"bar\",title='Top Ten Startups Locations with the Highest Number of Investments', legend=True,rot=50,y='Millions of Dollars')"
   ]
  },
  {
   "cell_type": "markdown",
   "id": "8c9f2984",
   "metadata": {},
   "source": [
    "#### Observation\n",
    "Apart from 2021 being an outlier, one will realise that investors were more aligned to funding startups that have been in operation for more than 7 years."
   ]
  }
 ],
 "metadata": {
  "kernelspec": {
   "display_name": "Python 3 (ipykernel)",
   "language": "python",
   "name": "python3"
  },
  "language_info": {
   "codemirror_mode": {
    "name": "ipython",
    "version": 3
   },
   "file_extension": ".py",
   "mimetype": "text/x-python",
   "name": "python",
   "nbconvert_exporter": "python",
   "pygments_lexer": "ipython3",
   "version": "3.9.13"
  }
 },
 "nbformat": 4,
 "nbformat_minor": 5
}
