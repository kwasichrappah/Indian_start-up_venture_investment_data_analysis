{
 "cells": [
  {
   "cell_type": "markdown",
   "id": "c5490f1b",
   "metadata": {},
   "source": [
    "# Investigating the indian ecosystem and to propose the best indian start-up to invest"
   ]
  },
  {
   "cell_type": "markdown",
   "id": "17672573",
   "metadata": {},
   "source": [
    "## Description\n",
    "The objective of this project is to analyse the indian start-up investment data over the course of four years (2018-2021) to find out which funding stages are very attractive to investors and at what risk level. "
   ]
  },
  {
   "cell_type": "markdown",
   "id": "1ec57474",
   "metadata": {},
   "source": [
    "## Assumptions\n",
    "- All currencies is in USD\n",
    "- 82 Lahk/USD"
   ]
  },
  {
   "cell_type": "markdown",
   "id": "116a0a05",
   "metadata": {},
   "source": [
    "## Null Hypothesis \n",
    "Average Investment amounts received by start-ups have no relation to sectors they operate in.\n"
   ]
  },
  {
   "cell_type": "markdown",
   "id": "c477776d",
   "metadata": {},
   "source": [
    "# Alternate Hypothesis\n",
    "There is a relationship between average investment amounts received by start-ups and the sectors they operate in"
   ]
  },
  {
   "cell_type": "markdown",
   "id": "b392e991",
   "metadata": {},
   "source": [
    "## Analytical Questions\n",
    "1. Does location affect the amount of funding or investments?\n",
    "2. Does the sector of start up affect the fundings?\n",
    "3. How many companies need funding and are at what level of funding ?\n",
    "4. Which sectors receive the highest investment amounts?\n",
    "5. Which cities have the highest number of startups and at what levels?\n",
    "6. What are the levels of funding the startups are receiving?"
   ]
  },
  {
   "cell_type": "markdown",
   "id": "296f48c1",
   "metadata": {},
   "source": [
    "# GOAL\n",
    "`\n",
    "The goal of this project is to propose the best indian start-up to invest."
   ]
  },
  {
   "cell_type": "code",
   "execution_count": 1,
   "id": "ab9093f6",
   "metadata": {},
   "outputs": [],
   "source": [
    "#Libraries imported\n",
    "import MySQLdb\n",
    "import sqlalchemy as sa\n",
    "import pyodbc     \n",
    "from dotenv import dotenv_values    #import the dotenv_values function from the dotenv package\n",
    "import pandas as pd\n",
    "import warnings \n"
   ]
  },
  {
   "cell_type": "code",
   "execution_count": 2,
   "id": "7960ef4f",
   "metadata": {},
   "outputs": [],
   "source": [
    "env_variables= dotenv_values('logins.env')\n",
    "database= env_variables.get('database')\n",
    "server = env_variables.get('server')\n",
    "username = env_variables.get('username')\n",
    "password = env_variables.get('password')\n",
    "\n"
   ]
  },
  {
   "cell_type": "markdown",
   "id": "c02588ac",
   "metadata": {},
   "source": [
    "# Data Understanding\n",
    "\n",
    "- There are four data sources to work with (2 SQL and 2 CSVs)\n",
    "- Explore data\n",
    "- Verify data quality"
   ]
  },
  {
   "cell_type": "markdown",
   "id": "6526fade",
   "metadata": {},
   "source": [
    "### Connecting to the dapDB to extract the 2020 and 2021 data"
   ]
  },
  {
   "cell_type": "code",
   "execution_count": 3,
   "id": "c213a6d4",
   "metadata": {},
   "outputs": [],
   "source": [
    "#Connecting to the database to analyse the 2020-2021 data\n",
    "\n",
    "connection_string = f\"DRIVER={{SQL Server}};SERVER={server};DATABASE={database};UID={username};PWD={password};MARS_Connection=yes;MinProtocolVersion=TLSv1.2;\"\n",
    "connection = pyodbc.connect(connection_string)"
   ]
  },
  {
   "cell_type": "code",
   "execution_count": 4,
   "id": "3373bb90",
   "metadata": {},
   "outputs": [
    {
     "name": "stderr",
     "output_type": "stream",
     "text": [
      "c:\\ProgramData\\Anaconda3\\lib\\site-packages\\pandas\\io\\sql.py:762: UserWarning: pandas only support SQLAlchemy connectable(engine/connection) ordatabase string URI or sqlite3 DBAPI2 connectionother DBAPI2 objects are not tested, please consider using SQLAlchemy\n",
      "  warnings.warn(\n"
     ]
    },
    {
     "data": {
      "text/plain": [
       "Index(['Company_Brand', 'Founded', 'HeadQuarter', 'Sector', 'What_it_does',\n",
       "       'Founders', 'Investor', 'Amount', 'Stage', 'column10'],\n",
       "      dtype='object')"
      ]
     },
     "execution_count": 4,
     "metadata": {},
     "output_type": "execute_result"
    }
   ],
   "source": [
    "#query the 2020 startup funding data\n",
    "\n",
    "query = \"SELECT * FROM LP1_startup_funding2020\"\n",
    "\n",
    "data_2020 = pd.read_sql(query, connection)\n",
    "data_2020.columns"
   ]
  },
  {
   "cell_type": "code",
   "execution_count": 5,
   "id": "bb08e710",
   "metadata": {},
   "outputs": [
    {
     "data": {
      "text/html": [
       "<div>\n",
       "<style scoped>\n",
       "    .dataframe tbody tr th:only-of-type {\n",
       "        vertical-align: middle;\n",
       "    }\n",
       "\n",
       "    .dataframe tbody tr th {\n",
       "        vertical-align: top;\n",
       "    }\n",
       "\n",
       "    .dataframe thead th {\n",
       "        text-align: right;\n",
       "    }\n",
       "</style>\n",
       "<table border=\"1\" class=\"dataframe\">\n",
       "  <thead>\n",
       "    <tr style=\"text-align: right;\">\n",
       "      <th></th>\n",
       "      <th>Company_Brand</th>\n",
       "      <th>Founded</th>\n",
       "      <th>HeadQuarter</th>\n",
       "      <th>Sector</th>\n",
       "      <th>What_it_does</th>\n",
       "      <th>Founders</th>\n",
       "      <th>Investor</th>\n",
       "      <th>Amount</th>\n",
       "      <th>Stage</th>\n",
       "      <th>column10</th>\n",
       "    </tr>\n",
       "  </thead>\n",
       "  <tbody>\n",
       "    <tr>\n",
       "      <th>0</th>\n",
       "      <td>Aqgromalin</td>\n",
       "      <td>2019.0</td>\n",
       "      <td>Chennai</td>\n",
       "      <td>AgriTech</td>\n",
       "      <td>Cultivating Ideas for Profit</td>\n",
       "      <td>Prasanna Manogaran, Bharani C L</td>\n",
       "      <td>Angel investors</td>\n",
       "      <td>200000.0</td>\n",
       "      <td>None</td>\n",
       "      <td>None</td>\n",
       "    </tr>\n",
       "    <tr>\n",
       "      <th>1</th>\n",
       "      <td>Krayonnz</td>\n",
       "      <td>2019.0</td>\n",
       "      <td>Bangalore</td>\n",
       "      <td>EdTech</td>\n",
       "      <td>An academy-guardian-scholar centric ecosystem ...</td>\n",
       "      <td>Saurabh Dixit, Gurudutt Upadhyay</td>\n",
       "      <td>GSF Accelerator</td>\n",
       "      <td>100000.0</td>\n",
       "      <td>Pre-seed</td>\n",
       "      <td>None</td>\n",
       "    </tr>\n",
       "  </tbody>\n",
       "</table>\n",
       "</div>"
      ],
      "text/plain": [
       "  Company_Brand  Founded HeadQuarter    Sector  \\\n",
       "0    Aqgromalin   2019.0     Chennai  AgriTech   \n",
       "1      Krayonnz   2019.0   Bangalore    EdTech   \n",
       "\n",
       "                                        What_it_does  \\\n",
       "0                       Cultivating Ideas for Profit   \n",
       "1  An academy-guardian-scholar centric ecosystem ...   \n",
       "\n",
       "                           Founders         Investor    Amount     Stage  \\\n",
       "0   Prasanna Manogaran, Bharani C L  Angel investors  200000.0      None   \n",
       "1  Saurabh Dixit, Gurudutt Upadhyay  GSF Accelerator  100000.0  Pre-seed   \n",
       "\n",
       "  column10  \n",
       "0     None  \n",
       "1     None  "
      ]
     },
     "execution_count": 5,
     "metadata": {},
     "output_type": "execute_result"
    }
   ],
   "source": [
    "data_2020.head(2)"
   ]
  },
  {
   "cell_type": "code",
   "execution_count": 6,
   "id": "16261e43",
   "metadata": {},
   "outputs": [
    {
     "data": {
      "text/plain": [
       "array([2.0000000e+05, 1.0000000e+05,           nan, 4.0000000e+05,\n",
       "       3.4000000e+05, 6.0000000e+05, 4.5000000e+07, 1.0000000e+06,\n",
       "       2.0000000e+06, 1.2000000e+06, 6.6000000e+08, 1.2000000e+05,\n",
       "       7.5000000e+06, 5.0000000e+06, 5.0000000e+05, 3.0000000e+06,\n",
       "       1.0000000e+07, 1.4500000e+08, 1.0000000e+08, 2.1000000e+07,\n",
       "       4.0000000e+06, 2.0000000e+07, 5.6000000e+05, 2.7500000e+05,\n",
       "       4.5000000e+06, 1.5000000e+07, 3.9000000e+08, 7.0000000e+06,\n",
       "       5.1000000e+06, 7.0000000e+08, 2.3000000e+06, 7.0000000e+05,\n",
       "       1.9000000e+07, 9.0000000e+06, 4.0000000e+07, 7.5000000e+05,\n",
       "       1.5000000e+06, 7.8000000e+06, 5.0000000e+07, 8.0000000e+07,\n",
       "       3.0000000e+07, 1.7000000e+06, 2.5000000e+06, 4.0000000e+04,\n",
       "       3.3000000e+07, 3.5000000e+07, 3.0000000e+05, 2.5000000e+07,\n",
       "       3.5000000e+06, 2.0000000e+08, 6.0000000e+06, 1.3000000e+06,\n",
       "       4.1000000e+06, 5.7500000e+05, 8.0000000e+05, 2.8000000e+07,\n",
       "       1.8000000e+07, 3.2000000e+06, 9.0000000e+05, 2.5000000e+05,\n",
       "       4.7000000e+06, 7.5000000e+07, 8.0000000e+06, 1.2100000e+08,\n",
       "       5.5000000e+07, 3.3000000e+06, 1.1000000e+07, 1.6000000e+07,\n",
       "       5.4000000e+06, 1.5000000e+08, 4.2000000e+06, 2.2000000e+07,\n",
       "       5.2000000e+07, 1.1000000e+06, 1.1800000e+08, 1.6000000e+06,\n",
       "       1.8500000e+07, 7.0000000e+10, 8.0000000e+08, 4.0000000e+08,\n",
       "       1.5000000e+05, 1.7600000e+08, 6.0000000e+07, 4.7000000e+05,\n",
       "       2.4000000e+05, 3.0000000e+09, 7.4000000e+07, 6.2000000e+07,\n",
       "       2.1000000e+06, 5.0000000e+08, 1.2500000e+07, 2.2000000e+09,\n",
       "       5.0600000e+06, 2.2500000e+08, 2.4700000e+07, 7.7000000e+06,\n",
       "       1.9067328e+07, 5.1000000e+07, 1.1500000e+05, 5.4000000e+04,\n",
       "       2.0000000e+04, 8.0314600e+05, 2.3800000e+05, 1.0220000e+07,\n",
       "       1.0200000e+06, 1.2000000e+07, 1.3400000e+07, 1.7000000e+08,\n",
       "       2.9000000e+06, 5.4300000e+05, 9.0000000e+07, 3.4000000e+06,\n",
       "       2.3000000e+07, 8.0900000e+06, 1.0300000e+06, 5.0400000e+06,\n",
       "       3.6000000e+05, 1.4000000e+06, 6.5000000e+05, 5.4000000e+07,\n",
       "       4.2500000e+07, 1.1370000e+07, 3.2500000e+05, 4.1000000e+05,\n",
       "       4.5000000e+05, 6.8200000e+05, 4.0500000e+06, 1.0500000e+06,\n",
       "       1.0800000e+06, 4.3000000e+06, 6.8000000e+06, 2.1100000e+06,\n",
       "       7.6400000e+05, 6.0300000e+05, 4.0900000e+05, 2.9200000e+05,\n",
       "       2.8600000e+05, 1.3600000e+05, 5.4600000e+05, 8.8700000e+05,\n",
       "       4.3000000e+04, 4.0900000e+04, 2.2000000e+06, 5.6600000e+06,\n",
       "       3.5000000e+05, 1.1000000e+05, 1.2200000e+08, 1.1635000e+07,\n",
       "       2.8000000e+06, 1.0650000e+06, 6.6900000e+05, 1.6076000e+07,\n",
       "       6.4960000e+05, 6.7000000e+06, 2.2000000e+05, 2.6650000e+05,\n",
       "       2.8790000e+06, 2.6500000e+07, 3.5100000e+05, 4.6761000e+07,\n",
       "       1.7500000e+05, 1.1241000e+07, 8.0400000e+05, 1.3400000e+06,\n",
       "       4.6700000e+05, 1.3300000e+05, 3.8230000e+06, 9.3400000e+05,\n",
       "       2.9300000e+05, 1.9800000e+05, 9.2700000e+05, 9.7100000e+05,\n",
       "       3.0600000e+06, 1.8620000e+06, 2.3200000e+05, 2.8880000e+06,\n",
       "       1.3280000e+06, 1.5500000e+07, 5.6000000e+07, 2.2500000e+06,\n",
       "       1.6753000e+07, 3.7000000e+06, 1.4700000e+06, 5.3000000e+05,\n",
       "       2.6700000e+05, 3.3440000e+06, 7.2000000e+06, 2.7430000e+06,\n",
       "       6.0820000e+06, 6.6090000e+06, 2.7700000e+07, 5.9400000e+06,\n",
       "       3.9640000e+06, 5.5000000e+06, 1.9700000e+05, 4.3270000e+06,\n",
       "       4.5900000e+05, 3.9370000e+06, 1.3135000e+06, 2.2980000e+05,\n",
       "       5.3050000e+06, 2.6400000e+05, 1.7500000e+06, 5.9670000e+06,\n",
       "       2.9800000e+06, 3.2300000e+05, 1.3260000e+06, 2.7000000e+07,\n",
       "       5.2000000e+06, 2.5300000e+06, 7.9200000e+05, 1.1363000e+07,\n",
       "       1.7150000e+06, 3.2900000e+05, 5.2710000e+06, 8.7000000e+06,\n",
       "       3.2260000e+06, 5.9000000e+06, 4.4000000e+07, 3.8790000e+06,\n",
       "       1.3000000e+07, 8.8000000e+06, 9.5000000e+06, 9.2000000e+05,\n",
       "       3.5600000e+07, 9.4000000e+06, 7.9000000e+05, 4.8000000e+05,\n",
       "       1.6000000e+05, 8.2000000e+06, 4.2570000e+06, 1.4100000e+06,\n",
       "       3.4980000e+05, 7.8600000e+05, 2.0040000e+06, 1.2300000e+08,\n",
       "       2.4800000e+05, 2.4000000e+07, 1.4259000e+07, 2.4500000e+07,\n",
       "       3.8000000e+06, 1.8370000e+07, 6.8525000e+07, 4.8000000e+06,\n",
       "       1.8340000e+06, 2.3850000e+07, 4.3000000e+07, 2.1600000e+07,\n",
       "       4.5980000e+06, 1.3137000e+07, 1.1500000e+08, 3.9000000e+06,\n",
       "       6.7000000e+05, 8.5000000e+06, 3.1480000e+06, 2.6000000e+06,\n",
       "       4.0495000e+06, 1.0500000e+07, 6.5000000e+06, 4.3700000e+07,\n",
       "       1.3800000e+07, 3.0690000e+05, 4.2000000e+05, 6.2730000e+05,\n",
       "       1.1300000e+08, 3.2000000e+07, 1.1000000e+08, 1.3970000e+06,\n",
       "       4.4850000e+05, 7.9757000e+06, 3.3000000e+05, 5.6000000e+06,\n",
       "       1.4020000e+06, 2.1500000e+07, 2.9600000e+08, 4.9000000e+06,\n",
       "       1.4024000e+06, 1.2618300e+07, 9.9000000e+06, 9.8253000e+05,\n",
       "       7.0185200e+07, 2.1000000e+08, 8.4000000e+07, 3.9000000e+07,\n",
       "       2.7000000e+06, 1.4034000e+06, 1.0500000e+08, 1.0300000e+08,\n",
       "       2.8130000e+05, 1.2700000e+04, 2.5000000e+04, 9.7500000e+07,\n",
       "       5.0700000e+05, 8.4000000e+06, 1.8300000e+07, 1.2500000e+08,\n",
       "       1.8100000e+05, 2.8000000e+05, 1.4700000e+07, 1.3200000e+07,\n",
       "       8.0430000e+06])"
      ]
     },
     "execution_count": 6,
     "metadata": {},
     "output_type": "execute_result"
    }
   ],
   "source": [
    "data_2020.Amount.unique()"
   ]
  },
  {
   "cell_type": "code",
   "execution_count": 7,
   "id": "7e67dcd3",
   "metadata": {},
   "outputs": [
    {
     "name": "stderr",
     "output_type": "stream",
     "text": [
      "c:\\ProgramData\\Anaconda3\\lib\\site-packages\\pandas\\io\\sql.py:762: UserWarning: pandas only support SQLAlchemy connectable(engine/connection) ordatabase string URI or sqlite3 DBAPI2 connectionother DBAPI2 objects are not tested, please consider using SQLAlchemy\n",
      "  warnings.warn(\n"
     ]
    },
    {
     "data": {
      "text/html": [
       "<div>\n",
       "<style scoped>\n",
       "    .dataframe tbody tr th:only-of-type {\n",
       "        vertical-align: middle;\n",
       "    }\n",
       "\n",
       "    .dataframe tbody tr th {\n",
       "        vertical-align: top;\n",
       "    }\n",
       "\n",
       "    .dataframe thead th {\n",
       "        text-align: right;\n",
       "    }\n",
       "</style>\n",
       "<table border=\"1\" class=\"dataframe\">\n",
       "  <thead>\n",
       "    <tr style=\"text-align: right;\">\n",
       "      <th></th>\n",
       "      <th>Company_Brand</th>\n",
       "      <th>Founded</th>\n",
       "      <th>HeadQuarter</th>\n",
       "      <th>Sector</th>\n",
       "      <th>What_it_does</th>\n",
       "      <th>Founders</th>\n",
       "      <th>Investor</th>\n",
       "      <th>Amount</th>\n",
       "      <th>Stage</th>\n",
       "    </tr>\n",
       "  </thead>\n",
       "  <tbody>\n",
       "    <tr>\n",
       "      <th>0</th>\n",
       "      <td>Unbox Robotics</td>\n",
       "      <td>2019.0</td>\n",
       "      <td>Bangalore</td>\n",
       "      <td>AI startup</td>\n",
       "      <td>Unbox Robotics builds on-demand AI-driven ware...</td>\n",
       "      <td>Pramod Ghadge, Shahid Memon</td>\n",
       "      <td>BEENEXT, Entrepreneur First</td>\n",
       "      <td>$1,200,000</td>\n",
       "      <td>Pre-series A</td>\n",
       "    </tr>\n",
       "    <tr>\n",
       "      <th>1</th>\n",
       "      <td>upGrad</td>\n",
       "      <td>2015.0</td>\n",
       "      <td>Mumbai</td>\n",
       "      <td>EdTech</td>\n",
       "      <td>UpGrad is an online higher education platform.</td>\n",
       "      <td>Mayank Kumar, Phalgun Kompalli, Ravijot Chugh,...</td>\n",
       "      <td>Unilazer Ventures, IIFL Asset Management</td>\n",
       "      <td>$120,000,000</td>\n",
       "      <td>None</td>\n",
       "    </tr>\n",
       "    <tr>\n",
       "      <th>2</th>\n",
       "      <td>Lead School</td>\n",
       "      <td>2012.0</td>\n",
       "      <td>Mumbai</td>\n",
       "      <td>EdTech</td>\n",
       "      <td>LEAD School offers technology based school tra...</td>\n",
       "      <td>Smita Deorah, Sumeet Mehta</td>\n",
       "      <td>GSV Ventures, Westbridge Capital</td>\n",
       "      <td>$30,000,000</td>\n",
       "      <td>Series D</td>\n",
       "    </tr>\n",
       "    <tr>\n",
       "      <th>3</th>\n",
       "      <td>Bizongo</td>\n",
       "      <td>2015.0</td>\n",
       "      <td>Mumbai</td>\n",
       "      <td>B2B E-commerce</td>\n",
       "      <td>Bizongo is a business-to-business online marke...</td>\n",
       "      <td>Aniket Deb, Ankit Tomar, Sachin Agrawal</td>\n",
       "      <td>CDC Group, IDG Capital</td>\n",
       "      <td>$51,000,000</td>\n",
       "      <td>Series C</td>\n",
       "    </tr>\n",
       "    <tr>\n",
       "      <th>4</th>\n",
       "      <td>FypMoney</td>\n",
       "      <td>2021.0</td>\n",
       "      <td>Gurugram</td>\n",
       "      <td>FinTech</td>\n",
       "      <td>FypMoney is Digital NEO Bank for Teenagers, em...</td>\n",
       "      <td>Kapil Banwari</td>\n",
       "      <td>Liberatha Kallat, Mukesh Yadav, Dinesh Nagpal</td>\n",
       "      <td>$2,000,000</td>\n",
       "      <td>Seed</td>\n",
       "    </tr>\n",
       "  </tbody>\n",
       "</table>\n",
       "</div>"
      ],
      "text/plain": [
       "    Company_Brand  Founded HeadQuarter          Sector  \\\n",
       "0  Unbox Robotics   2019.0   Bangalore      AI startup   \n",
       "1          upGrad   2015.0      Mumbai          EdTech   \n",
       "2     Lead School   2012.0      Mumbai          EdTech   \n",
       "3         Bizongo   2015.0      Mumbai  B2B E-commerce   \n",
       "4        FypMoney   2021.0    Gurugram         FinTech   \n",
       "\n",
       "                                        What_it_does  \\\n",
       "0  Unbox Robotics builds on-demand AI-driven ware...   \n",
       "1     UpGrad is an online higher education platform.   \n",
       "2  LEAD School offers technology based school tra...   \n",
       "3  Bizongo is a business-to-business online marke...   \n",
       "4  FypMoney is Digital NEO Bank for Teenagers, em...   \n",
       "\n",
       "                                            Founders  \\\n",
       "0                        Pramod Ghadge, Shahid Memon   \n",
       "1  Mayank Kumar, Phalgun Kompalli, Ravijot Chugh,...   \n",
       "2                         Smita Deorah, Sumeet Mehta   \n",
       "3            Aniket Deb, Ankit Tomar, Sachin Agrawal   \n",
       "4                                      Kapil Banwari   \n",
       "\n",
       "                                        Investor        Amount         Stage  \n",
       "0                    BEENEXT, Entrepreneur First    $1,200,000  Pre-series A  \n",
       "1       Unilazer Ventures, IIFL Asset Management  $120,000,000          None  \n",
       "2               GSV Ventures, Westbridge Capital   $30,000,000      Series D  \n",
       "3                         CDC Group, IDG Capital   $51,000,000      Series C  \n",
       "4  Liberatha Kallat, Mukesh Yadav, Dinesh Nagpal    $2,000,000          Seed  "
      ]
     },
     "execution_count": 7,
     "metadata": {},
     "output_type": "execute_result"
    }
   ],
   "source": [
    "#query the 2021 startup funding data\n",
    "query = \"SELECT * FROM LP1_startup_funding2021\"\n",
    "\n",
    "data_2021 = pd.read_sql(query, connection)\n",
    "data_2021.head(5)\n"
   ]
  },
  {
   "cell_type": "code",
   "execution_count": 8,
   "id": "eb5fb57a",
   "metadata": {},
   "outputs": [
    {
     "data": {
      "text/plain": [
       "array(['$1,200,000', '$120,000,000', '$30,000,000', '$51,000,000',\n",
       "       '$2,000,000', '$188,000,000', '$200,000', 'Undisclosed',\n",
       "       '$1,000,000', '$3,000,000', '$100,000', '$700,000', '$9,000,000',\n",
       "       '$40,000,000', '$49,000,000', '$400,000', '$300,000',\n",
       "       '$25,000,000', '$160,000,000', '$150,000', '$1,800,000',\n",
       "       '$5,000,000', '$850,000', '$53,000,000', '$500,000', '$1,100,000',\n",
       "       '$6,000,000', '$800,000', '$10,000,000', '$21,000,000',\n",
       "       '$7,500,000', '$26,000,000', '$7,400,000', '$1,500,000',\n",
       "       '$600,000', '$800,000,000', '$17,000,000', '$3,500,000',\n",
       "       '$15,000,000', '$215,000,000', '$2,500,000', '$350,000,000',\n",
       "       '$5,500,000', '$83,000,000', '$110,000,000', '$500,000,000',\n",
       "       '$65,000,000', '$150,000,000,000', '$300,000,000', '$2,200,000',\n",
       "       '$35,000,000', '$140,000,000', '$4,000,000', '$13,000,000', None,\n",
       "       '$Undisclosed', '$2000000', '$800000', '$6000000', '$2500000',\n",
       "       '$9500000', '$13000000', '$5000000', '$8000000', '$1000000',\n",
       "       'Upsparks', '$200000', '$12000000', '$1500000', '$1700000',\n",
       "       '$5500000', '$400000', '$150000000', '$4000000', '$100000000',\n",
       "       '$500000', '$15000000', '$10000000', '$40000000', '$225000000',\n",
       "       '$6700000', '$1300000', '$20000000', '$250000', '$21000000',\n",
       "       '$1200000', '$52000000', '$3800000', '$17500000', '$42000000',\n",
       "       '$2300000', '$7000000', '$30000000', '$450000000', '$28000000',\n",
       "       '$300000', '$3500000', '$8500000', '$25000000', '$3000000',\n",
       "       '$37000000', '$370000000', '$700000', '$16000000', '$100000',\n",
       "       '$44000000', '$770000', '$125000000', '$35000000', '$50000000',\n",
       "       '$4900000', '$145000000', '$22000000', '$70000000', '$6600000',\n",
       "       '$32000000', '$24000000', '$725000', '$461000', 'Series C', 'Seed',\n",
       "       '$96000000', '$60000000', '$500000000', '$266000000', '$4500000',\n",
       "       '$325000000', '$6500000', '$1600000', '$150000', '$225000',\n",
       "       '$85000000', '$235000', '$260000', '$2900000', '$53000000',\n",
       "       '$1100000', '$86000000', '$130000', '$$100,00', '$111000000',\n",
       "       '$265000', '$76000000', '$100,000,000', '$75,000,000',\n",
       "       '$3,800,000', '$12,000,000', '$1,600,000', '$260,000',\n",
       "       '$1,000,000,000', '$18,000,000', '$20,000,000', '$350,000',\n",
       "       '$95,000,000', '$4,100,000', '$5,200,000', '$8,000,000',\n",
       "       '$1,400,000', '$2,600,000', '$900,000', '$250,000', '$16,000,000',\n",
       "       '$7,000,000', '$11,000,000', '$280,000,000', '$50,000,000',\n",
       "       '$14,300,000', '$81,000,000', '$1,300,000', '$8,200,000',\n",
       "       '$70,000,000', '$720,000', '$600000', '$9000000', '$1800000',\n",
       "       '$330000', '$undisclosed', '$200000000', '$36000000', '$67000000',\n",
       "       '$10200000', '$220000000', '$108000000', '$75000000', '$450000',\n",
       "       '$660000000', 'ah! Ventures', '$45000000', '$3200000', '$370000',\n",
       "       'Pre-series A', 'ITO Angel Network, LetsVenture', '$48000000',\n",
       "       '$3600000', '$11000000', '$192000000', '$65000000', '$1400000',\n",
       "       '$1900000', '$41000000', '$144000000', '$5200000', '$270000000',\n",
       "       '$140000', '$250000000', '$320000', '$350000000', '$4800000',\n",
       "       '$38000000', '$125000', '$26000000', '$64000000', '$620000',\n",
       "       '$900000', 'JITO Angel Network, LetsVenture', '$2600000',\n",
       "       '$1,250,000', '$400,000,000', '$1,700,000', '$27,000,000',\n",
       "       '$234,000,000', '$460,000,000', '$13,500,000', '$5,100,000',\n",
       "       '$195,000,000', '$125,000', '$45,000,000', '$200,000,000',\n",
       "       '$7,300,000', '$6,300,000', '$12,500,000', '$24,000,000',\n",
       "       '$140,000', '$16,500,000', '$340,000', '$43,000,000',\n",
       "       '$150,000,000', '$3300000', '$92000000', '$17000000', '$135000000',\n",
       "       '$$1,55,000', '$2100000', '$840000000', '$248000000', '$4300000',\n",
       "       '$570000', '$2200000', '$4700000', '$300000000', '$260000000',\n",
       "       '$140000000', '$175000000', '$19000000', '$810000', '$7500000',\n",
       "       '$600000000', '$90000000', '$5700000', '$6750000', '$78000000',\n",
       "       '$5400000', '$115000000', '$255000000', '$18000000', '$570000000',\n",
       "       '$550000', '$2700000', '$4200000', '$31000000', '$540000',\n",
       "       '$14000000', '$340000', '$', '$6200000', '$750000', '$6300000',\n",
       "       '$23000000', '$55000000'], dtype=object)"
      ]
     },
     "execution_count": 8,
     "metadata": {},
     "output_type": "execute_result"
    }
   ],
   "source": [
    "data_2021.Amount.unique()"
   ]
  },
  {
   "cell_type": "code",
   "execution_count": 9,
   "id": "9d3bf247",
   "metadata": {},
   "outputs": [
    {
     "data": {
      "text/html": [
       "<div>\n",
       "<style scoped>\n",
       "    .dataframe tbody tr th:only-of-type {\n",
       "        vertical-align: middle;\n",
       "    }\n",
       "\n",
       "    .dataframe tbody tr th {\n",
       "        vertical-align: top;\n",
       "    }\n",
       "\n",
       "    .dataframe thead th {\n",
       "        text-align: right;\n",
       "    }\n",
       "</style>\n",
       "<table border=\"1\" class=\"dataframe\">\n",
       "  <thead>\n",
       "    <tr style=\"text-align: right;\">\n",
       "      <th></th>\n",
       "      <th>Company_Brand</th>\n",
       "      <th>Founded</th>\n",
       "      <th>HeadQuarter</th>\n",
       "      <th>Sector</th>\n",
       "      <th>What_it_does</th>\n",
       "      <th>Founders</th>\n",
       "      <th>Investor</th>\n",
       "      <th>Amount</th>\n",
       "      <th>Stage</th>\n",
       "    </tr>\n",
       "  </thead>\n",
       "  <tbody>\n",
       "    <tr>\n",
       "      <th>98</th>\n",
       "      <td>FanPlay</td>\n",
       "      <td>2020.0</td>\n",
       "      <td>Computer Games</td>\n",
       "      <td>Computer Games</td>\n",
       "      <td>A real money game app specializing in trivia g...</td>\n",
       "      <td>YC W21</td>\n",
       "      <td>Pritesh Kumar, Bharat Gupta</td>\n",
       "      <td>Upsparks</td>\n",
       "      <td>$1200000</td>\n",
       "    </tr>\n",
       "    <tr>\n",
       "      <th>111</th>\n",
       "      <td>FanPlay</td>\n",
       "      <td>2020.0</td>\n",
       "      <td>Computer Games</td>\n",
       "      <td>Computer Games</td>\n",
       "      <td>A real money game app specializing in trivia g...</td>\n",
       "      <td>YC W21</td>\n",
       "      <td>Pritesh Kumar, Bharat Gupta</td>\n",
       "      <td>Upsparks</td>\n",
       "      <td>$1200000</td>\n",
       "    </tr>\n",
       "    <tr>\n",
       "      <th>257</th>\n",
       "      <td>MoEVing</td>\n",
       "      <td>2021.0</td>\n",
       "      <td>Gurugram\\t#REF!</td>\n",
       "      <td>MoEVing is India's only Electric Mobility focu...</td>\n",
       "      <td>Vikash Mishra, Mragank Jain</td>\n",
       "      <td>Anshuman Maheshwary, Dr Srihari Raju Kalidindi</td>\n",
       "      <td>$5000000</td>\n",
       "      <td>Seed</td>\n",
       "      <td>None</td>\n",
       "    </tr>\n",
       "    <tr>\n",
       "      <th>1148</th>\n",
       "      <td>Godamwale</td>\n",
       "      <td>2016.0</td>\n",
       "      <td>Mumbai</td>\n",
       "      <td>Logistics &amp; Supply Chain</td>\n",
       "      <td>Godamwale is tech enabled integrated logistics...</td>\n",
       "      <td>Basant Kumar, Vivek Tiwari, Ranbir Nandan</td>\n",
       "      <td>1000000\\t#REF!</td>\n",
       "      <td>Seed</td>\n",
       "      <td>None</td>\n",
       "    </tr>\n",
       "  </tbody>\n",
       "</table>\n",
       "</div>"
      ],
      "text/plain": [
       "     Company_Brand  Founded      HeadQuarter  \\\n",
       "98         FanPlay   2020.0   Computer Games   \n",
       "111        FanPlay   2020.0   Computer Games   \n",
       "257        MoEVing   2021.0  Gurugram\\t#REF!   \n",
       "1148     Godamwale   2016.0           Mumbai   \n",
       "\n",
       "                                                 Sector  \\\n",
       "98                                       Computer Games   \n",
       "111                                      Computer Games   \n",
       "257   MoEVing is India's only Electric Mobility focu...   \n",
       "1148                           Logistics & Supply Chain   \n",
       "\n",
       "                                           What_it_does  \\\n",
       "98    A real money game app specializing in trivia g...   \n",
       "111   A real money game app specializing in trivia g...   \n",
       "257                         Vikash Mishra, Mragank Jain   \n",
       "1148  Godamwale is tech enabled integrated logistics...   \n",
       "\n",
       "                                            Founders  \\\n",
       "98                                            YC W21   \n",
       "111                                           YC W21   \n",
       "257   Anshuman Maheshwary, Dr Srihari Raju Kalidindi   \n",
       "1148       Basant Kumar, Vivek Tiwari, Ranbir Nandan   \n",
       "\n",
       "                         Investor    Amount     Stage  \n",
       "98    Pritesh Kumar, Bharat Gupta  Upsparks  $1200000  \n",
       "111   Pritesh Kumar, Bharat Gupta  Upsparks  $1200000  \n",
       "257                      $5000000      Seed      None  \n",
       "1148               1000000\\t#REF!      Seed      None  "
      ]
     },
     "execution_count": 9,
     "metadata": {},
     "output_type": "execute_result"
    }
   ],
   "source": [
    "#Checking for data entry errors\n",
    "test=data_2021.query('Amount==[\"SeriesC\",\"Seed\",\"Upsparks\"]')\n",
    "test"
   ]
  },
  {
   "cell_type": "code",
   "execution_count": 10,
   "id": "833b4a08",
   "metadata": {},
   "outputs": [
    {
     "data": {
      "text/html": [
       "<div>\n",
       "<style scoped>\n",
       "    .dataframe tbody tr th:only-of-type {\n",
       "        vertical-align: middle;\n",
       "    }\n",
       "\n",
       "    .dataframe tbody tr th {\n",
       "        vertical-align: top;\n",
       "    }\n",
       "\n",
       "    .dataframe thead th {\n",
       "        text-align: right;\n",
       "    }\n",
       "</style>\n",
       "<table border=\"1\" class=\"dataframe\">\n",
       "  <thead>\n",
       "    <tr style=\"text-align: right;\">\n",
       "      <th></th>\n",
       "      <th>Company Name</th>\n",
       "      <th>Industry</th>\n",
       "      <th>Round/Series</th>\n",
       "      <th>Amount</th>\n",
       "      <th>Location</th>\n",
       "      <th>About Company</th>\n",
       "    </tr>\n",
       "  </thead>\n",
       "  <tbody>\n",
       "    <tr>\n",
       "      <th>0</th>\n",
       "      <td>TheCollegeFever</td>\n",
       "      <td>Brand Marketing, Event Promotion, Marketing, S...</td>\n",
       "      <td>Seed</td>\n",
       "      <td>250000</td>\n",
       "      <td>Bangalore, Karnataka, India</td>\n",
       "      <td>TheCollegeFever is a hub for fun, fiesta and f...</td>\n",
       "    </tr>\n",
       "    <tr>\n",
       "      <th>1</th>\n",
       "      <td>Happy Cow Dairy</td>\n",
       "      <td>Agriculture, Farming</td>\n",
       "      <td>Seed</td>\n",
       "      <td>₹40,000,000</td>\n",
       "      <td>Mumbai, Maharashtra, India</td>\n",
       "      <td>A startup which aggregates milk from dairy far...</td>\n",
       "    </tr>\n",
       "    <tr>\n",
       "      <th>2</th>\n",
       "      <td>MyLoanCare</td>\n",
       "      <td>Credit, Financial Services, Lending, Marketplace</td>\n",
       "      <td>Series A</td>\n",
       "      <td>₹65,000,000</td>\n",
       "      <td>Gurgaon, Haryana, India</td>\n",
       "      <td>Leading Online Loans Marketplace in India</td>\n",
       "    </tr>\n",
       "    <tr>\n",
       "      <th>3</th>\n",
       "      <td>PayMe India</td>\n",
       "      <td>Financial Services, FinTech</td>\n",
       "      <td>Angel</td>\n",
       "      <td>2000000</td>\n",
       "      <td>Noida, Uttar Pradesh, India</td>\n",
       "      <td>PayMe India is an innovative FinTech organizat...</td>\n",
       "    </tr>\n",
       "    <tr>\n",
       "      <th>4</th>\n",
       "      <td>Eunimart</td>\n",
       "      <td>E-Commerce Platforms, Retail, SaaS</td>\n",
       "      <td>Seed</td>\n",
       "      <td>—</td>\n",
       "      <td>Hyderabad, Andhra Pradesh, India</td>\n",
       "      <td>Eunimart is a one stop solution for merchants ...</td>\n",
       "    </tr>\n",
       "  </tbody>\n",
       "</table>\n",
       "</div>"
      ],
      "text/plain": [
       "      Company Name                                           Industry  \\\n",
       "0  TheCollegeFever  Brand Marketing, Event Promotion, Marketing, S...   \n",
       "1  Happy Cow Dairy                               Agriculture, Farming   \n",
       "2       MyLoanCare   Credit, Financial Services, Lending, Marketplace   \n",
       "3      PayMe India                        Financial Services, FinTech   \n",
       "4         Eunimart                 E-Commerce Platforms, Retail, SaaS   \n",
       "\n",
       "  Round/Series       Amount                          Location  \\\n",
       "0         Seed       250000       Bangalore, Karnataka, India   \n",
       "1         Seed  ₹40,000,000        Mumbai, Maharashtra, India   \n",
       "2     Series A  ₹65,000,000           Gurgaon, Haryana, India   \n",
       "3        Angel      2000000       Noida, Uttar Pradesh, India   \n",
       "4         Seed            —  Hyderabad, Andhra Pradesh, India   \n",
       "\n",
       "                                       About Company  \n",
       "0  TheCollegeFever is a hub for fun, fiesta and f...  \n",
       "1  A startup which aggregates milk from dairy far...  \n",
       "2          Leading Online Loans Marketplace in India  \n",
       "3  PayMe India is an innovative FinTech organizat...  \n",
       "4  Eunimart is a one stop solution for merchants ...  "
      ]
     },
     "execution_count": 10,
     "metadata": {},
     "output_type": "execute_result"
    }
   ],
   "source": [
    "#Reading 2018 and 2019 data from the csv files\n",
    "\n",
    "data_2018=pd.read_csv('startup_funding_2018_2019\\startup_funding2018.csv')\n",
    "data_2018.head(5)"
   ]
  },
  {
   "cell_type": "code",
   "execution_count": 11,
   "id": "2d3abf18",
   "metadata": {},
   "outputs": [
    {
     "name": "stdout",
     "output_type": "stream",
     "text": [
      "<class 'pandas.core.frame.DataFrame'>\n",
      "RangeIndex: 89 entries, 0 to 88\n",
      "Data columns (total 9 columns):\n",
      " #   Column         Non-Null Count  Dtype  \n",
      "---  ------         --------------  -----  \n",
      " 0   Company/Brand  89 non-null     object \n",
      " 1   Founded        60 non-null     float64\n",
      " 2   HeadQuarter    70 non-null     object \n",
      " 3   Sector         84 non-null     object \n",
      " 4   What it does   89 non-null     object \n",
      " 5   Founders       86 non-null     object \n",
      " 6   Investor       89 non-null     object \n",
      " 7   Amount($)      89 non-null     object \n",
      " 8   Stage          43 non-null     object \n",
      "dtypes: float64(1), object(8)\n",
      "memory usage: 6.4+ KB\n"
     ]
    }
   ],
   "source": [
    "data_2019=pd.read_csv('startup_funding_2018_2019\\startup_funding2019.csv')\n",
    "data_2019.info()"
   ]
  },
  {
   "cell_type": "code",
   "execution_count": 12,
   "id": "07727f93",
   "metadata": {},
   "outputs": [
    {
     "data": {
      "text/plain": [
       "Index(['Company_Brand', 'Founded', 'HeadQuarter', 'Sector', 'What_it_does',\n",
       "       'Founders', 'Investor', 'Amount', 'Stage'],\n",
       "      dtype='object')"
      ]
     },
     "execution_count": 12,
     "metadata": {},
     "output_type": "execute_result"
    }
   ],
   "source": [
    "#Changing column names of 2019 data to match all other datasets\n",
    "data_2019.rename(columns={'Company/Brand':'Company_Brand', 'What it does':'What_it_does', 'Amount($)':'Amount'}, inplace=True)\n",
    "data_2019.columns"
   ]
  },
  {
   "cell_type": "code",
   "execution_count": 13,
   "id": "7c5d35cd",
   "metadata": {},
   "outputs": [
    {
     "data": {
      "text/html": [
       "<div>\n",
       "<style scoped>\n",
       "    .dataframe tbody tr th:only-of-type {\n",
       "        vertical-align: middle;\n",
       "    }\n",
       "\n",
       "    .dataframe tbody tr th {\n",
       "        vertical-align: top;\n",
       "    }\n",
       "\n",
       "    .dataframe thead th {\n",
       "        text-align: right;\n",
       "    }\n",
       "</style>\n",
       "<table border=\"1\" class=\"dataframe\">\n",
       "  <thead>\n",
       "    <tr style=\"text-align: right;\">\n",
       "      <th></th>\n",
       "      <th>Company_Brand</th>\n",
       "      <th>Sector</th>\n",
       "      <th>Stage</th>\n",
       "      <th>Amount</th>\n",
       "      <th>HeadQuarter</th>\n",
       "      <th>What_it_does</th>\n",
       "    </tr>\n",
       "  </thead>\n",
       "  <tbody>\n",
       "    <tr>\n",
       "      <th>0</th>\n",
       "      <td>TheCollegeFever</td>\n",
       "      <td>Brand Marketing, Event Promotion, Marketing, S...</td>\n",
       "      <td>Seed</td>\n",
       "      <td>250000</td>\n",
       "      <td>Bangalore, Karnataka, India</td>\n",
       "      <td>TheCollegeFever is a hub for fun, fiesta and f...</td>\n",
       "    </tr>\n",
       "    <tr>\n",
       "      <th>1</th>\n",
       "      <td>Happy Cow Dairy</td>\n",
       "      <td>Agriculture, Farming</td>\n",
       "      <td>Seed</td>\n",
       "      <td>₹40,000,000</td>\n",
       "      <td>Mumbai, Maharashtra, India</td>\n",
       "      <td>A startup which aggregates milk from dairy far...</td>\n",
       "    </tr>\n",
       "    <tr>\n",
       "      <th>2</th>\n",
       "      <td>MyLoanCare</td>\n",
       "      <td>Credit, Financial Services, Lending, Marketplace</td>\n",
       "      <td>Series A</td>\n",
       "      <td>₹65,000,000</td>\n",
       "      <td>Gurgaon, Haryana, India</td>\n",
       "      <td>Leading Online Loans Marketplace in India</td>\n",
       "    </tr>\n",
       "    <tr>\n",
       "      <th>3</th>\n",
       "      <td>PayMe India</td>\n",
       "      <td>Financial Services, FinTech</td>\n",
       "      <td>Angel</td>\n",
       "      <td>2000000</td>\n",
       "      <td>Noida, Uttar Pradesh, India</td>\n",
       "      <td>PayMe India is an innovative FinTech organizat...</td>\n",
       "    </tr>\n",
       "    <tr>\n",
       "      <th>4</th>\n",
       "      <td>Eunimart</td>\n",
       "      <td>E-Commerce Platforms, Retail, SaaS</td>\n",
       "      <td>Seed</td>\n",
       "      <td>—</td>\n",
       "      <td>Hyderabad, Andhra Pradesh, India</td>\n",
       "      <td>Eunimart is a one stop solution for merchants ...</td>\n",
       "    </tr>\n",
       "  </tbody>\n",
       "</table>\n",
       "</div>"
      ],
      "text/plain": [
       "     Company_Brand                                             Sector  \\\n",
       "0  TheCollegeFever  Brand Marketing, Event Promotion, Marketing, S...   \n",
       "1  Happy Cow Dairy                               Agriculture, Farming   \n",
       "2       MyLoanCare   Credit, Financial Services, Lending, Marketplace   \n",
       "3      PayMe India                        Financial Services, FinTech   \n",
       "4         Eunimart                 E-Commerce Platforms, Retail, SaaS   \n",
       "\n",
       "      Stage       Amount                       HeadQuarter  \\\n",
       "0      Seed       250000       Bangalore, Karnataka, India   \n",
       "1      Seed  ₹40,000,000        Mumbai, Maharashtra, India   \n",
       "2  Series A  ₹65,000,000           Gurgaon, Haryana, India   \n",
       "3     Angel      2000000       Noida, Uttar Pradesh, India   \n",
       "4      Seed            —  Hyderabad, Andhra Pradesh, India   \n",
       "\n",
       "                                        What_it_does  \n",
       "0  TheCollegeFever is a hub for fun, fiesta and f...  \n",
       "1  A startup which aggregates milk from dairy far...  \n",
       "2          Leading Online Loans Marketplace in India  \n",
       "3  PayMe India is an innovative FinTech organizat...  \n",
       "4  Eunimart is a one stop solution for merchants ...  "
      ]
     },
     "execution_count": 13,
     "metadata": {},
     "output_type": "execute_result"
    }
   ],
   "source": [
    "#Changing column names of 2018 data to match all other datasets\n",
    "data_2018.rename(columns={'Company Name':'Company_Brand','Industry':'Sector', 'Round/Series':'Stage', 'Location':'HeadQuarter', 'About Company':'What_it_does'}, inplace=True)\n",
    "data_2018.head(5)"
   ]
  },
  {
   "cell_type": "markdown",
   "id": "c376ae0c",
   "metadata": {},
   "source": [
    "### Merging datasets"
   ]
  },
  {
   "cell_type": "code",
   "execution_count": 14,
   "id": "92f18bcf",
   "metadata": {},
   "outputs": [
    {
     "data": {
      "text/html": [
       "<div>\n",
       "<style scoped>\n",
       "    .dataframe tbody tr th:only-of-type {\n",
       "        vertical-align: middle;\n",
       "    }\n",
       "\n",
       "    .dataframe tbody tr th {\n",
       "        vertical-align: top;\n",
       "    }\n",
       "\n",
       "    .dataframe thead th {\n",
       "        text-align: right;\n",
       "    }\n",
       "</style>\n",
       "<table border=\"1\" class=\"dataframe\">\n",
       "  <thead>\n",
       "    <tr style=\"text-align: right;\">\n",
       "      <th></th>\n",
       "      <th>Company_Brand</th>\n",
       "      <th>Founded</th>\n",
       "      <th>HeadQuarter</th>\n",
       "      <th>Sector</th>\n",
       "      <th>What_it_does</th>\n",
       "      <th>Founders</th>\n",
       "      <th>Investor</th>\n",
       "      <th>Amount</th>\n",
       "      <th>Stage</th>\n",
       "      <th>column10</th>\n",
       "    </tr>\n",
       "  </thead>\n",
       "  <tbody>\n",
       "    <tr>\n",
       "      <th>0</th>\n",
       "      <td>Unbox Robotics</td>\n",
       "      <td>2019.0</td>\n",
       "      <td>Bangalore</td>\n",
       "      <td>AI startup</td>\n",
       "      <td>Unbox Robotics builds on-demand AI-driven ware...</td>\n",
       "      <td>Pramod Ghadge, Shahid Memon</td>\n",
       "      <td>BEENEXT, Entrepreneur First</td>\n",
       "      <td>$1,200,000</td>\n",
       "      <td>Pre-series A</td>\n",
       "      <td>NaN</td>\n",
       "    </tr>\n",
       "    <tr>\n",
       "      <th>1</th>\n",
       "      <td>upGrad</td>\n",
       "      <td>2015.0</td>\n",
       "      <td>Mumbai</td>\n",
       "      <td>EdTech</td>\n",
       "      <td>UpGrad is an online higher education platform.</td>\n",
       "      <td>Mayank Kumar, Phalgun Kompalli, Ravijot Chugh,...</td>\n",
       "      <td>Unilazer Ventures, IIFL Asset Management</td>\n",
       "      <td>$120,000,000</td>\n",
       "      <td>None</td>\n",
       "      <td>NaN</td>\n",
       "    </tr>\n",
       "    <tr>\n",
       "      <th>2</th>\n",
       "      <td>Lead School</td>\n",
       "      <td>2012.0</td>\n",
       "      <td>Mumbai</td>\n",
       "      <td>EdTech</td>\n",
       "      <td>LEAD School offers technology based school tra...</td>\n",
       "      <td>Smita Deorah, Sumeet Mehta</td>\n",
       "      <td>GSV Ventures, Westbridge Capital</td>\n",
       "      <td>$30,000,000</td>\n",
       "      <td>Series D</td>\n",
       "      <td>NaN</td>\n",
       "    </tr>\n",
       "    <tr>\n",
       "      <th>3</th>\n",
       "      <td>Bizongo</td>\n",
       "      <td>2015.0</td>\n",
       "      <td>Mumbai</td>\n",
       "      <td>B2B E-commerce</td>\n",
       "      <td>Bizongo is a business-to-business online marke...</td>\n",
       "      <td>Aniket Deb, Ankit Tomar, Sachin Agrawal</td>\n",
       "      <td>CDC Group, IDG Capital</td>\n",
       "      <td>$51,000,000</td>\n",
       "      <td>Series C</td>\n",
       "      <td>NaN</td>\n",
       "    </tr>\n",
       "    <tr>\n",
       "      <th>4</th>\n",
       "      <td>FypMoney</td>\n",
       "      <td>2021.0</td>\n",
       "      <td>Gurugram</td>\n",
       "      <td>FinTech</td>\n",
       "      <td>FypMoney is Digital NEO Bank for Teenagers, em...</td>\n",
       "      <td>Kapil Banwari</td>\n",
       "      <td>Liberatha Kallat, Mukesh Yadav, Dinesh Nagpal</td>\n",
       "      <td>$2,000,000</td>\n",
       "      <td>Seed</td>\n",
       "      <td>NaN</td>\n",
       "    </tr>\n",
       "  </tbody>\n",
       "</table>\n",
       "</div>"
      ],
      "text/plain": [
       "    Company_Brand  Founded HeadQuarter          Sector  \\\n",
       "0  Unbox Robotics   2019.0   Bangalore      AI startup   \n",
       "1          upGrad   2015.0      Mumbai          EdTech   \n",
       "2     Lead School   2012.0      Mumbai          EdTech   \n",
       "3         Bizongo   2015.0      Mumbai  B2B E-commerce   \n",
       "4        FypMoney   2021.0    Gurugram         FinTech   \n",
       "\n",
       "                                        What_it_does  \\\n",
       "0  Unbox Robotics builds on-demand AI-driven ware...   \n",
       "1     UpGrad is an online higher education platform.   \n",
       "2  LEAD School offers technology based school tra...   \n",
       "3  Bizongo is a business-to-business online marke...   \n",
       "4  FypMoney is Digital NEO Bank for Teenagers, em...   \n",
       "\n",
       "                                            Founders  \\\n",
       "0                        Pramod Ghadge, Shahid Memon   \n",
       "1  Mayank Kumar, Phalgun Kompalli, Ravijot Chugh,...   \n",
       "2                         Smita Deorah, Sumeet Mehta   \n",
       "3            Aniket Deb, Ankit Tomar, Sachin Agrawal   \n",
       "4                                      Kapil Banwari   \n",
       "\n",
       "                                        Investor        Amount         Stage  \\\n",
       "0                    BEENEXT, Entrepreneur First    $1,200,000  Pre-series A   \n",
       "1       Unilazer Ventures, IIFL Asset Management  $120,000,000          None   \n",
       "2               GSV Ventures, Westbridge Capital   $30,000,000      Series D   \n",
       "3                         CDC Group, IDG Capital   $51,000,000      Series C   \n",
       "4  Liberatha Kallat, Mukesh Yadav, Dinesh Nagpal    $2,000,000          Seed   \n",
       "\n",
       "  column10  \n",
       "0      NaN  \n",
       "1      NaN  \n",
       "2      NaN  \n",
       "3      NaN  \n",
       "4      NaN  "
      ]
     },
     "execution_count": 14,
     "metadata": {},
     "output_type": "execute_result"
    }
   ],
   "source": [
    "#Concating 2020 and 2021 data since they have a similar structure\n",
    "pd.set_option('display.max_rows', None)\n",
    "final_df = pd.concat([data_2021,data_2020,data_2019,data_2018],axis=0,ignore_index=True)\n",
    "final_df.head(5)"
   ]
  },
  {
   "cell_type": "code",
   "execution_count": 15,
   "id": "85c608f4",
   "metadata": {},
   "outputs": [],
   "source": [
    "#Saving the combined dataset to xlsx\n",
    "final_df.to_excel(\"startup_funding_2018_2019\\combined.xlsx\",index=False,\n",
    "             sheet_name='2018_to_2021') "
   ]
  },
  {
   "cell_type": "markdown",
   "id": "e8edf755",
   "metadata": {},
   "source": [
    "# Data Cleaning & Exploration"
   ]
  },
  {
   "cell_type": "code",
   "execution_count": 16,
   "id": "004843c0",
   "metadata": {},
   "outputs": [
    {
     "name": "stdout",
     "output_type": "stream",
     "text": [
      "<class 'pandas.core.frame.DataFrame'>\n",
      "RangeIndex: 2879 entries, 0 to 2878\n",
      "Data columns (total 10 columns):\n",
      " #   Column         Non-Null Count  Dtype  \n",
      "---  ------         --------------  -----  \n",
      " 0   Company_Brand  2879 non-null   object \n",
      " 1   Founded        2110 non-null   float64\n",
      " 2   HeadQuarter    2764 non-null   object \n",
      " 3   Sector         2861 non-null   object \n",
      " 4   What_it_does   2879 non-null   object \n",
      " 5   Founders       2334 non-null   object \n",
      " 6   Investor       1264 non-null   object \n",
      " 7   Amount         1743 non-null   object \n",
      " 8   Stage          1262 non-null   object \n",
      " 9   column10       3 non-null      object \n",
      "dtypes: float64(1), object(9)\n",
      "memory usage: 225.0+ KB\n"
     ]
    }
   ],
   "source": [
    "#Considering the columns of interest and reindexing\n",
    "df= pd.read_excel('startup_funding_2018_2019\\complete_data.xlsx')\n",
    "df.info()\n"
   ]
  },
  {
   "cell_type": "code",
   "execution_count": 17,
   "id": "9172939b",
   "metadata": {},
   "outputs": [
    {
     "data": {
      "text/plain": [
       "(2879, 10)"
      ]
     },
     "execution_count": 17,
     "metadata": {},
     "output_type": "execute_result"
    }
   ],
   "source": [
    "df.shape"
   ]
  },
  {
   "cell_type": "code",
   "execution_count": 18,
   "id": "f6069b21",
   "metadata": {},
   "outputs": [
    {
     "name": "stderr",
     "output_type": "stream",
     "text": [
      "C:\\Users\\chrap\\AppData\\Local\\Temp\\ipykernel_36604\\171895789.py:3: SettingWithCopyWarning: \n",
      "A value is trying to be set on a copy of a slice from a DataFrame.\n",
      "Try using .loc[row_indexer,col_indexer] = value instead\n",
      "\n",
      "See the caveats in the documentation: https://pandas.pydata.org/pandas-docs/stable/user_guide/indexing.html#returning-a-view-versus-a-copy\n",
      "  lahk_investment.Amount=lahk_investment.Amount.str.replace('\\W', '', regex=True).astype(float)\n",
      "C:\\Users\\chrap\\AppData\\Local\\Temp\\ipykernel_36604\\171895789.py:4: SettingWithCopyWarning: \n",
      "A value is trying to be set on a copy of a slice from a DataFrame.\n",
      "Try using .loc[row_indexer,col_indexer] = value instead\n",
      "\n",
      "See the caveats in the documentation: https://pandas.pydata.org/pandas-docs/stable/user_guide/indexing.html#returning-a-view-versus-a-copy\n",
      "  lahk_investment.Amount=(lahk_investment.Amount )/ 82 #Converting to dollar denomination\n"
     ]
    },
    {
     "data": {
      "text/html": [
       "<div>\n",
       "<style scoped>\n",
       "    .dataframe tbody tr th:only-of-type {\n",
       "        vertical-align: middle;\n",
       "    }\n",
       "\n",
       "    .dataframe tbody tr th {\n",
       "        vertical-align: top;\n",
       "    }\n",
       "\n",
       "    .dataframe thead th {\n",
       "        text-align: right;\n",
       "    }\n",
       "</style>\n",
       "<table border=\"1\" class=\"dataframe\">\n",
       "  <thead>\n",
       "    <tr style=\"text-align: right;\">\n",
       "      <th></th>\n",
       "      <th>Company_Brand</th>\n",
       "      <th>Founded</th>\n",
       "      <th>HeadQuarter</th>\n",
       "      <th>Sector</th>\n",
       "      <th>What_it_does</th>\n",
       "      <th>Founders</th>\n",
       "      <th>Investor</th>\n",
       "      <th>Amount</th>\n",
       "      <th>Stage</th>\n",
       "      <th>column10</th>\n",
       "    </tr>\n",
       "  </thead>\n",
       "  <tbody>\n",
       "    <tr>\n",
       "      <th>2354</th>\n",
       "      <td>Happy Cow Dairy</td>\n",
       "      <td>NaN</td>\n",
       "      <td>Mumbai, Maharashtra, India</td>\n",
       "      <td>Agriculture, Farming</td>\n",
       "      <td>A startup which aggregates milk from dairy far...</td>\n",
       "      <td>NaN</td>\n",
       "      <td>NaN</td>\n",
       "      <td>487804.878049</td>\n",
       "      <td>Seed</td>\n",
       "      <td>NaN</td>\n",
       "    </tr>\n",
       "    <tr>\n",
       "      <th>2355</th>\n",
       "      <td>MyLoanCare</td>\n",
       "      <td>NaN</td>\n",
       "      <td>Gurgaon, Haryana, India</td>\n",
       "      <td>Credit, Financial Services, Lending, Marketplace</td>\n",
       "      <td>Leading Online Loans Marketplace in India</td>\n",
       "      <td>NaN</td>\n",
       "      <td>NaN</td>\n",
       "      <td>792682.926829</td>\n",
       "      <td>Series A</td>\n",
       "      <td>NaN</td>\n",
       "    </tr>\n",
       "  </tbody>\n",
       "</table>\n",
       "</div>"
      ],
      "text/plain": [
       "        Company_Brand  Founded                 HeadQuarter  \\\n",
       "2354  Happy Cow Dairy      NaN  Mumbai, Maharashtra, India   \n",
       "2355       MyLoanCare      NaN     Gurgaon, Haryana, India   \n",
       "\n",
       "                                                Sector  \\\n",
       "2354                              Agriculture, Farming   \n",
       "2355  Credit, Financial Services, Lending, Marketplace   \n",
       "\n",
       "                                           What_it_does Founders Investor  \\\n",
       "2354  A startup which aggregates milk from dairy far...      NaN      NaN   \n",
       "2355          Leading Online Loans Marketplace in India      NaN      NaN   \n",
       "\n",
       "             Amount     Stage column10  \n",
       "2354  487804.878049      Seed      NaN  \n",
       "2355  792682.926829  Series A      NaN  "
      ]
     },
     "execution_count": 18,
     "metadata": {},
     "output_type": "execute_result"
    }
   ],
   "source": [
    "#Removing the Lahk symbol\n",
    "lahk_investment=df[df['Amount'].str.contains('₹', na = False)]\n",
    "lahk_investment.Amount=lahk_investment.Amount.str.replace('\\W', '', regex=True).astype(float)\n",
    "lahk_investment.Amount=(lahk_investment.Amount )/ 82 #Converting to dollar denomination\n",
    "lahk_investment.head(2)\n"
   ]
  },
  {
   "cell_type": "code",
   "execution_count": 19,
   "id": "f5a0f4cf",
   "metadata": {},
   "outputs": [
    {
     "name": "stderr",
     "output_type": "stream",
     "text": [
      "C:\\Users\\chrap\\AppData\\Local\\Temp\\ipykernel_36604\\870280509.py:3: SettingWithCopyWarning: \n",
      "A value is trying to be set on a copy of a slice from a DataFrame.\n",
      "Try using .loc[row_indexer,col_indexer] = value instead\n",
      "\n",
      "See the caveats in the documentation: https://pandas.pydata.org/pandas-docs/stable/user_guide/indexing.html#returning-a-view-versus-a-copy\n",
      "  dollar_investment.Amount=dollar_investment.Amount.str.replace('\\W', '', regex=True)\n"
     ]
    },
    {
     "data": {
      "text/html": [
       "<div>\n",
       "<style scoped>\n",
       "    .dataframe tbody tr th:only-of-type {\n",
       "        vertical-align: middle;\n",
       "    }\n",
       "\n",
       "    .dataframe tbody tr th {\n",
       "        vertical-align: top;\n",
       "    }\n",
       "\n",
       "    .dataframe thead th {\n",
       "        text-align: right;\n",
       "    }\n",
       "</style>\n",
       "<table border=\"1\" class=\"dataframe\">\n",
       "  <thead>\n",
       "    <tr style=\"text-align: right;\">\n",
       "      <th></th>\n",
       "      <th>Company_Brand</th>\n",
       "      <th>Founded</th>\n",
       "      <th>HeadQuarter</th>\n",
       "      <th>Sector</th>\n",
       "      <th>What_it_does</th>\n",
       "      <th>Founders</th>\n",
       "      <th>Investor</th>\n",
       "      <th>Amount</th>\n",
       "      <th>Stage</th>\n",
       "      <th>column10</th>\n",
       "    </tr>\n",
       "  </thead>\n",
       "  <tbody>\n",
       "    <tr>\n",
       "      <th>0</th>\n",
       "      <td>Unbox Robotics</td>\n",
       "      <td>2019.0</td>\n",
       "      <td>Bangalore</td>\n",
       "      <td>AI startup</td>\n",
       "      <td>Unbox Robotics builds on-demand AI-driven ware...</td>\n",
       "      <td>Pramod Ghadge, Shahid Memon</td>\n",
       "      <td>BEENEXT, Entrepreneur First</td>\n",
       "      <td>1200000</td>\n",
       "      <td>Pre-series A</td>\n",
       "      <td>NaN</td>\n",
       "    </tr>\n",
       "    <tr>\n",
       "      <th>1</th>\n",
       "      <td>upGrad</td>\n",
       "      <td>2015.0</td>\n",
       "      <td>Mumbai</td>\n",
       "      <td>EdTech</td>\n",
       "      <td>UpGrad is an online higher education platform.</td>\n",
       "      <td>Mayank Kumar, Phalgun Kompalli, Ravijot Chugh,...</td>\n",
       "      <td>Unilazer Ventures, IIFL Asset Management</td>\n",
       "      <td>120000000</td>\n",
       "      <td>NaN</td>\n",
       "      <td>NaN</td>\n",
       "    </tr>\n",
       "  </tbody>\n",
       "</table>\n",
       "</div>"
      ],
      "text/plain": [
       "    Company_Brand  Founded HeadQuarter      Sector  \\\n",
       "0  Unbox Robotics   2019.0   Bangalore  AI startup   \n",
       "1          upGrad   2015.0      Mumbai      EdTech   \n",
       "\n",
       "                                        What_it_does  \\\n",
       "0  Unbox Robotics builds on-demand AI-driven ware...   \n",
       "1     UpGrad is an online higher education platform.   \n",
       "\n",
       "                                            Founders  \\\n",
       "0                        Pramod Ghadge, Shahid Memon   \n",
       "1  Mayank Kumar, Phalgun Kompalli, Ravijot Chugh,...   \n",
       "\n",
       "                                   Investor     Amount         Stage column10  \n",
       "0               BEENEXT, Entrepreneur First    1200000  Pre-series A      NaN  \n",
       "1  Unilazer Ventures, IIFL Asset Management  120000000           NaN      NaN  "
      ]
     },
     "execution_count": 19,
     "metadata": {},
     "output_type": "execute_result"
    }
   ],
   "source": [
    "#Removing the dollar symbol\n",
    "dollar_investment=df[df['Amount'].str.contains('$', na = False)]\n",
    "dollar_investment.Amount=dollar_investment.Amount.str.replace('\\W', '', regex=True)\n",
    "dollar_investment.head(2)"
   ]
  },
  {
   "cell_type": "code",
   "execution_count": 20,
   "id": "7581c150",
   "metadata": {},
   "outputs": [
    {
     "data": {
      "text/plain": [
       "(3965, 10)"
      ]
     },
     "execution_count": 20,
     "metadata": {},
     "output_type": "execute_result"
    }
   ],
   "source": [
    "#Merging the removed symbols with the original dataset\n",
    "f_df = pd.concat([df,dollar_investment,lahk_investment],axis=0,ignore_index=True)\n",
    "f_df.shape\n"
   ]
  },
  {
   "cell_type": "code",
   "execution_count": 21,
   "id": "d99ebb94",
   "metadata": {},
   "outputs": [
    {
     "data": {
      "text/plain": [
       "(2843, 10)"
      ]
     },
     "execution_count": 21,
     "metadata": {},
     "output_type": "execute_result"
    }
   ],
   "source": [
    "#Dropping duplicates from the original dataset to maintain the 'removed symbols' rows\n",
    "f_df.drop_duplicates(subset=['Stage','Founded','Founders','Company_Brand','HeadQuarter','Investor','Sector','What_it_does','column10'],  keep='last', inplace=True, ignore_index=False)\n",
    "f_df.shape"
   ]
  },
  {
   "cell_type": "code",
   "execution_count": 22,
   "id": "09fe9543",
   "metadata": {},
   "outputs": [
    {
     "data": {
      "text/plain": [
       "Company_Brand       0\n",
       "Founded           768\n",
       "HeadQuarter       115\n",
       "Sector             18\n",
       "What_it_does        0\n",
       "Founders          544\n",
       "Investor         1588\n",
       "Amount           1110\n",
       "Stage            1586\n",
       "column10         2840\n",
       "dtype: int64"
      ]
     },
     "execution_count": 22,
     "metadata": {},
     "output_type": "execute_result"
    }
   ],
   "source": [
    "#Finding the number of nan in each column\n",
    "f_df.isna().sum()\n",
    "\n"
   ]
  },
  {
   "cell_type": "code",
   "execution_count": 23,
   "id": "adc5e6be",
   "metadata": {},
   "outputs": [
    {
     "name": "stderr",
     "output_type": "stream",
     "text": [
      "C:\\Users\\chrap\\AppData\\Local\\Temp\\ipykernel_36604\\802069553.py:3: SettingWithCopyWarning: \n",
      "A value is trying to be set on a copy of a slice from a DataFrame\n",
      "\n",
      "See the caveats in the documentation: https://pandas.pydata.org/pandas-docs/stable/user_guide/indexing.html#returning-a-view-versus-a-copy\n",
      "  wd.dropna(subset = ['Amount','Stage'], inplace = True)\n"
     ]
    },
    {
     "data": {
      "text/plain": [
       "(1142, 10)"
      ]
     },
     "execution_count": 23,
     "metadata": {},
     "output_type": "execute_result"
    }
   ],
   "source": [
    "#Dropping empty rows in the Stage and Amount columns\n",
    "wd=f_df.dropna(  how='any', subset=['Amount','Stage'])\n",
    "wd.dropna(subset = ['Amount','Stage'], inplace = True) \n",
    "wd.shape\n"
   ]
  },
  {
   "cell_type": "code",
   "execution_count": null,
   "id": "f484926b",
   "metadata": {},
   "outputs": [],
   "source": []
  },
  {
   "cell_type": "code",
   "execution_count": null,
   "id": "7785c900",
   "metadata": {},
   "outputs": [],
   "source": []
  },
  {
   "cell_type": "code",
   "execution_count": null,
   "id": "76eb2dbb",
   "metadata": {},
   "outputs": [],
   "source": []
  },
  {
   "cell_type": "code",
   "execution_count": null,
   "id": "02d09b78",
   "metadata": {},
   "outputs": [],
   "source": []
  },
  {
   "cell_type": "code",
   "execution_count": null,
   "id": "2179da83",
   "metadata": {},
   "outputs": [],
   "source": []
  },
  {
   "cell_type": "code",
   "execution_count": null,
   "id": "a0c90834",
   "metadata": {},
   "outputs": [],
   "source": []
  },
  {
   "cell_type": "code",
   "execution_count": null,
   "id": "282ac488",
   "metadata": {},
   "outputs": [],
   "source": []
  },
  {
   "cell_type": "code",
   "execution_count": 24,
   "id": "17d044f5",
   "metadata": {},
   "outputs": [
    {
     "ename": "NameError",
     "evalue": "name 'am' is not defined",
     "output_type": "error",
     "traceback": [
      "\u001b[1;31m---------------------------------------------------------------------------\u001b[0m",
      "\u001b[1;31mNameError\u001b[0m                                 Traceback (most recent call last)",
      "Cell \u001b[1;32mIn[24], line 1\u001b[0m\n\u001b[1;32m----> 1\u001b[0m \u001b[38;5;28;01mfor\u001b[39;00m m \u001b[38;5;129;01min\u001b[39;00m \u001b[43mam\u001b[49m:\n\u001b[0;32m      2\u001b[0m     v\u001b[38;5;241m=\u001b[39m\u001b[38;5;28mstr\u001b[39m(m)\n\u001b[0;32m      3\u001b[0m     \u001b[38;5;28;01mif\u001b[39;00m v\u001b[38;5;241m.\u001b[39mstartswith(\u001b[38;5;124m'\u001b[39m\u001b[38;5;124m₹\u001b[39m\u001b[38;5;124m'\u001b[39m):\n",
      "\u001b[1;31mNameError\u001b[0m: name 'am' is not defined"
     ]
    }
   ],
   "source": [
    "for m in am:\n",
    "    v=str(m)\n",
    "    if v.startswith('₹'):\n",
    "        b=v.split(\"₹\")[1]\n",
    "\n",
    "        \n",
    "        print(b)"
   ]
  },
  {
   "cell_type": "code",
   "execution_count": null,
   "id": "6153f6c1",
   "metadata": {},
   "outputs": [],
   "source": []
  },
  {
   "cell_type": "code",
   "execution_count": null,
   "id": "6fe73fd5",
   "metadata": {},
   "outputs": [
    {
     "data": {
      "text/html": [
       "<div>\n",
       "<style scoped>\n",
       "    .dataframe tbody tr th:only-of-type {\n",
       "        vertical-align: middle;\n",
       "    }\n",
       "\n",
       "    .dataframe tbody tr th {\n",
       "        vertical-align: top;\n",
       "    }\n",
       "\n",
       "    .dataframe thead th {\n",
       "        text-align: right;\n",
       "    }\n",
       "</style>\n",
       "<table border=\"1\" class=\"dataframe\">\n",
       "  <thead>\n",
       "    <tr style=\"text-align: right;\">\n",
       "      <th></th>\n",
       "      <th>Company_Brand</th>\n",
       "      <th>Founded</th>\n",
       "      <th>HeadQuarter</th>\n",
       "      <th>Sector</th>\n",
       "      <th>What_it_does</th>\n",
       "      <th>Founders</th>\n",
       "      <th>Investor</th>\n",
       "      <th>Amount</th>\n",
       "      <th>Stage</th>\n",
       "      <th>column10</th>\n",
       "    </tr>\n",
       "  </thead>\n",
       "  <tbody>\n",
       "    <tr>\n",
       "      <th>538</th>\n",
       "      <td>Little Leap</td>\n",
       "      <td>2020.0</td>\n",
       "      <td>New Delhi</td>\n",
       "      <td>EdTech</td>\n",
       "      <td>Soft Skills that make Smart Leaders</td>\n",
       "      <td>Holistic Development Programs for children in ...</td>\n",
       "      <td>Vishal Gupta</td>\n",
       "      <td>ah! Ventures</td>\n",
       "      <td>$300000</td>\n",
       "      <td>NaN</td>\n",
       "    </tr>\n",
       "    <tr>\n",
       "      <th>551</th>\n",
       "      <td>BHyve</td>\n",
       "      <td>2020.0</td>\n",
       "      <td>Mumbai</td>\n",
       "      <td>Human Resources</td>\n",
       "      <td>A Future of Work Platform for diffusing Employ...</td>\n",
       "      <td>Backed by 100x.VC</td>\n",
       "      <td>Omkar Pandharkame, Ketaki Ogale</td>\n",
       "      <td>ITO Angel Network, LetsVenture</td>\n",
       "      <td>$300000</td>\n",
       "      <td>NaN</td>\n",
       "    </tr>\n",
       "    <tr>\n",
       "      <th>674</th>\n",
       "      <td>MYRE Capital</td>\n",
       "      <td>2020.0</td>\n",
       "      <td>Mumbai</td>\n",
       "      <td>Commercial Real Estate</td>\n",
       "      <td>Democratising Real Estate Ownership</td>\n",
       "      <td>Own rent yielding commercial properties</td>\n",
       "      <td>Aryaman Vir</td>\n",
       "      <td>None</td>\n",
       "      <td>$6000000</td>\n",
       "      <td>NaN</td>\n",
       "    </tr>\n",
       "    <tr>\n",
       "      <th>677</th>\n",
       "      <td>Saarthi Pedagogy</td>\n",
       "      <td>2015.0</td>\n",
       "      <td>Ahmadabad</td>\n",
       "      <td>EdTech</td>\n",
       "      <td>India's fastest growing Pedagogy company, serv...</td>\n",
       "      <td>Pedagogy</td>\n",
       "      <td>Sushil Agarwal</td>\n",
       "      <td>JITO Angel Network, LetsVenture</td>\n",
       "      <td>$1000000</td>\n",
       "      <td>NaN</td>\n",
       "    </tr>\n",
       "  </tbody>\n",
       "</table>\n",
       "</div>"
      ],
      "text/plain": [
       "        Company_Brand  Founded HeadQuarter                  Sector  \\\n",
       "538       Little Leap   2020.0   New Delhi                  EdTech   \n",
       "551             BHyve   2020.0      Mumbai         Human Resources   \n",
       "674      MYRE Capital   2020.0      Mumbai  Commercial Real Estate   \n",
       "677  Saarthi Pedagogy   2015.0   Ahmadabad                  EdTech   \n",
       "\n",
       "                                          What_it_does  \\\n",
       "538                Soft Skills that make Smart Leaders   \n",
       "551  A Future of Work Platform for diffusing Employ...   \n",
       "674                Democratising Real Estate Ownership   \n",
       "677  India's fastest growing Pedagogy company, serv...   \n",
       "\n",
       "                                              Founders  \\\n",
       "538  Holistic Development Programs for children in ...   \n",
       "551                                  Backed by 100x.VC   \n",
       "674            Own rent yielding commercial properties   \n",
       "677                                           Pedagogy   \n",
       "\n",
       "                            Investor                           Amount  \\\n",
       "538                     Vishal Gupta                     ah! Ventures   \n",
       "551  Omkar Pandharkame, Ketaki Ogale   ITO Angel Network, LetsVenture   \n",
       "674                      Aryaman Vir                             None   \n",
       "677                   Sushil Agarwal  JITO Angel Network, LetsVenture   \n",
       "\n",
       "        Stage column10  \n",
       "538   $300000      NaN  \n",
       "551   $300000      NaN  \n",
       "674  $6000000      NaN  \n",
       "677  $1000000      NaN  "
      ]
     },
     "execution_count": 216,
     "metadata": {},
     "output_type": "execute_result"
    }
   ],
   "source": [
    "#Not done yet\n",
    "final_df.query('Stage==[\"$6000000\",\"$300000\",\"$1000000\"]')\n"
   ]
  },
  {
   "cell_type": "code",
   "execution_count": null,
   "id": "3461e56a",
   "metadata": {},
   "outputs": [
    {
     "data": {
      "text/plain": [
       "array(['Unbox Robotics builds on-demand AI-driven warehouse robotics solutions, which can be deployed using limited foot-print, time, and capital.',\n",
       "       'UpGrad is an online higher education platform.',\n",
       "       'LEAD School offers technology based school transformation system that assures excellent learning for every child.',\n",
       "       ...,\n",
       "       'Mombay is a unique opportunity for housewives to start household food business and avail everyone with their homemade healthy dishes.',\n",
       "       'Droni Tech manufacture UAVs and develop software to service a range of industry requirements.',\n",
       "       \"Welcome to India's most convenient pharmacy!\"], dtype=object)"
      ]
     },
     "execution_count": 217,
     "metadata": {},
     "output_type": "execute_result"
    }
   ],
   "source": [
    "final_df.What_it_does.unique()"
   ]
  },
  {
   "cell_type": "code",
   "execution_count": null,
   "id": "b2cf8057",
   "metadata": {},
   "outputs": [
    {
     "data": {
      "text/plain": [
       "array(['Bangalore', 'Mumbai', 'Gurugram', 'New Delhi', 'Hyderabad',\n",
       "       'Jaipur', 'Ahmadabad', 'Chennai', None,\n",
       "       'Small Towns, Andhra Pradesh', 'Goa', 'Rajsamand', 'Ranchi',\n",
       "       'Faridabad, Haryana', 'Gujarat', 'Pune', 'Thane', 'Computer Games',\n",
       "       'Cochin', 'Noida', 'Chandigarh', 'Gurgaon', 'Vadodara',\n",
       "       'Food & Beverages', 'Pharmaceuticals\\t#REF!', 'Gurugram\\t#REF!',\n",
       "       'Kolkata', 'Ahmedabad', 'Mohali', 'Haryana', 'Indore', 'Powai',\n",
       "       'Ghaziabad', 'Nagpur', 'West Bengal', 'Patna', 'Samsitpur',\n",
       "       'Lucknow', 'Telangana', 'Silvassa', 'Thiruvananthapuram',\n",
       "       'Faridabad', 'Roorkee', 'Ambernath', 'Panchkula', 'Surat',\n",
       "       'Coimbatore', 'Andheri', 'Mangalore', 'Telugana', 'Bhubaneswar',\n",
       "       'Kottayam', 'Beijing', 'Panaji', 'Satara', 'Orissia', 'Jodhpur',\n",
       "       'New York', 'Santra', 'Mountain View, CA', 'Trivandrum',\n",
       "       'Jharkhand', 'Kanpur', 'Bhilwara', 'Guwahati',\n",
       "       'Online Media\\t#REF!', 'Kochi', 'London',\n",
       "       'Information Technology & Services', 'The Nilgiris', 'Gandhinagar',\n",
       "       'Belgaum', 'Tirunelveli, Tamilnadu', 'Singapore', 'Kerala',\n",
       "       'Jaipur, Rajastan', 'Delhi', 'Frisco, Texas, United States',\n",
       "       'California', 'Dhingsara, Haryana', 'New York, United States',\n",
       "       'San Francisco, California, United States',\n",
       "       'San Francisco, United States', 'San Ramon, California',\n",
       "       'Paris, Ile-de-France, France', 'Plano, Texas, United States',\n",
       "       'Sydney', 'San Francisco Bay Area, Silicon Valley, West Coast',\n",
       "       'Bangaldesh', 'London, England, United Kingdom',\n",
       "       'Sydney, New South Wales, Australia', 'Milano, Lombardia, Italy',\n",
       "       'Palmwoods, Queensland, Australia', 'France',\n",
       "       'San Francisco Bay Area, West Coast, Western US',\n",
       "       'Trivandrum, Kerala, India', 'Samastipur, Bihar',\n",
       "       'Irvine, California, United States', 'Tumkur, Karnataka',\n",
       "       'Newcastle Upon Tyne, Newcastle upon Tyne, United Kingdom',\n",
       "       'Shanghai, China', 'Jiaxing, Zhejiang, China', 'Rajastan',\n",
       "       'Ludhiana', 'Dehradun', 'San Franciscao', 'San Francisco',\n",
       "       'Tangerang, Jawa Barat, Indonesia', 'Berlin', 'Seattle', 'Riyadh',\n",
       "       'Seoul', 'Bangkok', 'Warangal', 'Hyderebad', 'Odisha', 'Bihar',\n",
       "       'Tamil Nadu', 'Uttar Pradesh', 'Bhopal', 'Banglore', 'Bengaluru',\n",
       "       nan, 'Uttar pradesh', 'Rajasthan', 'Bangalore, Karnataka, India',\n",
       "       'Mumbai, Maharashtra, India', 'Gurgaon, Haryana, India',\n",
       "       'Noida, Uttar Pradesh, India', 'Hyderabad, Andhra Pradesh, India',\n",
       "       'Bengaluru, Karnataka, India', 'Kalkaji, Delhi, India',\n",
       "       'Delhi, Delhi, India', 'India, Asia', 'Hubli, Karnataka, India',\n",
       "       'New Delhi, Delhi, India', 'Chennai, Tamil Nadu, India',\n",
       "       'Mohali, Punjab, India', 'Kolkata, West Bengal, India',\n",
       "       'Pune, Maharashtra, India', 'Jodhpur, Rajasthan, India',\n",
       "       'Kanpur, Uttar Pradesh, India', 'Ahmedabad, Gujarat, India',\n",
       "       'Azadpur, Delhi, India', 'Haryana, Haryana, India',\n",
       "       'Cochin, Kerala, India', 'Faridabad, Haryana, India',\n",
       "       'Jaipur, Rajasthan, India', 'Kota, Rajasthan, India',\n",
       "       'Anand, Gujarat, India', 'Bangalore City, Karnataka, India',\n",
       "       'Belgaum, Karnataka, India', 'Thane, Maharashtra, India',\n",
       "       'Margão, Goa, India', 'Indore, Madhya Pradesh, India',\n",
       "       'Alwar, Rajasthan, India', 'Kannur, Kerala, India',\n",
       "       'Ernakulam, Kerala, India', 'Kormangala, Karnataka, India',\n",
       "       'Uttar Pradesh, India, Asia', 'Andheri, Maharashtra, India',\n",
       "       'Mylapore, Tamil Nadu, India', 'Ghaziabad, Uttar Pradesh, India',\n",
       "       'Kochi, Kerala, India', 'Powai, Assam, India',\n",
       "       'Guntur, Andhra Pradesh, India', 'Kalpakkam, Tamil Nadu, India',\n",
       "       'Bhopal, Madhya Pradesh, India', 'Coimbatore, Tamil Nadu, India',\n",
       "       'Worli, Maharashtra, India', 'Alleppey, Kerala, India',\n",
       "       'Chandigarh, Chandigarh, India', 'Guindy, Tamil Nadu, India',\n",
       "       'Lucknow, Uttar Pradesh, India'], dtype=object)"
      ]
     },
     "execution_count": 218,
     "metadata": {},
     "output_type": "execute_result"
    }
   ],
   "source": [
    "final_df.HeadQuarter.unique()"
   ]
  },
  {
   "cell_type": "code",
   "execution_count": null,
   "id": "0e96858d",
   "metadata": {},
   "outputs": [
    {
     "data": {
      "text/plain": [
       "array(['Pramod Ghadge, Shahid Memon',\n",
       "       'Mayank Kumar, Phalgun Kompalli, Ravijot Chugh, Ronnie Screwvala',\n",
       "       'Smita Deorah, Sumeet Mehta', ..., 'Pavan Kushwaha',\n",
       "       'Jeevan Chowdary M, Harshit Harchani',\n",
       "       'Niraj Singh, Ramanshu Mahaur, Ganesh Pawar, Mohit Gupta'],\n",
       "      dtype=object)"
      ]
     },
     "execution_count": 219,
     "metadata": {},
     "output_type": "execute_result"
    }
   ],
   "source": [
    "final_df.Founders.unique()"
   ]
  },
  {
   "cell_type": "code",
   "execution_count": null,
   "id": "b9f2dbbe",
   "metadata": {},
   "outputs": [
    {
     "data": {
      "text/plain": [
       "array(['BEENEXT, Entrepreneur First',\n",
       "       'Unilazer Ventures, IIFL Asset Management',\n",
       "       'GSV Ventures, Westbridge Capital', ...,\n",
       "       'Norwest Venture Partners, General Catalyst, Fundamentum, Accel Partners',\n",
       "       'TPG, Norwest Venture Partners, Evolvence India', nan],\n",
       "      dtype=object)"
      ]
     },
     "execution_count": 220,
     "metadata": {},
     "output_type": "execute_result"
    }
   ],
   "source": [
    "final_df.Investor.unique()"
   ]
  },
  {
   "cell_type": "code",
   "execution_count": null,
   "id": "61774d0a",
   "metadata": {},
   "outputs": [
    {
     "name": "stdout",
     "output_type": "stream",
     "text": [
      "98\n",
      "111\n",
      "257\n",
      "1148\n"
     ]
    }
   ],
   "source": [
    "test\n",
    "\n",
    "for row in test.index:\n",
    "    print(row)\n",
    "    row_list = test.loc[row, :].values.flatten().tolist()\n",
    "    row_list\n",
    "#row_list = test.loc[98, :].values.flatten().tolist() \n"
   ]
  },
  {
   "cell_type": "code",
   "execution_count": null,
   "id": "506a49e1",
   "metadata": {},
   "outputs": [
    {
     "data": {
      "text/plain": [
       "['Godamwale',\n",
       " 2016.0,\n",
       " 'Mumbai',\n",
       " 'Logistics & Supply Chain',\n",
       " 'Godamwale is tech enabled integrated logistics company providing end to end supply chain solutions.',\n",
       " 'Basant Kumar, Vivek Tiwari, Ranbir Nandan',\n",
       " '1000000\\t#REF!',\n",
       " 'Seed',\n",
       " None]"
      ]
     },
     "execution_count": 222,
     "metadata": {},
     "output_type": "execute_result"
    }
   ],
   "source": [
    "row_list   \n"
   ]
  },
  {
   "cell_type": "code",
   "execution_count": null,
   "id": "42396d37",
   "metadata": {},
   "outputs": [
    {
     "name": "stdout",
     "output_type": "stream",
     "text": [
      "['Godamwale', 2016.0, 'Mumbai', 'Logistics & Supply Chain', 'Godamwale is tech enabled integrated logistics company providing end to end supply chain solutions.', 'Basant Kumar, Vivek Tiwari, Ranbir Nandan', '1000000\\t#REF!', 'Seed', None]\n"
     ]
    }
   ],
   "source": [
    "\n",
    "for i in row_list:\n",
    "    # Remove letters using string manipulation\n",
    "    \n",
    "    if isinstance(i, str):\n",
    "       s = ''.join(filter(str.isdigit, i))\n",
    "      \n",
    "       \n",
    "    else: \n",
    "       pass  \n",
    "print(row_list)\n",
    "\n",
    "    "
   ]
  }
 ],
 "metadata": {
  "kernelspec": {
   "display_name": "Python 3 (ipykernel)",
   "language": "python",
   "name": "python3"
  },
  "language_info": {
   "codemirror_mode": {
    "name": "ipython",
    "version": 3
   },
   "file_extension": ".py",
   "mimetype": "text/x-python",
   "name": "python",
   "nbconvert_exporter": "python",
   "pygments_lexer": "ipython3",
   "version": "3.9.13"
  }
 },
 "nbformat": 4,
 "nbformat_minor": 5
}
