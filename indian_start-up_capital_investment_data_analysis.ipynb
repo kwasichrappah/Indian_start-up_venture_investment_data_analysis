{
 "cells": [
  {
   "cell_type": "markdown",
   "id": "c5490f1b",
   "metadata": {},
   "source": [
    "# Investigating the indian ecosystem and to propose the best indian start-up to invest"
   ]
  },
  {
   "cell_type": "markdown",
   "id": "17672573",
   "metadata": {},
   "source": [
    "## Description\n",
    "The objective of this project is to analyse the indian start-up investment data over the course of four years (2018-2021) to find out which funding stages are very attractive to investors and at what risk level. "
   ]
  },
  {
   "cell_type": "markdown",
   "id": "1ec57474",
   "metadata": {},
   "source": [
    "## Assumptions\n",
    "- All currencies is in USD\n",
    "- 82 Lahk/USD"
   ]
  },
  {
   "cell_type": "markdown",
   "id": "116a0a05",
   "metadata": {},
   "source": [
    "## Null Hypothesis \n",
    "Average Investment amounts received by start-ups have no relation to sectors they operate in.\n"
   ]
  },
  {
   "cell_type": "markdown",
   "id": "c477776d",
   "metadata": {},
   "source": [
    "# Alternate Hypo\n",
    "There is a relationship between average investment amounts received by start-ups and the sectors they operate in"
   ]
  },
  {
   "cell_type": "markdown",
   "id": "b392e991",
   "metadata": {},
   "source": [
    "## Analytical Questions\n",
    "1. Does location affect the amount of funding or investments?\n",
    "2. Does the sector of start up affect the fundings?\n",
    "3. How many companies need funding and are at what level of funding ?\n",
    "4. Which sectors receive the highest investment amounts?\n",
    "5. Which cities have the highest number of startups and at what levels?\n",
    "6. What are the levels of funding the startups are receiving?"
   ]
  },
  {
   "cell_type": "markdown",
   "id": "296f48c1",
   "metadata": {},
   "source": [
    "# GOAL\n",
    "`\n",
    "The goal of this project is to propose the best indian start-up to invest."
   ]
  },
  {
   "cell_type": "code",
   "execution_count": null,
   "id": "ab9093f6",
   "metadata": {},
   "outputs": [],
   "source": [
    "#Libraries imported\n",
    "import MySQLdb\n",
    "import sqlalchemy as sa\n",
    "import pyodbc     \n",
    "from dotenv import dotenv_values    #import the dotenv_values function from the dotenv package\n",
    "import pandas as pd\n",
    "import warnings \n"
   ]
  },
  {
   "cell_type": "code",
   "execution_count": null,
   "id": "7960ef4f",
   "metadata": {},
   "outputs": [],
   "source": [
    "env_variables= dotenv_values('logins.env')\n",
    "database= env_variables.get('database')\n",
    "server = env_variables.get('server')\n",
    "username = env_variables.get('username')\n",
    "password = env_variables.get('password')"
   ]
  },
  {
   "cell_type": "markdown",
   "id": "c02588ac",
   "metadata": {},
   "source": [
    "# Data Understanding\n",
    "\n",
    "- There are four data sources to work with (2 SQL and 2 CSVs)\n",
    "- Explore data\n",
    "- Verify data quality"
   ]
  },
  {
   "cell_type": "markdown",
   "id": "6526fade",
   "metadata": {},
   "source": [
    "### Connecting to the dapDB to extract the 2020 and 2021 data"
   ]
  },
  {
   "cell_type": "code",
   "execution_count": null,
   "id": "c213a6d4",
   "metadata": {},
   "outputs": [],
   "source": [
    "#Connecting to the database to analyse the 2020-2021 data\n",
    "\n",
    "connection_string = f\"DRIVER={{SQL Server}};SERVER={server};DATABASE={database};UID={username};PWD={password};MARS_Connection=yes;MinProtocolVersion=TLSv1.2;\"\n",
    "connection = pyodbc.connect(connection_string)"
   ]
  },
  {
   "cell_type": "code",
   "execution_count": null,
   "id": "3373bb90",
   "metadata": {},
   "outputs": [],
   "source": [
    "#query the 2020 startup funding data\n",
    "\n",
    "query = \"SELECT * FROM LP1_startup_funding2020\"\n",
    "\n",
    "data_2020 = pd.read_sql(query, connection)\n",
    "data_2020.columns"
   ]
  },
  {
   "cell_type": "code",
   "execution_count": null,
   "id": "bb08e710",
   "metadata": {},
   "outputs": [],
   "source": [
    "data_2020.head(2)"
   ]
  },
  {
   "cell_type": "code",
   "execution_count": null,
   "id": "16261e43",
   "metadata": {},
   "outputs": [],
   "source": [
    "data_2020.Amount.unique()"
   ]
  },
  {
   "cell_type": "code",
   "execution_count": null,
   "id": "7e67dcd3",
   "metadata": {},
   "outputs": [],
   "source": [
    "#query the 2021 startup funding data\n",
    "query = \"SELECT * FROM LP1_startup_funding2021\"\n",
    "\n",
    "data_2021 = pd.read_sql(query, connection)\n",
    "data_2021.head(5)\n"
   ]
  },
  {
   "cell_type": "code",
   "execution_count": null,
   "id": "eb5fb57a",
   "metadata": {},
   "outputs": [],
   "source": [
    "data_2021.Amount.unique()"
   ]
  },
  {
   "cell_type": "code",
   "execution_count": null,
   "id": "9d3bf247",
   "metadata": {},
   "outputs": [],
   "source": [
    "#Checking for data entry errors\n",
    "test=data_2021.query('Amount==[\"SeriesC\",\"Seed\",\"Upsparks\"]')\n",
    "test"
   ]
  },
  {
   "cell_type": "code",
   "execution_count": null,
   "id": "833b4a08",
   "metadata": {},
   "outputs": [],
   "source": [
    "#Reading 2018 and 2019 data from the csv files\n",
    "\n",
    "data_2018=pd.read_csv('startup_funding_2018_2019\\startup_funding2018.csv')\n",
    "data_2018.head(5)"
   ]
  },
  {
   "cell_type": "code",
   "execution_count": null,
   "id": "2d3abf18",
   "metadata": {},
   "outputs": [],
   "source": [
    "data_2019=pd.read_csv('startup_funding_2018_2019\\startup_funding2019.csv')\n",
    "data_2019.info()"
   ]
  },
  {
   "cell_type": "code",
   "execution_count": null,
   "id": "07727f93",
   "metadata": {},
   "outputs": [],
   "source": [
    "#Changing column names of 2019 data to match all other datasets\n",
    "data_2019.rename(columns={'Company/Brand':'Company_Brand', 'What it does':'What_it_does', 'Amount($)':'Amount'}, inplace=True)\n",
    "data_2019.columns"
   ]
  },
  {
   "cell_type": "code",
   "execution_count": null,
   "id": "7c5d35cd",
   "metadata": {},
   "outputs": [],
   "source": [
    "#Changing column names of 2018 data to match all other datasets\n",
    "data_2018.rename(columns={'Company Name':'Company_Brand','Industry':'Sector', 'Round/Series':'Stage', 'Location':'HeadQuarter', 'About Company':'What_it_does'}, inplace=True)\n",
    "data_2018.head(5)"
   ]
  },
  {
   "cell_type": "markdown",
   "id": "c376ae0c",
   "metadata": {},
   "source": [
    "### Merging datasets"
   ]
  },
  {
   "cell_type": "code",
   "execution_count": null,
   "id": "92f18bcf",
   "metadata": {},
   "outputs": [],
   "source": [
    "#Concating 2020 and 2021 data since they have a similar structure\n",
    "pd.set_option('display.max_rows', None)\n",
    "final_df = pd.concat([data_2021,data_2020,data_2019,data_2018],axis=0,ignore_index=True)\n",
    "final_df.head(5)"
   ]
  },
  {
   "cell_type": "code",
   "execution_count": null,
   "id": "85c608f4",
   "metadata": {},
   "outputs": [],
   "source": [
    "#Saving the combined dataset to xlsx\n",
    "final_df.to_excel(\"startup_funding_2018_2019\\combined.xlsx\",index=False,\n",
    "             sheet_name='2018_to_2021') "
   ]
  },
  {
   "cell_type": "markdown",
   "id": "e8edf755",
   "metadata": {},
   "source": [
    "# Data Cleaning & Exploration"
   ]
  },
  {
   "cell_type": "code",
   "execution_count": 136,
   "id": "004843c0",
   "metadata": {},
   "outputs": [
    {
     "name": "stdout",
     "output_type": "stream",
     "text": [
      "<class 'pandas.core.frame.DataFrame'>\n",
      "RangeIndex: 2879 entries, 0 to 2878\n",
      "Data columns (total 10 columns):\n",
      " #   Column         Non-Null Count  Dtype  \n",
      "---  ------         --------------  -----  \n",
      " 0   Company_Brand  2879 non-null   object \n",
      " 1   Founded        2110 non-null   float64\n",
      " 2   HeadQuarter    2764 non-null   object \n",
      " 3   Sector         2861 non-null   object \n",
      " 4   What_it_does   2879 non-null   object \n",
      " 5   Founders       2334 non-null   object \n",
      " 6   Investor       1264 non-null   object \n",
      " 7   Amount         1743 non-null   object \n",
      " 8   Stage          1262 non-null   object \n",
      " 9   column10       3 non-null      object \n",
      "dtypes: float64(1), object(9)\n",
      "memory usage: 225.0+ KB\n"
     ]
    }
   ],
   "source": [
    "#Considering the columns of interest and reindexing\n",
    "df= pd.read_excel('startup_funding_2018_2019\\complete_data.xlsx')\n",
    "df.info()\n"
   ]
  },
  {
   "cell_type": "code",
   "execution_count": 138,
   "id": "9172939b",
   "metadata": {},
   "outputs": [
    {
     "data": {
      "text/plain": [
       "(2879, 10)"
      ]
     },
     "execution_count": 138,
     "metadata": {},
     "output_type": "execute_result"
    }
   ],
   "source": [
    "df.shape"
   ]
  },
  {
   "cell_type": "code",
   "execution_count": 139,
   "id": "f6069b21",
   "metadata": {},
   "outputs": [
    {
     "name": "stderr",
     "output_type": "stream",
     "text": [
      "C:\\Users\\chrap\\AppData\\Local\\Temp\\ipykernel_15344\\1726132015.py:2: SettingWithCopyWarning: \n",
      "A value is trying to be set on a copy of a slice from a DataFrame.\n",
      "Try using .loc[row_indexer,col_indexer] = value instead\n",
      "\n",
      "See the caveats in the documentation: https://pandas.pydata.org/pandas-docs/stable/user_guide/indexing.html#returning-a-view-versus-a-copy\n",
      "  lahk_investment.Amount=lahk_investment.Amount.str.replace('\\W', '', regex=True).astype(float)\n",
      "C:\\Users\\chrap\\AppData\\Local\\Temp\\ipykernel_15344\\1726132015.py:3: SettingWithCopyWarning: \n",
      "A value is trying to be set on a copy of a slice from a DataFrame.\n",
      "Try using .loc[row_indexer,col_indexer] = value instead\n",
      "\n",
      "See the caveats in the documentation: https://pandas.pydata.org/pandas-docs/stable/user_guide/indexing.html#returning-a-view-versus-a-copy\n",
      "  lahk_investment.Amount=(lahk_investment.Amount )/ 82 #Converting to dollar denomination\n"
     ]
    },
    {
     "data": {
      "text/html": [
       "<div>\n",
       "<style scoped>\n",
       "    .dataframe tbody tr th:only-of-type {\n",
       "        vertical-align: middle;\n",
       "    }\n",
       "\n",
       "    .dataframe tbody tr th {\n",
       "        vertical-align: top;\n",
       "    }\n",
       "\n",
       "    .dataframe thead th {\n",
       "        text-align: right;\n",
       "    }\n",
       "</style>\n",
       "<table border=\"1\" class=\"dataframe\">\n",
       "  <thead>\n",
       "    <tr style=\"text-align: right;\">\n",
       "      <th></th>\n",
       "      <th>Company_Brand</th>\n",
       "      <th>Founded</th>\n",
       "      <th>HeadQuarter</th>\n",
       "      <th>Sector</th>\n",
       "      <th>What_it_does</th>\n",
       "      <th>Founders</th>\n",
       "      <th>Investor</th>\n",
       "      <th>Amount</th>\n",
       "      <th>Stage</th>\n",
       "      <th>column10</th>\n",
       "    </tr>\n",
       "  </thead>\n",
       "  <tbody>\n",
       "    <tr>\n",
       "      <th>2354</th>\n",
       "      <td>Happy Cow Dairy</td>\n",
       "      <td>NaN</td>\n",
       "      <td>Mumbai, Maharashtra, India</td>\n",
       "      <td>Agriculture, Farming</td>\n",
       "      <td>A startup which aggregates milk from dairy far...</td>\n",
       "      <td>NaN</td>\n",
       "      <td>NaN</td>\n",
       "      <td>487804.878049</td>\n",
       "      <td>Seed</td>\n",
       "      <td>NaN</td>\n",
       "    </tr>\n",
       "    <tr>\n",
       "      <th>2355</th>\n",
       "      <td>MyLoanCare</td>\n",
       "      <td>NaN</td>\n",
       "      <td>Gurgaon, Haryana, India</td>\n",
       "      <td>Credit, Financial Services, Lending, Marketplace</td>\n",
       "      <td>Leading Online Loans Marketplace in India</td>\n",
       "      <td>NaN</td>\n",
       "      <td>NaN</td>\n",
       "      <td>792682.926829</td>\n",
       "      <td>Series A</td>\n",
       "      <td>NaN</td>\n",
       "    </tr>\n",
       "  </tbody>\n",
       "</table>\n",
       "</div>"
      ],
      "text/plain": [
       "        Company_Brand  Founded                 HeadQuarter  \\\n",
       "2354  Happy Cow Dairy      NaN  Mumbai, Maharashtra, India   \n",
       "2355       MyLoanCare      NaN     Gurgaon, Haryana, India   \n",
       "\n",
       "                                                Sector  \\\n",
       "2354                              Agriculture, Farming   \n",
       "2355  Credit, Financial Services, Lending, Marketplace   \n",
       "\n",
       "                                           What_it_does Founders Investor  \\\n",
       "2354  A startup which aggregates milk from dairy far...      NaN      NaN   \n",
       "2355          Leading Online Loans Marketplace in India      NaN      NaN   \n",
       "\n",
       "             Amount     Stage column10  \n",
       "2354  487804.878049      Seed      NaN  \n",
       "2355  792682.926829  Series A      NaN  "
      ]
     },
     "execution_count": 139,
     "metadata": {},
     "output_type": "execute_result"
    }
   ],
   "source": [
    "#Removing the Lahk symbol\n",
    "lahk_investment=df[df['Amount'].str.contains('₹', na = False)]\n",
    "lahk_investment.Amount=lahk_investment.Amount.str.replace('\\W', '', regex=True).astype(float)\n",
    "lahk_investment.Amount=(lahk_investment.Amount )/ 82 #Converting to dollar denomination\n",
    "lahk_investment.head(2)\n"
   ]
  },
  {
   "cell_type": "code",
   "execution_count": 140,
   "id": "f5a0f4cf",
   "metadata": {},
   "outputs": [
    {
     "name": "stderr",
     "output_type": "stream",
     "text": [
      "C:\\Users\\chrap\\AppData\\Local\\Temp\\ipykernel_15344\\1641492320.py:2: SettingWithCopyWarning: \n",
      "A value is trying to be set on a copy of a slice from a DataFrame.\n",
      "Try using .loc[row_indexer,col_indexer] = value instead\n",
      "\n",
      "See the caveats in the documentation: https://pandas.pydata.org/pandas-docs/stable/user_guide/indexing.html#returning-a-view-versus-a-copy\n",
      "  dollar_investment.Amount=dollar_investment.Amount.str.replace('\\W', '', regex=True)\n"
     ]
    },
    {
     "data": {
      "text/html": [
       "<div>\n",
       "<style scoped>\n",
       "    .dataframe tbody tr th:only-of-type {\n",
       "        vertical-align: middle;\n",
       "    }\n",
       "\n",
       "    .dataframe tbody tr th {\n",
       "        vertical-align: top;\n",
       "    }\n",
       "\n",
       "    .dataframe thead th {\n",
       "        text-align: right;\n",
       "    }\n",
       "</style>\n",
       "<table border=\"1\" class=\"dataframe\">\n",
       "  <thead>\n",
       "    <tr style=\"text-align: right;\">\n",
       "      <th></th>\n",
       "      <th>Company_Brand</th>\n",
       "      <th>Founded</th>\n",
       "      <th>HeadQuarter</th>\n",
       "      <th>Sector</th>\n",
       "      <th>What_it_does</th>\n",
       "      <th>Founders</th>\n",
       "      <th>Investor</th>\n",
       "      <th>Amount</th>\n",
       "      <th>Stage</th>\n",
       "      <th>column10</th>\n",
       "    </tr>\n",
       "  </thead>\n",
       "  <tbody>\n",
       "    <tr>\n",
       "      <th>0</th>\n",
       "      <td>Unbox Robotics</td>\n",
       "      <td>2019.0</td>\n",
       "      <td>Bangalore</td>\n",
       "      <td>AI startup</td>\n",
       "      <td>Unbox Robotics builds on-demand AI-driven ware...</td>\n",
       "      <td>Pramod Ghadge, Shahid Memon</td>\n",
       "      <td>BEENEXT, Entrepreneur First</td>\n",
       "      <td>1200000</td>\n",
       "      <td>Pre-series A</td>\n",
       "      <td>NaN</td>\n",
       "    </tr>\n",
       "    <tr>\n",
       "      <th>1</th>\n",
       "      <td>upGrad</td>\n",
       "      <td>2015.0</td>\n",
       "      <td>Mumbai</td>\n",
       "      <td>EdTech</td>\n",
       "      <td>UpGrad is an online higher education platform.</td>\n",
       "      <td>Mayank Kumar, Phalgun Kompalli, Ravijot Chugh,...</td>\n",
       "      <td>Unilazer Ventures, IIFL Asset Management</td>\n",
       "      <td>120000000</td>\n",
       "      <td>NaN</td>\n",
       "      <td>NaN</td>\n",
       "    </tr>\n",
       "  </tbody>\n",
       "</table>\n",
       "</div>"
      ],
      "text/plain": [
       "    Company_Brand  Founded HeadQuarter      Sector  \\\n",
       "0  Unbox Robotics   2019.0   Bangalore  AI startup   \n",
       "1          upGrad   2015.0      Mumbai      EdTech   \n",
       "\n",
       "                                        What_it_does  \\\n",
       "0  Unbox Robotics builds on-demand AI-driven ware...   \n",
       "1     UpGrad is an online higher education platform.   \n",
       "\n",
       "                                            Founders  \\\n",
       "0                        Pramod Ghadge, Shahid Memon   \n",
       "1  Mayank Kumar, Phalgun Kompalli, Ravijot Chugh,...   \n",
       "\n",
       "                                   Investor     Amount         Stage column10  \n",
       "0               BEENEXT, Entrepreneur First    1200000  Pre-series A      NaN  \n",
       "1  Unilazer Ventures, IIFL Asset Management  120000000           NaN      NaN  "
      ]
     },
     "execution_count": 140,
     "metadata": {},
     "output_type": "execute_result"
    }
   ],
   "source": [
    "#Removing the dollar symbol\n",
    "dollar_investment=df[df['Amount'].str.contains('$', na = False)]\n",
    "dollar_investment.Amount=dollar_investment.Amount.str.replace('\\W', '', regex=True)\n",
    "dollar_investment.head(2)"
   ]
  },
  {
   "cell_type": "code",
   "execution_count": 172,
   "id": "7581c150",
   "metadata": {},
   "outputs": [
    {
     "data": {
      "text/plain": [
       "(3023, 10)"
      ]
     },
     "execution_count": 172,
     "metadata": {},
     "output_type": "execute_result"
    }
   ],
   "source": [
    "#Merging the removed symbols with the original dataset\n",
    "f_df = pd.concat([df,dollar_investment,lahk_investment],axis=0,ignore_index=True)\n",
    "f_df.shape\n"
   ]
  },
  {
   "cell_type": "code",
   "execution_count": 173,
   "id": "d99ebb94",
   "metadata": {},
   "outputs": [
    {
     "data": {
      "text/plain": [
       "(2843, 10)"
      ]
     },
     "execution_count": 173,
     "metadata": {},
     "output_type": "execute_result"
    }
   ],
   "source": [
    "#Dropping duplicates from the original dataset to maintain the 'removed symbols' rows\n",
    "f_df.drop_duplicates(subset=['Stage','Founded','Founders','Company_Brand','HeadQuarter','Investor','Sector','What_it_does','column10'],  keep='last', inplace=True, ignore_index=False)\n",
    "f_df.shape"
   ]
  },
  {
   "cell_type": "code",
   "execution_count": 187,
   "id": "09fe9543",
   "metadata": {},
   "outputs": [
    {
     "data": {
      "text/plain": [
       "Company_Brand       0\n",
       "Founded           625\n",
       "HeadQuarter        50\n",
       "Sector             10\n",
       "What_it_does        0\n",
       "Founders          530\n",
       "Investor          542\n",
       "Amount              0\n",
       "Stage               0\n",
       "column10         1141\n",
       "dtype: int64"
      ]
     },
     "execution_count": 187,
     "metadata": {},
     "output_type": "execute_result"
    }
   ],
   "source": [
    "#Finding the number of nan in each column\n",
    "f_df.isna().sum()\n",
    "\n"
   ]
  },
  {
   "cell_type": "code",
   "execution_count": 191,
   "id": "adc5e6be",
   "metadata": {},
   "outputs": [
    {
     "data": {
      "text/plain": [
       "(1142, 10)"
      ]
     },
     "execution_count": 191,
     "metadata": {},
     "output_type": "execute_result"
    }
   ],
   "source": [
    "#Dropping empty rows in the Stage and Amount columns\n",
    "wd=f_df.dropna(  how='any', subset=['Amount','Stage'])\n",
    "wd.dropna(subset = ['Amount','Stage'], inplace = True) \n",
    "wd.shape\n"
   ]
  },
  {
   "cell_type": "code",
   "execution_count": null,
   "id": "f484926b",
   "metadata": {},
   "outputs": [],
   "source": []
  },
  {
   "cell_type": "code",
   "execution_count": null,
   "id": "7785c900",
   "metadata": {},
   "outputs": [],
   "source": []
  },
  {
   "cell_type": "code",
   "execution_count": null,
   "id": "76eb2dbb",
   "metadata": {},
   "outputs": [],
   "source": []
  },
  {
   "cell_type": "code",
   "execution_count": null,
   "id": "02d09b78",
   "metadata": {},
   "outputs": [],
   "source": []
  },
  {
   "cell_type": "code",
   "execution_count": null,
   "id": "2179da83",
   "metadata": {},
   "outputs": [],
   "source": []
  },
  {
   "cell_type": "code",
   "execution_count": null,
   "id": "a0c90834",
   "metadata": {},
   "outputs": [],
   "source": []
  },
  {
   "cell_type": "code",
   "execution_count": null,
   "id": "282ac488",
   "metadata": {},
   "outputs": [],
   "source": []
  },
  {
   "cell_type": "code",
   "execution_count": 123,
   "id": "17d044f5",
   "metadata": {},
   "outputs": [
    {
     "name": "stdout",
     "output_type": "stream",
     "text": [
      "40,000,000\n",
      "65,000,000\n",
      "16,000,000\n",
      "50,000,000\n",
      "100,000,000\n",
      "500,000\n",
      "35,000,000\n",
      "64,000,000\n",
      "20,000,000\n",
      "30,000,000\n",
      "40,000,000\n",
      "5,000,000\n",
      "20,000,000\n",
      "40,000,000\n",
      "20,000,000\n",
      "12,500,000\n",
      "15,000,000\n",
      "104,000,000\n",
      "45,000,000\n",
      "25,000,000\n",
      "26,400,000\n",
      "8,000,000\n",
      "60,000\n",
      "34,000,000\n",
      "342,000,000\n",
      "600,000,000\n",
      "1,000,000,000\n",
      "2,000,000,000\n",
      "2,000,000,000\n",
      "1,000,000,000\n",
      "100,000\n",
      "250,000,000\n",
      "2,000,000,000\n",
      "550,000,000\n",
      "30,000,000\n",
      "240,000,000\n",
      "120,000,000\n",
      "2,500,000,000\n",
      "44,000,000\n",
      "60,000,000\n",
      "2,500,000,000\n",
      "650,000,000\n",
      "1,600,000,000\n",
      "50,000,000\n",
      "70,000,000\n",
      "16,000,000\n",
      "102,500,000\n",
      "550,000,000\n",
      "20,000,000\n",
      "1,200,000\n",
      "250,000,000\n",
      "5,200,000,000\n",
      "100,000\n",
      "50,000,000\n",
      "100,000,000\n",
      "9,500,000\n",
      "150,000,000\n",
      "7,000,000\n",
      "1,400,000\n",
      "50,000,000\n",
      "10,000,000\n",
      "22,500,000\n",
      "5,000,000\n",
      "50,000,000\n",
      "140,200,000\n",
      "30,000,000\n",
      "19,200,000\n",
      "103,000,000\n",
      "40,000,000\n",
      "35,000,000\n",
      "100,000,000\n",
      "200,000\n",
      "16,600,000\n",
      "12,000,000\n",
      "20,000,000\n",
      "30,000,000\n",
      "33,000,000\n",
      "34,900,000\n",
      "72,000,000\n",
      "50,000,000\n",
      "120,000,000\n",
      "35,000,000\n",
      "32,000,000\n",
      "250,000,000\n",
      "135,000,000\n",
      "15,000,000\n",
      "20,000,000\n",
      "10,000,000\n",
      "135,000,000\n",
      "50,000,000\n",
      "20,000,000\n",
      "64,000,000\n",
      "50,000,000\n",
      "40,000,000\n",
      "1,540,000,000\n",
      "45,000,000\n",
      "140,000,000\n",
      "60,000,000\n",
      "5,000,000\n",
      "1,410,000,000\n",
      "72,000,000\n",
      "240,000,000\n",
      "580,000,000\n",
      "36,000,000\n",
      "340,000,000\n",
      "35,000,000\n",
      "70,000,000\n",
      "50,000,000\n",
      "70,000,000\n",
      "1,200,000\n",
      "40,000,000\n",
      "510,000,000\n",
      "2,200,000,000\n",
      "15,392,000,000\n",
      "20,000,000,000\n",
      "4,000,000,000\n",
      "25,000,000\n",
      "140,000,000\n",
      "165,000,000\n",
      "650,000,000\n",
      "210,000,000\n",
      "20,000,000\n",
      "2,029,600,000\n",
      "600,000,000\n",
      "80,000,000\n",
      "280,000,000\n",
      "800,000,000\n",
      "730,000,000\n",
      "400,000,000\n",
      "600,000,000\n",
      "140,000,000\n",
      "260,000,000\n",
      "150,000,000\n",
      "12,000,000\n",
      "400,000,000\n",
      "8,750,000\n",
      "78,000,000\n",
      "12,500,000\n",
      "264,000,000\n",
      "1,130,000,000\n",
      "810,000,000\n",
      "1,400,000,000\n",
      "10,000,000\n",
      "35,000,000\n"
     ]
    }
   ],
   "source": [
    "for m in am:\n",
    "    v=str(m)\n",
    "    if v.startswith('₹'):\n",
    "        b=v.split(\"₹\")[1]\n",
    "\n",
    "        \n",
    "        print(b)"
   ]
  },
  {
   "cell_type": "code",
   "execution_count": null,
   "id": "6153f6c1",
   "metadata": {},
   "outputs": [],
   "source": []
  },
  {
   "cell_type": "code",
   "execution_count": null,
   "id": "6fe73fd5",
   "metadata": {},
   "outputs": [],
   "source": [
    "#Not done yet\n",
    "final_df.query('Stage==[\"$6000000\",\"$300000\",\"$1000000\"]')\n"
   ]
  },
  {
   "cell_type": "code",
   "execution_count": null,
   "id": "3461e56a",
   "metadata": {},
   "outputs": [],
   "source": [
    "final_df.What_it_does.unique()"
   ]
  },
  {
   "cell_type": "code",
   "execution_count": null,
   "id": "b2cf8057",
   "metadata": {},
   "outputs": [],
   "source": [
    "final_df.HeadQuarter.unique()"
   ]
  },
  {
   "cell_type": "code",
   "execution_count": null,
   "id": "0e96858d",
   "metadata": {},
   "outputs": [],
   "source": [
    "final_df.Founders.unique()"
   ]
  },
  {
   "cell_type": "code",
   "execution_count": null,
   "id": "b9f2dbbe",
   "metadata": {},
   "outputs": [],
   "source": [
    "final_df.Investor.unique()"
   ]
  },
  {
   "cell_type": "code",
   "execution_count": null,
   "id": "61774d0a",
   "metadata": {},
   "outputs": [],
   "source": [
    "test\n",
    "\n",
    "for row in test.index:\n",
    "    print(row)\n",
    "    row_list = test.loc[row, :].values.flatten().tolist()\n",
    "    row_list\n",
    "#row_list = test.loc[98, :].values.flatten().tolist() \n"
   ]
  },
  {
   "cell_type": "code",
   "execution_count": null,
   "id": "506a49e1",
   "metadata": {},
   "outputs": [],
   "source": [
    "row_list   \n"
   ]
  },
  {
   "cell_type": "code",
   "execution_count": null,
   "id": "42396d37",
   "metadata": {},
   "outputs": [],
   "source": [
    "\n",
    "for i in row_list:\n",
    "    # Remove letters using string manipulation\n",
    "    \n",
    "    if isinstance(i, str):\n",
    "       s = ''.join(filter(str.isdigit, i))\n",
    "      \n",
    "       \n",
    "    else: \n",
    "       pass  \n",
    "print(row_list)\n",
    "\n",
    "    "
   ]
  }
 ],
 "metadata": {
  "kernelspec": {
   "display_name": "Python 3 (ipykernel)",
   "language": "python",
   "name": "python3"
  },
  "language_info": {
   "codemirror_mode": {
    "name": "ipython",
    "version": 3
   },
   "file_extension": ".py",
   "mimetype": "text/x-python",
   "name": "python",
   "nbconvert_exporter": "python",
   "pygments_lexer": "ipython3",
   "version": "3.9.13"
  }
 },
 "nbformat": 4,
 "nbformat_minor": 5
}
