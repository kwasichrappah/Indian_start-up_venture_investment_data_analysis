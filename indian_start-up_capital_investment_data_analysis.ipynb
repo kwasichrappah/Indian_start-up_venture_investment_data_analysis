{
 "cells": [
  {
   "cell_type": "markdown",
   "id": "c5490f1b",
   "metadata": {},
   "source": [
    "# Investigating the Indian startup ecosystem to propose the best indian start-up to invest"
   ]
  },
  {
   "cell_type": "markdown",
   "id": "17672573",
   "metadata": {},
   "source": [
    "## Description\n",
    "The objective of this project is to analyse the indian start-up investment data over the course of four years (2018-2021) to find out which funding stages are very attractive to investors and at what risk level. "
   ]
  },
  {
   "cell_type": "markdown",
   "id": "80d58ea1",
   "metadata": {},
   "source": [
    "# GOAL\n",
    "The goal of this project is to propose the best indian start-up to invest."
   ]
  },
  {
   "cell_type": "markdown",
   "id": "116a0a05",
   "metadata": {},
   "source": [
    "## Null Hypothesis \n",
    "Average Investment amounts received by start-ups have no relation to sectors they operate in.\n"
   ]
  },
  {
   "cell_type": "markdown",
   "id": "c477776d",
   "metadata": {},
   "source": [
    "## Alternate Hypothesis\n",
    "There is a relationship between average investment amounts received by start-ups and the sectors they operate in"
   ]
  },
  {
   "cell_type": "markdown",
   "id": "b392e991",
   "metadata": {},
   "source": [
    "## Analytical Questions\n",
    "1. Does location affect the amount of funding or investments?\n",
    "2. Does the sector of start up affect the fundings?\n",
    "3. How many companies need funding and are at what level of funding ?\n",
    "4. Which sectors receive the highest investment amounts?\n",
    "5. Which cities have the highest number of startups and at what levels?\n",
    "6. What are the levels of funding the startups are receiving?"
   ]
  },
  {
   "cell_type": "code",
   "execution_count": 2,
   "id": "ab9093f6",
   "metadata": {},
   "outputs": [],
   "source": [
    "#Libraries imported\n",
    "import MySQLdb\n",
    "import sqlalchemy as sa\n",
    "import pyodbc     \n",
    "from dotenv import dotenv_values    #import the dotenv_values function from the dotenv package\n",
    "import pandas as pd\n",
    "import warnings \n"
   ]
  },
  {
   "cell_type": "code",
   "execution_count": 3,
   "id": "7960ef4f",
   "metadata": {},
   "outputs": [],
   "source": [
    "env_variables= dotenv_values('logins.env')\n",
    "database= env_variables.get('database')\n",
    "server = env_variables.get('server')\n",
    "username = env_variables.get('username')\n",
    "password = env_variables.get('password')\n",
    "\n"
   ]
  },
  {
   "cell_type": "markdown",
   "id": "c02588ac",
   "metadata": {},
   "source": [
    "# Data Understanding\n",
    "\n",
    "- There are four data sources to work with (2 SQL and 2 CSVs)\n",
    "- Explore data\n",
    "- Verify data quality"
   ]
  },
  {
   "cell_type": "markdown",
   "id": "6526fade",
   "metadata": {},
   "source": [
    "### Connecting to the dapDB to extract the 2020 and 2021 data"
   ]
  },
  {
   "cell_type": "code",
   "execution_count": 4,
   "id": "c213a6d4",
   "metadata": {},
   "outputs": [
    {
     "ename": "OperationalError",
     "evalue": "('08001', '[08001] [Microsoft][ODBC SQL Server Driver][DBNETLIB]SQL Server does not exist or access denied. (17) (SQLDriverConnect); [08001] [Microsoft][ODBC SQL Server Driver][DBNETLIB]ConnectionOpen (Connect()). (53); [08001] [Microsoft][ODBC SQL Server Driver]Invalid connection string attribute (0)')",
     "output_type": "error",
     "traceback": [
      "\u001b[1;31m---------------------------------------------------------------------------\u001b[0m",
      "\u001b[1;31mOperationalError\u001b[0m                          Traceback (most recent call last)",
      "Cell \u001b[1;32mIn[4], line 4\u001b[0m\n\u001b[0;32m      1\u001b[0m \u001b[38;5;66;03m#Connecting to the database to analyse the 2020-2021 data\u001b[39;00m\n\u001b[0;32m      3\u001b[0m connection_string \u001b[38;5;241m=\u001b[39m \u001b[38;5;124mf\u001b[39m\u001b[38;5;124m\"\u001b[39m\u001b[38;5;124mDRIVER=\u001b[39m\u001b[38;5;130;01m{{\u001b[39;00m\u001b[38;5;124mSQL Server\u001b[39m\u001b[38;5;130;01m}}\u001b[39;00m\u001b[38;5;124m;SERVER=\u001b[39m\u001b[38;5;132;01m{\u001b[39;00mserver\u001b[38;5;132;01m}\u001b[39;00m\u001b[38;5;124m;DATABASE=\u001b[39m\u001b[38;5;132;01m{\u001b[39;00mdatabase\u001b[38;5;132;01m}\u001b[39;00m\u001b[38;5;124m;UID=\u001b[39m\u001b[38;5;132;01m{\u001b[39;00musername\u001b[38;5;132;01m}\u001b[39;00m\u001b[38;5;124m;PWD=\u001b[39m\u001b[38;5;132;01m{\u001b[39;00mpassword\u001b[38;5;132;01m}\u001b[39;00m\u001b[38;5;124m;MARS_Connection=yes;MinProtocolVersion=TLSv1.2;\u001b[39m\u001b[38;5;124m\"\u001b[39m\n\u001b[1;32m----> 4\u001b[0m connection \u001b[38;5;241m=\u001b[39m \u001b[43mpyodbc\u001b[49m\u001b[38;5;241;43m.\u001b[39;49m\u001b[43mconnect\u001b[49m\u001b[43m(\u001b[49m\u001b[43mconnection_string\u001b[49m\u001b[43m)\u001b[49m\n",
      "\u001b[1;31mOperationalError\u001b[0m: ('08001', '[08001] [Microsoft][ODBC SQL Server Driver][DBNETLIB]SQL Server does not exist or access denied. (17) (SQLDriverConnect); [08001] [Microsoft][ODBC SQL Server Driver][DBNETLIB]ConnectionOpen (Connect()). (53); [08001] [Microsoft][ODBC SQL Server Driver]Invalid connection string attribute (0)')"
     ]
    }
   ],
   "source": [
    "#Connecting to the database to analyse the 2020-2021 data\n",
    "\n",
    "connection_string = f\"DRIVER={{SQL Server}};SERVER={server};DATABASE={database};UID={username};PWD={password};MARS_Connection=yes;MinProtocolVersion=TLSv1.2;\"\n",
    "connection = pyodbc.connect(connection_string)"
   ]
  },
  {
   "cell_type": "code",
   "execution_count": null,
   "id": "3373bb90",
   "metadata": {},
   "outputs": [
    {
     "name": "stderr",
     "output_type": "stream",
     "text": [
      "c:\\ProgramData\\Anaconda3\\lib\\site-packages\\pandas\\io\\sql.py:762: UserWarning: pandas only support SQLAlchemy connectable(engine/connection) ordatabase string URI or sqlite3 DBAPI2 connectionother DBAPI2 objects are not tested, please consider using SQLAlchemy\n",
      "  warnings.warn(\n"
     ]
    },
    {
     "data": {
      "text/plain": [
       "Index(['Company_Brand', 'Founded', 'HeadQuarter', 'Sector', 'What_it_does',\n",
       "       'Founders', 'Investor', 'Amount', 'Stage', 'column10'],\n",
       "      dtype='object')"
      ]
     },
     "execution_count": 5,
     "metadata": {},
     "output_type": "execute_result"
    }
   ],
   "source": [
    "#query the 2020 startup funding data\n",
    "\n",
    "query = \"SELECT * FROM LP1_startup_funding2020\"\n",
    "\n",
    "data_2020 = pd.read_sql(query, connection)\n",
    "data_2020.columns"
   ]
  },
  {
   "cell_type": "code",
   "execution_count": null,
   "id": "bb08e710",
   "metadata": {},
   "outputs": [],
   "source": [
    "data_2020.head(2)\n",
    "data_2020['Investment_year'] = '2020'"
   ]
  },
  {
   "cell_type": "code",
   "execution_count": null,
   "id": "16261e43",
   "metadata": {},
   "outputs": [
    {
     "data": {
      "text/plain": [
       "Company_Brand       object\n",
       "Founded            float64\n",
       "HeadQuarter         object\n",
       "Sector              object\n",
       "What_it_does        object\n",
       "Founders            object\n",
       "Investor            object\n",
       "Amount             float64\n",
       "Stage               object\n",
       "column10            object\n",
       "Investment_year     object\n",
       "dtype: object"
      ]
     },
     "execution_count": 7,
     "metadata": {},
     "output_type": "execute_result"
    }
   ],
   "source": [
    "#Checking the datatypes of the columns\n",
    "datatypes = data_2020.dtypes\n",
    "datatypes"
   ]
  },
  {
   "cell_type": "code",
   "execution_count": null,
   "id": "f515fd6c",
   "metadata": {},
   "outputs": [
    {
     "data": {
      "text/plain": [
       "array([2.0000000e+05, 1.0000000e+05,           nan, 4.0000000e+05,\n",
       "       3.4000000e+05, 6.0000000e+05, 4.5000000e+07, 1.0000000e+06,\n",
       "       2.0000000e+06, 1.2000000e+06, 6.6000000e+08, 1.2000000e+05,\n",
       "       7.5000000e+06, 5.0000000e+06, 5.0000000e+05, 3.0000000e+06,\n",
       "       1.0000000e+07, 1.4500000e+08, 1.0000000e+08, 2.1000000e+07,\n",
       "       4.0000000e+06, 2.0000000e+07, 5.6000000e+05, 2.7500000e+05,\n",
       "       4.5000000e+06, 1.5000000e+07, 3.9000000e+08, 7.0000000e+06,\n",
       "       5.1000000e+06, 7.0000000e+08, 2.3000000e+06, 7.0000000e+05,\n",
       "       1.9000000e+07, 9.0000000e+06, 4.0000000e+07, 7.5000000e+05,\n",
       "       1.5000000e+06, 7.8000000e+06, 5.0000000e+07, 8.0000000e+07,\n",
       "       3.0000000e+07, 1.7000000e+06, 2.5000000e+06, 4.0000000e+04,\n",
       "       3.3000000e+07, 3.5000000e+07, 3.0000000e+05, 2.5000000e+07,\n",
       "       3.5000000e+06, 2.0000000e+08, 6.0000000e+06, 1.3000000e+06,\n",
       "       4.1000000e+06, 5.7500000e+05, 8.0000000e+05, 2.8000000e+07,\n",
       "       1.8000000e+07, 3.2000000e+06, 9.0000000e+05, 2.5000000e+05,\n",
       "       4.7000000e+06, 7.5000000e+07, 8.0000000e+06, 1.2100000e+08,\n",
       "       5.5000000e+07, 3.3000000e+06, 1.1000000e+07, 1.6000000e+07,\n",
       "       5.4000000e+06, 1.5000000e+08, 4.2000000e+06, 2.2000000e+07,\n",
       "       5.2000000e+07, 1.1000000e+06, 1.1800000e+08, 1.6000000e+06,\n",
       "       1.8500000e+07, 7.0000000e+10, 8.0000000e+08, 4.0000000e+08,\n",
       "       1.5000000e+05, 1.7600000e+08, 6.0000000e+07, 4.7000000e+05,\n",
       "       2.4000000e+05, 3.0000000e+09, 7.4000000e+07, 6.2000000e+07,\n",
       "       2.1000000e+06, 5.0000000e+08, 1.2500000e+07, 2.2000000e+09,\n",
       "       5.0600000e+06, 2.2500000e+08, 2.4700000e+07, 7.7000000e+06,\n",
       "       1.9067328e+07, 5.1000000e+07, 1.1500000e+05, 5.4000000e+04,\n",
       "       2.0000000e+04, 8.0314600e+05, 2.3800000e+05, 1.0220000e+07,\n",
       "       1.0200000e+06, 1.2000000e+07, 1.3400000e+07, 1.7000000e+08,\n",
       "       2.9000000e+06, 5.4300000e+05, 9.0000000e+07, 3.4000000e+06,\n",
       "       2.3000000e+07, 8.0900000e+06, 1.0300000e+06, 5.0400000e+06,\n",
       "       3.6000000e+05, 1.4000000e+06, 6.5000000e+05, 5.4000000e+07,\n",
       "       4.2500000e+07, 1.1370000e+07, 3.2500000e+05, 4.1000000e+05,\n",
       "       4.5000000e+05, 6.8200000e+05, 4.0500000e+06, 1.0500000e+06,\n",
       "       1.0800000e+06, 4.3000000e+06, 6.8000000e+06, 2.1100000e+06,\n",
       "       7.6400000e+05, 6.0300000e+05, 4.0900000e+05, 2.9200000e+05,\n",
       "       2.8600000e+05, 1.3600000e+05, 5.4600000e+05, 8.8700000e+05,\n",
       "       4.3000000e+04, 4.0900000e+04, 2.2000000e+06, 5.6600000e+06,\n",
       "       3.5000000e+05, 1.1000000e+05, 1.2200000e+08, 1.1635000e+07,\n",
       "       2.8000000e+06, 1.0650000e+06, 6.6900000e+05, 1.6076000e+07,\n",
       "       6.4960000e+05, 6.7000000e+06, 2.2000000e+05, 2.6650000e+05,\n",
       "       2.8790000e+06, 2.6500000e+07, 3.5100000e+05, 4.6761000e+07,\n",
       "       1.7500000e+05, 1.1241000e+07, 8.0400000e+05, 1.3400000e+06,\n",
       "       4.6700000e+05, 1.3300000e+05, 3.8230000e+06, 9.3400000e+05,\n",
       "       2.9300000e+05, 1.9800000e+05, 9.2700000e+05, 9.7100000e+05,\n",
       "       3.0600000e+06, 1.8620000e+06, 2.3200000e+05, 2.8880000e+06,\n",
       "       1.3280000e+06, 1.5500000e+07, 5.6000000e+07, 2.2500000e+06,\n",
       "       1.6753000e+07, 3.7000000e+06, 1.4700000e+06, 5.3000000e+05,\n",
       "       2.6700000e+05, 3.3440000e+06, 7.2000000e+06, 2.7430000e+06,\n",
       "       6.0820000e+06, 6.6090000e+06, 2.7700000e+07, 5.9400000e+06,\n",
       "       3.9640000e+06, 5.5000000e+06, 1.9700000e+05, 4.3270000e+06,\n",
       "       4.5900000e+05, 3.9370000e+06, 1.3135000e+06, 2.2980000e+05,\n",
       "       5.3050000e+06, 2.6400000e+05, 1.7500000e+06, 5.9670000e+06,\n",
       "       2.9800000e+06, 3.2300000e+05, 1.3260000e+06, 2.7000000e+07,\n",
       "       5.2000000e+06, 2.5300000e+06, 7.9200000e+05, 1.1363000e+07,\n",
       "       1.7150000e+06, 3.2900000e+05, 5.2710000e+06, 8.7000000e+06,\n",
       "       3.2260000e+06, 5.9000000e+06, 4.4000000e+07, 3.8790000e+06,\n",
       "       1.3000000e+07, 8.8000000e+06, 9.5000000e+06, 9.2000000e+05,\n",
       "       3.5600000e+07, 9.4000000e+06, 7.9000000e+05, 4.8000000e+05,\n",
       "       1.6000000e+05, 8.2000000e+06, 4.2570000e+06, 1.4100000e+06,\n",
       "       3.4980000e+05, 7.8600000e+05, 2.0040000e+06, 1.2300000e+08,\n",
       "       2.4800000e+05, 2.4000000e+07, 1.4259000e+07, 2.4500000e+07,\n",
       "       3.8000000e+06, 1.8370000e+07, 6.8525000e+07, 4.8000000e+06,\n",
       "       1.8340000e+06, 2.3850000e+07, 4.3000000e+07, 2.1600000e+07,\n",
       "       4.5980000e+06, 1.3137000e+07, 1.1500000e+08, 3.9000000e+06,\n",
       "       6.7000000e+05, 8.5000000e+06, 3.1480000e+06, 2.6000000e+06,\n",
       "       4.0495000e+06, 1.0500000e+07, 6.5000000e+06, 4.3700000e+07,\n",
       "       1.3800000e+07, 3.0690000e+05, 4.2000000e+05, 6.2730000e+05,\n",
       "       1.1300000e+08, 3.2000000e+07, 1.1000000e+08, 1.3970000e+06,\n",
       "       4.4850000e+05, 7.9757000e+06, 3.3000000e+05, 5.6000000e+06,\n",
       "       1.4020000e+06, 2.1500000e+07, 2.9600000e+08, 4.9000000e+06,\n",
       "       1.4024000e+06, 1.2618300e+07, 9.9000000e+06, 9.8253000e+05,\n",
       "       7.0185200e+07, 2.1000000e+08, 8.4000000e+07, 3.9000000e+07,\n",
       "       2.7000000e+06, 1.4034000e+06, 1.0500000e+08, 1.0300000e+08,\n",
       "       2.8130000e+05, 1.2700000e+04, 2.5000000e+04, 9.7500000e+07,\n",
       "       5.0700000e+05, 8.4000000e+06, 1.8300000e+07, 1.2500000e+08,\n",
       "       1.8100000e+05, 2.8000000e+05, 1.4700000e+07, 1.3200000e+07,\n",
       "       8.0430000e+06])"
      ]
     },
     "execution_count": 8,
     "metadata": {},
     "output_type": "execute_result"
    }
   ],
   "source": [
    "data_2020.Amount.unique()"
   ]
  },
  {
   "cell_type": "code",
   "execution_count": null,
   "id": "7e67dcd3",
   "metadata": {},
   "outputs": [
    {
     "name": "stderr",
     "output_type": "stream",
     "text": [
      "c:\\ProgramData\\Anaconda3\\lib\\site-packages\\pandas\\io\\sql.py:762: UserWarning: pandas only support SQLAlchemy connectable(engine/connection) ordatabase string URI or sqlite3 DBAPI2 connectionother DBAPI2 objects are not tested, please consider using SQLAlchemy\n",
      "  warnings.warn(\n"
     ]
    },
    {
     "data": {
      "text/html": [
       "<div>\n",
       "<style scoped>\n",
       "    .dataframe tbody tr th:only-of-type {\n",
       "        vertical-align: middle;\n",
       "    }\n",
       "\n",
       "    .dataframe tbody tr th {\n",
       "        vertical-align: top;\n",
       "    }\n",
       "\n",
       "    .dataframe thead th {\n",
       "        text-align: right;\n",
       "    }\n",
       "</style>\n",
       "<table border=\"1\" class=\"dataframe\">\n",
       "  <thead>\n",
       "    <tr style=\"text-align: right;\">\n",
       "      <th></th>\n",
       "      <th>Company_Brand</th>\n",
       "      <th>Founded</th>\n",
       "      <th>HeadQuarter</th>\n",
       "      <th>Sector</th>\n",
       "      <th>What_it_does</th>\n",
       "      <th>Founders</th>\n",
       "      <th>Investor</th>\n",
       "      <th>Amount</th>\n",
       "      <th>Stage</th>\n",
       "    </tr>\n",
       "  </thead>\n",
       "  <tbody>\n",
       "    <tr>\n",
       "      <th>0</th>\n",
       "      <td>Unbox Robotics</td>\n",
       "      <td>2019.0</td>\n",
       "      <td>Bangalore</td>\n",
       "      <td>AI startup</td>\n",
       "      <td>Unbox Robotics builds on-demand AI-driven ware...</td>\n",
       "      <td>Pramod Ghadge, Shahid Memon</td>\n",
       "      <td>BEENEXT, Entrepreneur First</td>\n",
       "      <td>$1,200,000</td>\n",
       "      <td>Pre-series A</td>\n",
       "    </tr>\n",
       "  </tbody>\n",
       "</table>\n",
       "</div>"
      ],
      "text/plain": [
       "    Company_Brand  Founded HeadQuarter      Sector  \\\n",
       "0  Unbox Robotics   2019.0   Bangalore  AI startup   \n",
       "\n",
       "                                        What_it_does  \\\n",
       "0  Unbox Robotics builds on-demand AI-driven ware...   \n",
       "\n",
       "                      Founders                     Investor      Amount  \\\n",
       "0  Pramod Ghadge, Shahid Memon  BEENEXT, Entrepreneur First  $1,200,000   \n",
       "\n",
       "          Stage  \n",
       "0  Pre-series A  "
      ]
     },
     "execution_count": 9,
     "metadata": {},
     "output_type": "execute_result"
    }
   ],
   "source": [
    "#query the 2021 startup funding data\n",
    "query = \"SELECT * FROM LP1_startup_funding2021\"\n",
    "\n",
    "data_2021 = pd.read_sql(query, connection)\n",
    "data_2021.head(1)\n"
   ]
  },
  {
   "cell_type": "code",
   "execution_count": null,
   "id": "b6c33d50",
   "metadata": {},
   "outputs": [
    {
     "data": {
      "text/plain": [
       "(1209, 9)"
      ]
     },
     "execution_count": 10,
     "metadata": {},
     "output_type": "execute_result"
    }
   ],
   "source": [
    "data_2021.Amount.unique()\n",
    "data_2021.shape"
   ]
  },
  {
   "cell_type": "code",
   "execution_count": null,
   "id": "349d6fc5",
   "metadata": {},
   "outputs": [
    {
     "data": {
      "text/plain": [
       "Company_Brand     object\n",
       "Founded          float64\n",
       "HeadQuarter       object\n",
       "Sector            object\n",
       "What_it_does      object\n",
       "Founders          object\n",
       "Investor          object\n",
       "Amount            object\n",
       "Stage             object\n",
       "dtype: object"
      ]
     },
     "execution_count": 11,
     "metadata": {},
     "output_type": "execute_result"
    }
   ],
   "source": [
    "#Checking the datatypes of the columns\n",
    "datatypes = data_2021.dtypes\n",
    "datatypes"
   ]
  },
  {
   "cell_type": "code",
   "execution_count": null,
   "id": "c417e196",
   "metadata": {},
   "outputs": [
    {
     "data": {
      "text/html": [
       "<div>\n",
       "<style scoped>\n",
       "    .dataframe tbody tr th:only-of-type {\n",
       "        vertical-align: middle;\n",
       "    }\n",
       "\n",
       "    .dataframe tbody tr th {\n",
       "        vertical-align: top;\n",
       "    }\n",
       "\n",
       "    .dataframe thead th {\n",
       "        text-align: right;\n",
       "    }\n",
       "</style>\n",
       "<table border=\"1\" class=\"dataframe\">\n",
       "  <thead>\n",
       "    <tr style=\"text-align: right;\">\n",
       "      <th></th>\n",
       "      <th>Company_Brand</th>\n",
       "      <th>Founded</th>\n",
       "      <th>HeadQuarter</th>\n",
       "      <th>Sector</th>\n",
       "      <th>What_it_does</th>\n",
       "      <th>Founders</th>\n",
       "      <th>Investor</th>\n",
       "      <th>Amount</th>\n",
       "      <th>Stage</th>\n",
       "    </tr>\n",
       "  </thead>\n",
       "  <tbody>\n",
       "    <tr>\n",
       "      <th>0</th>\n",
       "      <td>Unbox Robotics</td>\n",
       "      <td>2019.0</td>\n",
       "      <td>Bangalore</td>\n",
       "      <td>AI startup</td>\n",
       "      <td>Unbox Robotics builds on-demand AI-driven ware...</td>\n",
       "      <td>Pramod Ghadge, Shahid Memon</td>\n",
       "      <td>BEENEXT, Entrepreneur First</td>\n",
       "      <td>1200000</td>\n",
       "      <td>Pre-series A</td>\n",
       "    </tr>\n",
       "    <tr>\n",
       "      <th>1</th>\n",
       "      <td>upGrad</td>\n",
       "      <td>2015.0</td>\n",
       "      <td>Mumbai</td>\n",
       "      <td>EdTech</td>\n",
       "      <td>UpGrad is an online higher education platform.</td>\n",
       "      <td>Mayank Kumar, Phalgun Kompalli, Ravijot Chugh,...</td>\n",
       "      <td>Unilazer Ventures, IIFL Asset Management</td>\n",
       "      <td>120000000</td>\n",
       "      <td>None</td>\n",
       "    </tr>\n",
       "  </tbody>\n",
       "</table>\n",
       "</div>"
      ],
      "text/plain": [
       "    Company_Brand  Founded HeadQuarter      Sector  \\\n",
       "0  Unbox Robotics   2019.0   Bangalore  AI startup   \n",
       "1          upGrad   2015.0      Mumbai      EdTech   \n",
       "\n",
       "                                        What_it_does  \\\n",
       "0  Unbox Robotics builds on-demand AI-driven ware...   \n",
       "1     UpGrad is an online higher education platform.   \n",
       "\n",
       "                                            Founders  \\\n",
       "0                        Pramod Ghadge, Shahid Memon   \n",
       "1  Mayank Kumar, Phalgun Kompalli, Ravijot Chugh,...   \n",
       "\n",
       "                                   Investor     Amount         Stage  \n",
       "0               BEENEXT, Entrepreneur First    1200000  Pre-series A  \n",
       "1  Unilazer Ventures, IIFL Asset Management  120000000          None  "
      ]
     },
     "execution_count": 12,
     "metadata": {},
     "output_type": "execute_result"
    }
   ],
   "source": [
    "data_2021[data_2021['Amount'].str.contains('$', na = False)]\n",
    "data_2021['Amount']=data_2021.Amount.str.replace('\\W', '', regex=True)\n",
    "data_2021.head(2)"
   ]
  },
  {
   "cell_type": "code",
   "execution_count": null,
   "metadata": {},
   "outputs": [],
   "source": [
    "#combining the Stage and Amount columns since there are data entry errors\n",
    "data_2021['new'] =  data_2021['Investor'].fillna('inv') +data_2021['Amount'].astype(str) + data_2021['Stage'].fillna('ab') \n",
    "#data_2021['new']"
   ]
  },
  {
   "cell_type": "code",
   "execution_count": null,
   "id": "b76fc991",
   "metadata": {},
   "outputs": [
    {
     "data": {
      "text/html": [
       "<div>\n",
       "<style scoped>\n",
       "    .dataframe tbody tr th:only-of-type {\n",
       "        vertical-align: middle;\n",
       "    }\n",
       "\n",
       "    .dataframe tbody tr th {\n",
       "        vertical-align: top;\n",
       "    }\n",
       "\n",
       "    .dataframe thead th {\n",
       "        text-align: right;\n",
       "    }\n",
       "</style>\n",
       "<table border=\"1\" class=\"dataframe\">\n",
       "  <thead>\n",
       "    <tr style=\"text-align: right;\">\n",
       "      <th></th>\n",
       "      <th>Company_Brand</th>\n",
       "      <th>Founded</th>\n",
       "      <th>HeadQuarter</th>\n",
       "      <th>Sector</th>\n",
       "      <th>What_it_does</th>\n",
       "      <th>Founders</th>\n",
       "      <th>Investor</th>\n",
       "      <th>Amount</th>\n",
       "      <th>Stage</th>\n",
       "      <th>new</th>\n",
       "      <th>Amount_new</th>\n",
       "    </tr>\n",
       "  </thead>\n",
       "  <tbody>\n",
       "    <tr>\n",
       "      <th>0</th>\n",
       "      <td>Unbox Robotics</td>\n",
       "      <td>2019.0</td>\n",
       "      <td>Bangalore</td>\n",
       "      <td>AI startup</td>\n",
       "      <td>Unbox Robotics builds on-demand AI-driven ware...</td>\n",
       "      <td>Pramod Ghadge, Shahid Memon</td>\n",
       "      <td>BEENEXT, Entrepreneur First</td>\n",
       "      <td>1200000</td>\n",
       "      <td>Pre-series A</td>\n",
       "      <td>BEENEXT, Entrepreneur First1200000Pre-series A</td>\n",
       "      <td>1200000</td>\n",
       "    </tr>\n",
       "  </tbody>\n",
       "</table>\n",
       "</div>"
      ],
      "text/plain": [
       "    Company_Brand  Founded HeadQuarter      Sector  \\\n",
       "0  Unbox Robotics   2019.0   Bangalore  AI startup   \n",
       "\n",
       "                                        What_it_does  \\\n",
       "0  Unbox Robotics builds on-demand AI-driven ware...   \n",
       "\n",
       "                      Founders                     Investor   Amount  \\\n",
       "0  Pramod Ghadge, Shahid Memon  BEENEXT, Entrepreneur First  1200000   \n",
       "\n",
       "          Stage                                             new Amount_new  \n",
       "0  Pre-series A  BEENEXT, Entrepreneur First1200000Pre-series A    1200000  "
      ]
     },
     "execution_count": 14,
     "metadata": {},
     "output_type": "execute_result"
    }
   ],
   "source": [
    "data_2021['Amount_new']=data_2021['new'].str.extract('(\\d+)')\n",
    "data_2021.head(1)"
   ]
  },
  {
   "cell_type": "code",
   "execution_count": null,
   "id": "c54dd400",
   "metadata": {},
   "outputs": [],
   "source": [
    "#Removing the dollar symbol from the 2021 amount\n",
    "data_2021.drop(columns=['new','Amount'],inplace=True)\n",
    "\n"
   ]
  },
  {
   "cell_type": "code",
   "execution_count": null,
   "id": "ab3b9c0c",
   "metadata": {},
   "outputs": [],
   "source": [
    "data_2021.head(2)\n",
    "data_2021['Investment_year'] = '2021'"
   ]
  },
  {
   "cell_type": "code",
   "execution_count": null,
   "id": "9d3bf247",
   "metadata": {},
   "outputs": [],
   "source": [
    "#Renaming the Amount_new column\n",
    "data_2021.rename(columns={'Amount_new':'Amount'}, inplace=True)\n",
    "\n",
    "#2021 data cleaned"
   ]
  },
  {
   "cell_type": "code",
   "execution_count": null,
   "id": "833b4a08",
   "metadata": {},
   "outputs": [
    {
     "data": {
      "text/html": [
       "<div>\n",
       "<style scoped>\n",
       "    .dataframe tbody tr th:only-of-type {\n",
       "        vertical-align: middle;\n",
       "    }\n",
       "\n",
       "    .dataframe tbody tr th {\n",
       "        vertical-align: top;\n",
       "    }\n",
       "\n",
       "    .dataframe thead th {\n",
       "        text-align: right;\n",
       "    }\n",
       "</style>\n",
       "<table border=\"1\" class=\"dataframe\">\n",
       "  <thead>\n",
       "    <tr style=\"text-align: right;\">\n",
       "      <th></th>\n",
       "      <th>Company Name</th>\n",
       "      <th>Industry</th>\n",
       "      <th>Round/Series</th>\n",
       "      <th>Amount</th>\n",
       "      <th>Location</th>\n",
       "      <th>About Company</th>\n",
       "    </tr>\n",
       "  </thead>\n",
       "  <tbody>\n",
       "    <tr>\n",
       "      <th>0</th>\n",
       "      <td>TheCollegeFever</td>\n",
       "      <td>Brand Marketing, Event Promotion, Marketing, S...</td>\n",
       "      <td>Seed</td>\n",
       "      <td>250000</td>\n",
       "      <td>Bangalore, Karnataka, India</td>\n",
       "      <td>TheCollegeFever is a hub for fun, fiesta and f...</td>\n",
       "    </tr>\n",
       "    <tr>\n",
       "      <th>1</th>\n",
       "      <td>Happy Cow Dairy</td>\n",
       "      <td>Agriculture, Farming</td>\n",
       "      <td>Seed</td>\n",
       "      <td>₹40,000,000</td>\n",
       "      <td>Mumbai, Maharashtra, India</td>\n",
       "      <td>A startup which aggregates milk from dairy far...</td>\n",
       "    </tr>\n",
       "    <tr>\n",
       "      <th>2</th>\n",
       "      <td>MyLoanCare</td>\n",
       "      <td>Credit, Financial Services, Lending, Marketplace</td>\n",
       "      <td>Series A</td>\n",
       "      <td>₹65,000,000</td>\n",
       "      <td>Gurgaon, Haryana, India</td>\n",
       "      <td>Leading Online Loans Marketplace in India</td>\n",
       "    </tr>\n",
       "    <tr>\n",
       "      <th>3</th>\n",
       "      <td>PayMe India</td>\n",
       "      <td>Financial Services, FinTech</td>\n",
       "      <td>Angel</td>\n",
       "      <td>2000000</td>\n",
       "      <td>Noida, Uttar Pradesh, India</td>\n",
       "      <td>PayMe India is an innovative FinTech organizat...</td>\n",
       "    </tr>\n",
       "    <tr>\n",
       "      <th>4</th>\n",
       "      <td>Eunimart</td>\n",
       "      <td>E-Commerce Platforms, Retail, SaaS</td>\n",
       "      <td>Seed</td>\n",
       "      <td>—</td>\n",
       "      <td>Hyderabad, Andhra Pradesh, India</td>\n",
       "      <td>Eunimart is a one stop solution for merchants ...</td>\n",
       "    </tr>\n",
       "  </tbody>\n",
       "</table>\n",
       "</div>"
      ],
      "text/plain": [
       "      Company Name                                           Industry  \\\n",
       "0  TheCollegeFever  Brand Marketing, Event Promotion, Marketing, S...   \n",
       "1  Happy Cow Dairy                               Agriculture, Farming   \n",
       "2       MyLoanCare   Credit, Financial Services, Lending, Marketplace   \n",
       "3      PayMe India                        Financial Services, FinTech   \n",
       "4         Eunimart                 E-Commerce Platforms, Retail, SaaS   \n",
       "\n",
       "  Round/Series       Amount                          Location  \\\n",
       "0         Seed       250000       Bangalore, Karnataka, India   \n",
       "1         Seed  ₹40,000,000        Mumbai, Maharashtra, India   \n",
       "2     Series A  ₹65,000,000           Gurgaon, Haryana, India   \n",
       "3        Angel      2000000       Noida, Uttar Pradesh, India   \n",
       "4         Seed            —  Hyderabad, Andhra Pradesh, India   \n",
       "\n",
       "                                       About Company  \n",
       "0  TheCollegeFever is a hub for fun, fiesta and f...  \n",
       "1  A startup which aggregates milk from dairy far...  \n",
       "2          Leading Online Loans Marketplace in India  \n",
       "3  PayMe India is an innovative FinTech organizat...  \n",
       "4  Eunimart is a one stop solution for merchants ...  "
      ]
     },
     "execution_count": 18,
     "metadata": {},
     "output_type": "execute_result"
    }
   ],
   "source": [
    "#Reading 2018 data from the csv files\n",
    "\n",
    "data_2018=pd.read_csv('startup_funding_2018_2019\\startup_funding2018.csv')\n",
    "data_2018.head(5)"
   ]
  },
  {
   "cell_type": "code",
   "execution_count": null,
   "id": "9933b5b8",
   "metadata": {},
   "outputs": [
    {
     "data": {
      "text/html": [
       "<div>\n",
       "<style scoped>\n",
       "    .dataframe tbody tr th:only-of-type {\n",
       "        vertical-align: middle;\n",
       "    }\n",
       "\n",
       "    .dataframe tbody tr th {\n",
       "        vertical-align: top;\n",
       "    }\n",
       "\n",
       "    .dataframe thead th {\n",
       "        text-align: right;\n",
       "    }\n",
       "</style>\n",
       "<table border=\"1\" class=\"dataframe\">\n",
       "  <thead>\n",
       "    <tr style=\"text-align: right;\">\n",
       "      <th></th>\n",
       "      <th>Company_Brand</th>\n",
       "      <th>Sector</th>\n",
       "      <th>Stage</th>\n",
       "      <th>Amount</th>\n",
       "      <th>HeadQuarter</th>\n",
       "      <th>What_it_does</th>\n",
       "    </tr>\n",
       "  </thead>\n",
       "  <tbody>\n",
       "    <tr>\n",
       "      <th>0</th>\n",
       "      <td>TheCollegeFever</td>\n",
       "      <td>Brand Marketing, Event Promotion, Marketing, S...</td>\n",
       "      <td>Seed</td>\n",
       "      <td>250000</td>\n",
       "      <td>Bangalore, Karnataka, India</td>\n",
       "      <td>TheCollegeFever is a hub for fun, fiesta and f...</td>\n",
       "    </tr>\n",
       "    <tr>\n",
       "      <th>1</th>\n",
       "      <td>Happy Cow Dairy</td>\n",
       "      <td>Agriculture, Farming</td>\n",
       "      <td>Seed</td>\n",
       "      <td>₹40,000,000</td>\n",
       "      <td>Mumbai, Maharashtra, India</td>\n",
       "      <td>A startup which aggregates milk from dairy far...</td>\n",
       "    </tr>\n",
       "    <tr>\n",
       "      <th>2</th>\n",
       "      <td>MyLoanCare</td>\n",
       "      <td>Credit, Financial Services, Lending, Marketplace</td>\n",
       "      <td>Series A</td>\n",
       "      <td>₹65,000,000</td>\n",
       "      <td>Gurgaon, Haryana, India</td>\n",
       "      <td>Leading Online Loans Marketplace in India</td>\n",
       "    </tr>\n",
       "    <tr>\n",
       "      <th>3</th>\n",
       "      <td>PayMe India</td>\n",
       "      <td>Financial Services, FinTech</td>\n",
       "      <td>Angel</td>\n",
       "      <td>2000000</td>\n",
       "      <td>Noida, Uttar Pradesh, India</td>\n",
       "      <td>PayMe India is an innovative FinTech organizat...</td>\n",
       "    </tr>\n",
       "    <tr>\n",
       "      <th>4</th>\n",
       "      <td>Eunimart</td>\n",
       "      <td>E-Commerce Platforms, Retail, SaaS</td>\n",
       "      <td>Seed</td>\n",
       "      <td>—</td>\n",
       "      <td>Hyderabad, Andhra Pradesh, India</td>\n",
       "      <td>Eunimart is a one stop solution for merchants ...</td>\n",
       "    </tr>\n",
       "  </tbody>\n",
       "</table>\n",
       "</div>"
      ],
      "text/plain": [
       "     Company_Brand                                             Sector  \\\n",
       "0  TheCollegeFever  Brand Marketing, Event Promotion, Marketing, S...   \n",
       "1  Happy Cow Dairy                               Agriculture, Farming   \n",
       "2       MyLoanCare   Credit, Financial Services, Lending, Marketplace   \n",
       "3      PayMe India                        Financial Services, FinTech   \n",
       "4         Eunimart                 E-Commerce Platforms, Retail, SaaS   \n",
       "\n",
       "      Stage       Amount                       HeadQuarter  \\\n",
       "0      Seed       250000       Bangalore, Karnataka, India   \n",
       "1      Seed  ₹40,000,000        Mumbai, Maharashtra, India   \n",
       "2  Series A  ₹65,000,000           Gurgaon, Haryana, India   \n",
       "3     Angel      2000000       Noida, Uttar Pradesh, India   \n",
       "4      Seed            —  Hyderabad, Andhra Pradesh, India   \n",
       "\n",
       "                                        What_it_does  \n",
       "0  TheCollegeFever is a hub for fun, fiesta and f...  \n",
       "1  A startup which aggregates milk from dairy far...  \n",
       "2          Leading Online Loans Marketplace in India  \n",
       "3  PayMe India is an innovative FinTech organizat...  \n",
       "4  Eunimart is a one stop solution for merchants ...  "
      ]
     },
     "execution_count": 19,
     "metadata": {},
     "output_type": "execute_result"
    }
   ],
   "source": [
    "#Changing column names of 2018 data to match all other datasets\n",
    "data_2018.rename(columns={'Company Name':'Company_Brand','Industry':'Sector', 'Round/Series':'Stage', 'Location':'HeadQuarter', 'About Company':'What_it_does'}, inplace=True)\n",
    "data_2018.head(5)"
   ]
  },
  {
   "cell_type": "code",
   "execution_count": null,
   "id": "c747023c",
   "metadata": {},
   "outputs": [],
   "source": [
    "def curr_converter(df,rate):\n",
    "    amount_new=[]\n",
    "    for a in df:\n",
    "        if a.startswith('$'):\n",
    "            \n",
    "            amount_new.append(a.split('$')[1].replace(',',''))\n",
    "        elif a.startswith('₹'): \n",
    "            \n",
    "            amount_new.append(float((a.split('₹')[1]).replace(',',''))/rate )  \n",
    "        else :\n",
    "            amount_new.append(a)    \n",
    "    return amount_new"
   ]
  },
  {
   "cell_type": "code",
   "execution_count": null,
   "id": "56c823cc",
   "metadata": {},
   "outputs": [],
   "source": [
    "#Removing the Lahk symbol\n",
    "exch_rate= 158.38\n",
    "amount_list=data_2018.Amount.tolist()\n",
    "amount_new=curr_converter(amount_list,exch_rate)\n",
    "data_2018['Amount']=amount_new\n",
    "data_2018['Investment_year'] = '2018'"
   ]
  },
  {
   "cell_type": "code",
   "execution_count": null,
   "id": "2d3abf18",
   "metadata": {},
   "outputs": [
    {
     "data": {
      "text/html": [
       "<div>\n",
       "<style scoped>\n",
       "    .dataframe tbody tr th:only-of-type {\n",
       "        vertical-align: middle;\n",
       "    }\n",
       "\n",
       "    .dataframe tbody tr th {\n",
       "        vertical-align: top;\n",
       "    }\n",
       "\n",
       "    .dataframe thead th {\n",
       "        text-align: right;\n",
       "    }\n",
       "</style>\n",
       "<table border=\"1\" class=\"dataframe\">\n",
       "  <thead>\n",
       "    <tr style=\"text-align: right;\">\n",
       "      <th></th>\n",
       "      <th>Company/Brand</th>\n",
       "      <th>Founded</th>\n",
       "      <th>HeadQuarter</th>\n",
       "      <th>Sector</th>\n",
       "      <th>What it does</th>\n",
       "      <th>Founders</th>\n",
       "      <th>Investor</th>\n",
       "      <th>Amount($)</th>\n",
       "      <th>Stage</th>\n",
       "    </tr>\n",
       "  </thead>\n",
       "  <tbody>\n",
       "    <tr>\n",
       "      <th>0</th>\n",
       "      <td>Bombay Shaving</td>\n",
       "      <td>NaN</td>\n",
       "      <td>NaN</td>\n",
       "      <td>Ecommerce</td>\n",
       "      <td>Provides a range of male grooming products</td>\n",
       "      <td>Shantanu Deshpande</td>\n",
       "      <td>Sixth Sense Ventures</td>\n",
       "      <td>$6,300,000</td>\n",
       "      <td>NaN</td>\n",
       "    </tr>\n",
       "    <tr>\n",
       "      <th>1</th>\n",
       "      <td>Ruangguru</td>\n",
       "      <td>2014.0</td>\n",
       "      <td>Mumbai</td>\n",
       "      <td>Edtech</td>\n",
       "      <td>A learning platform that provides topic-based ...</td>\n",
       "      <td>Adamas Belva Syah Devara, Iman Usman.</td>\n",
       "      <td>General Atlantic</td>\n",
       "      <td>$150,000,000</td>\n",
       "      <td>Series C</td>\n",
       "    </tr>\n",
       "    <tr>\n",
       "      <th>2</th>\n",
       "      <td>Eduisfun</td>\n",
       "      <td>NaN</td>\n",
       "      <td>Mumbai</td>\n",
       "      <td>Edtech</td>\n",
       "      <td>It aims to make learning fun via games.</td>\n",
       "      <td>Jatin Solanki</td>\n",
       "      <td>Deepak Parekh, Amitabh Bachchan, Piyush Pandey</td>\n",
       "      <td>$28,000,000</td>\n",
       "      <td>Fresh funding</td>\n",
       "    </tr>\n",
       "    <tr>\n",
       "      <th>3</th>\n",
       "      <td>HomeLane</td>\n",
       "      <td>2014.0</td>\n",
       "      <td>Chennai</td>\n",
       "      <td>Interior design</td>\n",
       "      <td>Provides interior designing solutions</td>\n",
       "      <td>Srikanth Iyer, Rama Harinath</td>\n",
       "      <td>Evolvence India Fund (EIF), Pidilite Group, FJ...</td>\n",
       "      <td>$30,000,000</td>\n",
       "      <td>Series D</td>\n",
       "    </tr>\n",
       "    <tr>\n",
       "      <th>4</th>\n",
       "      <td>Nu Genes</td>\n",
       "      <td>2004.0</td>\n",
       "      <td>Telangana</td>\n",
       "      <td>AgriTech</td>\n",
       "      <td>It is a seed company engaged in production, pr...</td>\n",
       "      <td>Narayana Reddy Punyala</td>\n",
       "      <td>Innovation in Food and Agriculture (IFA)</td>\n",
       "      <td>$6,000,000</td>\n",
       "      <td>NaN</td>\n",
       "    </tr>\n",
       "  </tbody>\n",
       "</table>\n",
       "</div>"
      ],
      "text/plain": [
       "    Company/Brand  Founded HeadQuarter           Sector  \\\n",
       "0  Bombay Shaving      NaN         NaN        Ecommerce   \n",
       "1       Ruangguru   2014.0      Mumbai           Edtech   \n",
       "2        Eduisfun      NaN      Mumbai           Edtech   \n",
       "3        HomeLane   2014.0     Chennai  Interior design   \n",
       "4        Nu Genes   2004.0   Telangana         AgriTech   \n",
       "\n",
       "                                        What it does  \\\n",
       "0         Provides a range of male grooming products   \n",
       "1  A learning platform that provides topic-based ...   \n",
       "2            It aims to make learning fun via games.   \n",
       "3              Provides interior designing solutions   \n",
       "4  It is a seed company engaged in production, pr...   \n",
       "\n",
       "                                Founders  \\\n",
       "0                     Shantanu Deshpande   \n",
       "1  Adamas Belva Syah Devara, Iman Usman.   \n",
       "2                          Jatin Solanki   \n",
       "3           Srikanth Iyer, Rama Harinath   \n",
       "4                 Narayana Reddy Punyala   \n",
       "\n",
       "                                            Investor     Amount($)  \\\n",
       "0                               Sixth Sense Ventures    $6,300,000   \n",
       "1                                   General Atlantic  $150,000,000   \n",
       "2     Deepak Parekh, Amitabh Bachchan, Piyush Pandey   $28,000,000   \n",
       "3  Evolvence India Fund (EIF), Pidilite Group, FJ...   $30,000,000   \n",
       "4           Innovation in Food and Agriculture (IFA)    $6,000,000   \n",
       "\n",
       "           Stage  \n",
       "0            NaN  \n",
       "1       Series C  \n",
       "2  Fresh funding  \n",
       "3       Series D  \n",
       "4            NaN  "
      ]
     },
     "execution_count": 22,
     "metadata": {},
     "output_type": "execute_result"
    }
   ],
   "source": [
    "#Reading 2019 data from the csv files\n",
    "data_2019=pd.read_csv('startup_funding_2018_2019\\startup_funding2019.csv')\n",
    "data_2019.head(5)"
   ]
  },
  {
   "cell_type": "code",
   "execution_count": null,
   "id": "07727f93",
   "metadata": {},
   "outputs": [
    {
     "data": {
      "text/plain": [
       "Index(['Company_Brand', 'Founded', 'HeadQuarter', 'Sector', 'What_it_does',\n",
       "       'Founders', 'Investor', 'Amount', 'Stage'],\n",
       "      dtype='object')"
      ]
     },
     "execution_count": 23,
     "metadata": {},
     "output_type": "execute_result"
    }
   ],
   "source": [
    "#Changing column names of 2019 data to match all other datasets\n",
    "data_2019.rename(columns={'Company/Brand':'Company_Brand', 'What it does':'What_it_does', 'Amount($)':'Amount'}, inplace=True)\n",
    "data_2019.columns"
   ]
  },
  {
   "cell_type": "code",
   "execution_count": null,
   "id": "cd271fc1",
   "metadata": {},
   "outputs": [],
   "source": [
    "#Removing the Lahk symbol\n",
    "exch_rate= 177.13\n",
    "amount_list=data_2019.Amount.tolist()\n",
    "amount_new=curr_converter(amount_list,exch_rate)\n",
    "data_2019['Amount']=amount_new\n",
    "data_2019['Investment_year'] = '2019'"
   ]
  },
  {
   "cell_type": "markdown",
   "id": "c376ae0c",
   "metadata": {},
   "source": [
    "### Merging datasets"
   ]
  },
  {
   "cell_type": "code",
   "execution_count": null,
   "id": "917402b6",
   "metadata": {},
   "outputs": [],
   "source": []
  },
  {
   "cell_type": "code",
   "execution_count": null,
   "id": "92f18bcf",
   "metadata": {},
   "outputs": [
    {
     "data": {
      "text/plain": [
       "(2879, 11)"
      ]
     },
     "execution_count": 25,
     "metadata": {},
     "output_type": "execute_result"
    }
   ],
   "source": [
    "#Concating 2020 and 2021 data since they have a similar structure\n",
    "pd.set_option('display.max_rows', None)\n",
    "final_df = pd.concat([data_2021,data_2020,data_2019,data_2018],axis=0,ignore_index=True)\n",
    "final_df.head(5)\n",
    "final_df.shape"
   ]
  },
  {
   "cell_type": "code",
   "execution_count": null,
   "id": "85c608f4",
   "metadata": {},
   "outputs": [],
   "source": [
    "#Saving the combined dataset to xlsx\n",
    "final_df.to_csv(\"startup_funding_2018_2019\\combined.csv\",index=False\n",
    "             ) "
   ]
  },
  {
   "cell_type": "markdown",
   "id": "e8edf755",
   "metadata": {},
   "source": [
    "# Data Cleaning & Exploration"
   ]
  },
  {
   "cell_type": "code",
   "execution_count": 5,
   "id": "004843c0",
   "metadata": {},
   "outputs": [
    {
     "name": "stdout",
     "output_type": "stream",
     "text": [
      "<class 'pandas.core.frame.DataFrame'>\n",
      "RangeIndex: 2879 entries, 0 to 2878\n",
      "Data columns (total 11 columns):\n",
      " #   Column           Non-Null Count  Dtype  \n",
      "---  ------           --------------  -----  \n",
      " 0   Company_Brand    2879 non-null   object \n",
      " 1   Founded          2110 non-null   float64\n",
      " 2   HeadQuarter      2765 non-null   object \n",
      " 3   Sector           2861 non-null   object \n",
      " 4   What_it_does     2879 non-null   object \n",
      " 5   Founders         2334 non-null   object \n",
      " 6   Investor         2253 non-null   object \n",
      " 7   Stage            1941 non-null   object \n",
      " 8   Amount           2494 non-null   object \n",
      " 9   Investment_year  2879 non-null   int64  \n",
      " 10  column10         2 non-null      object \n",
      "dtypes: float64(1), int64(1), object(9)\n",
      "memory usage: 247.5+ KB\n"
     ]
    }
   ],
   "source": [
    "#Considering the columns of interest and reindexing\n",
    "df= pd.read_csv('startup_funding_2018_2019\\combined.csv')\n",
    "df.info()\n"
   ]
  },
  {
   "cell_type": "code",
   "execution_count": null,
   "id": "9172939b",
   "metadata": {},
   "outputs": [
    {
     "data": {
      "text/plain": [
       "(2879, 11)"
      ]
     },
     "execution_count": 28,
     "metadata": {},
     "output_type": "execute_result"
    }
   ],
   "source": [
    "df.shape"
   ]
  },
  {
   "cell_type": "markdown",
   "id": "7581c150",
   "metadata": {},
   "source": [
    "#Merging the removed symbols with the original dataset\n",
    "#f_df = pd.concat([df,dollar_investment,lahk_investment],axis=0,ignore_index=True)\n",
    "f_df.shape\n"
   ]
  },
  {
   "cell_type": "markdown",
   "id": "d99ebb94",
   "metadata": {},
   "source": [
    "#Dropping duplicates from the original dataset to maintain the 'removed symbols' rows\n",
    "f_df.drop_duplicates(subset=['Stage','Founded','Founders','Company_Brand','HeadQuarter','Investor','Sector','What_it_does','column10'],  keep='last', inplace=True, ignore_index=False)\n",
    "f_df.shape"
   ]
  },
  {
   "cell_type": "code",
   "execution_count": 6,
   "id": "09fe9543",
   "metadata": {},
   "outputs": [],
   "source": [
    "#split HQ column into two columns\n",
    "df[['Town', 'Other']] = df['HeadQuarter'].str.split(',', 1, expand=True)\n",
    "df[['City', 'Country']] = df['Other'].str.split(',', 1, expand=True)\n",
    "#df\n"
   ]
  },
  {
   "cell_type": "code",
   "execution_count": 7,
   "id": "49d6d69c",
   "metadata": {},
   "outputs": [
    {
     "data": {
      "text/html": [
       "<div>\n",
       "<style scoped>\n",
       "    .dataframe tbody tr th:only-of-type {\n",
       "        vertical-align: middle;\n",
       "    }\n",
       "\n",
       "    .dataframe tbody tr th {\n",
       "        vertical-align: top;\n",
       "    }\n",
       "\n",
       "    .dataframe thead th {\n",
       "        text-align: right;\n",
       "    }\n",
       "</style>\n",
       "<table border=\"1\" class=\"dataframe\">\n",
       "  <thead>\n",
       "    <tr style=\"text-align: right;\">\n",
       "      <th></th>\n",
       "      <th>Company_Brand</th>\n",
       "      <th>Founded</th>\n",
       "      <th>HeadQuarter</th>\n",
       "      <th>Sector</th>\n",
       "      <th>What_it_does</th>\n",
       "      <th>Founders</th>\n",
       "      <th>Investor</th>\n",
       "      <th>Stage</th>\n",
       "      <th>Amount</th>\n",
       "      <th>Investment_year</th>\n",
       "      <th>column10</th>\n",
       "      <th>Town</th>\n",
       "      <th>Other</th>\n",
       "      <th>City</th>\n",
       "      <th>Country</th>\n",
       "      <th>Headquarter_City</th>\n",
       "    </tr>\n",
       "  </thead>\n",
       "  <tbody>\n",
       "    <tr>\n",
       "      <th>0</th>\n",
       "      <td>Unbox Robotics</td>\n",
       "      <td>2019.0</td>\n",
       "      <td>Bangalore</td>\n",
       "      <td>AI startup</td>\n",
       "      <td>Unbox Robotics builds on-demand AI-driven ware...</td>\n",
       "      <td>Pramod Ghadge, Shahid Memon</td>\n",
       "      <td>BEENEXT, Entrepreneur First</td>\n",
       "      <td>Pre-series A</td>\n",
       "      <td>1200000</td>\n",
       "      <td>2021</td>\n",
       "      <td>NaN</td>\n",
       "      <td>Bangalore</td>\n",
       "      <td>None</td>\n",
       "      <td>None</td>\n",
       "      <td>None</td>\n",
       "      <td>Bangalore</td>\n",
       "    </tr>\n",
       "    <tr>\n",
       "      <th>1</th>\n",
       "      <td>upGrad</td>\n",
       "      <td>2015.0</td>\n",
       "      <td>Mumbai</td>\n",
       "      <td>EdTech</td>\n",
       "      <td>UpGrad is an online higher education platform.</td>\n",
       "      <td>Mayank Kumar, Phalgun Kompalli, Ravijot Chugh,...</td>\n",
       "      <td>Unilazer Ventures, IIFL Asset Management</td>\n",
       "      <td>NaN</td>\n",
       "      <td>120000000</td>\n",
       "      <td>2021</td>\n",
       "      <td>NaN</td>\n",
       "      <td>Mumbai</td>\n",
       "      <td>None</td>\n",
       "      <td>None</td>\n",
       "      <td>None</td>\n",
       "      <td>Mumbai</td>\n",
       "    </tr>\n",
       "  </tbody>\n",
       "</table>\n",
       "</div>"
      ],
      "text/plain": [
       "    Company_Brand  Founded HeadQuarter      Sector  \\\n",
       "0  Unbox Robotics   2019.0   Bangalore  AI startup   \n",
       "1          upGrad   2015.0      Mumbai      EdTech   \n",
       "\n",
       "                                        What_it_does  \\\n",
       "0  Unbox Robotics builds on-demand AI-driven ware...   \n",
       "1     UpGrad is an online higher education platform.   \n",
       "\n",
       "                                            Founders  \\\n",
       "0                        Pramod Ghadge, Shahid Memon   \n",
       "1  Mayank Kumar, Phalgun Kompalli, Ravijot Chugh,...   \n",
       "\n",
       "                                   Investor         Stage     Amount  \\\n",
       "0               BEENEXT, Entrepreneur First  Pre-series A    1200000   \n",
       "1  Unilazer Ventures, IIFL Asset Management           NaN  120000000   \n",
       "\n",
       "   Investment_year column10       Town Other  City Country Headquarter_City  \n",
       "0             2021      NaN  Bangalore  None  None    None        Bangalore  \n",
       "1             2021      NaN     Mumbai  None  None    None           Mumbai  "
      ]
     },
     "execution_count": 7,
     "metadata": {},
     "output_type": "execute_result"
    }
   ],
   "source": [
    "# Function to fill new column based on conditions\n",
    "def fill_new_column(row):\n",
    "    if row['Town'] != '':\n",
    "        return row['Town']\n",
    "    else:\n",
    "        return row['City']\n",
    "    \n",
    "# Create a new column filled with values from one column or default value if empty\n",
    "df['Headquarter_City'] = df.apply(fill_new_column, axis=1)    \n",
    "\n",
    "df.head(2)"
   ]
  },
  {
   "cell_type": "markdown",
   "id": "04e16ee5",
   "metadata": {},
   "source": [
    "Technology & Software: Startups primarily focused on developing software, AI, IT solutions, and technology-related services.\n",
    "\n",
    "Examples: AI startup, Tech Startup, IT startup, Software Startup, SaaS startup, MLOps platform, Digital platform, Blockchain startup, Automation, Podcast, Trading platform, Social network, Mobile Games, Computer software.\n",
    "\n",
    "E-commerce & Retail: Startups involved in online retail, e-commerce platforms, marketplace solutions, and retail-focused businesses.\n",
    "\n",
    "Examples: E-commerce, B2B E-commerce, Retail, Social commerce, Food Industry, Content commerce, B2B Manufacturing, Home Decor, Consumer Electronics, Apparel & Fashion.\n",
    "\n",
    "Finance & FinTech: Startups operating in financial services, banking, financial technology (FinTech), cryptocurrency, and related areas.\n",
    "\n",
    "Examples: FinTech, Banking, Financial Services, Trading platform, Cryptocurrency, Digital mortgage, Venture Capital, Insurance, Trading platform, Insuretech, Consumer finance.\n",
    "\n",
    "Healthcare & HealthTech: Startups in the healthcare industry, including health technology (HealthTech), telemedicine, medical devices, and healthcare services.\n",
    "\n",
    "Examples: HealthTech, Healthcare, Hospital & Health Care, Health, Health care, Healtcare, Insuretech, Medical, Hospital & Health Care.\n",
    "Others: Startups that do not fit directly into the above categories or have unique business models.\n",
    "\n",
    "Examples: EdTech (Education Technology), AgriTech (Agricultural Technology), Food & Beverages, Hospitality, Logistics & Supply Chain, \n",
    "Transportation, Renewable Energy, Robotics, Aerospace, Automotive, Gaming, Fashion, Real Estate, Media, Social Media, Consumer Goods, Industrial Automation, Lifestyle, Food delivery, LegalTech, Rental, Recruitment, Construction, Sports, Spirituality, Pet care, Music, Tobacco, Advisory firm, Pollution control equipment, Consulting, BioTechnology, Innovation Management, Location Analytics, Computer & Network Security, Apparel & Fashion, Automotive, Computer Games, Lifestyle, Environmental Services, Facilities Services, Marketing & Advertising, Job discovery platform, D2C (Direct-to-Consumer), E-learning, OTT (Over-the-Top media), Music, Fitness, Eyewear, NFT Marketplace, Online storytelling, SpaceTech, Online Media, Fishery, Advisory firm, Apparel & Fashion, Environmental service, Commercial Real Estate, AR startup."
   ]
  },
  {
   "cell_type": "code",
   "execution_count": null,
   "id": "2179da83",
   "metadata": {},
   "outputs": [],
   "source": [
    "df['Category'] = df['Sector'].map({'AI startup':'Technology & Software','EdTech':'Education',\n",
    " 'B2B E-commerce':'E-commerce & Retail',\n",
    " 'FinTech':'Finance & FinTech',\n",
    " 'Home services':'E-commerce & Retail',\n",
    " 'HealthTech':'Healthcare & HealthTech',\n",
    " 'Tech Startup':'Technology & Software',\n",
    " 'E-commerce':'E-commerce & Retail',\n",
    " 'B2B service':'E-commerce & Retail',\n",
    " 'Helathcare':'Healthcare & HealthTech',\n",
    " 'Renewable Energy':'Energy & Utilities',\n",
    " 'Electronics':'E-commerce & Retail',\n",
    " 'IT startup':'Technology & Software',\n",
    " 'Food & Beverages':'Food & Beverages',\n",
    " 'Aeorspace':'Others',\n",
    " 'Deep Tech':'Others',\n",
    " 'Dating': 'Others',\n",
    " 'Gaming':'Technology & Software',\n",
    " 'Robotics':'Technology & Software',\n",
    " 'Retail':'E-commerce & Retail',\n",
    " 'Food':'Food & Beverages',\n",
    " 'Oil and Energy':'Energy & Utilities',\n",
    " 'AgriTech':'Others',\n",
    " 'Telecommuncation':'Others',\n",
    " 'Milk startup':'Others',\n",
    " 'AI Chatbot':'Technology & Software',\n",
    " 'IT':'Technology & Software',\n",
    " 'Logistics':'E-commerce & Retail',\n",
    " 'Hospitality':'Others',\n",
    " 'Fashion':'E-commerce & Retail',\n",
    " 'Marketing':'E-commerce & Retail',\n",
    " 'Transportation':'E-commerce & Retail',\n",
    " 'LegalTech':'Others',\n",
    " 'Food delivery':'E-commerce & Retail',\n",
    " 'Automotive':'E-commerce & Retail',\n",
    " 'SaaS startup':'Finance & FinTech',\n",
    " 'Renewable Energy':'Energy & Utilities',\n",
    " 'Fantasy sports':'Others',\n",
    " 'Video communication':'Technology & Software',\n",
    " 'Social Media':'Others',\n",
    " 'Skill development':'Education',\n",
    " 'Rental':'Others',\n",
    " 'Tech Startup':'Technology & Software',\n",
    " 'Recruitment':'Education',\n",
    " 'E-commerce':'E-commerce & Retail',\n",
    " 'Sports':'Others',\n",
    " 'Computer Games':'E-commerce & Retail',\n",
    " 'Consumer Goods':'E-commerce & Retail',\n",
    " 'Information Technology':'Technology & Software',\n",
    " 'Apparel & Fashion':'E-commerce & Retail',\n",
    " 'Logistics & Supply Chain':'E-commerce & Retail',\n",
    " 'SportsTech':'Others',\n",
    " 'HRTech':'Others',\n",
    " 'Healthcare':'Healthcare & HealthTech',\n",
    " 'Wine & Spirits':'E-commerce & Retail',\n",
    " 'Mechanical & Industrial Engineering':'Others',\n",
    " 'Spiritual':'Others',\n",
    " 'Consumer Goods':'E-commerce & Retail',\n",
    " 'Industrial Automation':'Others',\n",
    " 'Lifestyle':'Others',\n",
    " 'IoT':'Technology & Software',\n",
    " 'Banking':'Finance & FinTech',\n",
    " 'Computer software':'Technology & Software',\n",
    " 'Automotive':'Others',\n",
    " 'Digital mortgage':'Others',\n",
    " 'Hospitality':'E-commerce & Retail',\n",
    " 'Location Analytics':'Others',\n",
    " 'Media':'Others',\n",
    " 'Transportation':'Others',\n",
    "'Tobacco':'E-commerce & Retail',\n",
    "'MLOps platform':'Education',\n",
    " 'Insuretech':'Finance & FinTech',\n",
    "'Venture Capital':'Finance & FinTech',\n",
    " 'Pet care':'Others',\n",
    " 'Drone':'Others',\n",
    "'E-learning':'Education',\n",
    " 'Computer & Network Security':'Technology & Software',\n",
    " 'Capital Markets':'Finance & FinTech',\n",
    " 'Social network':'Others',\n",
    "'Venture Capital & Private Equity':'Finance & FinTech',\n",
    "'Furniture':'E-commerce & Retail',\n",
    "'Wholesale':'E-commerce & Retail',\n",
    " 'Health, Wellness & Fitness':'Healthcare & HealthTech',\n",
    " 'OTT':'Others',\n",
    " 'Hospital & Health Care':'Healthcare & HealthTech',\n",
    " 'Information Technology & Services':'Technology & Software',\n",
    " 'Construction':'Others',\n",
    " 'Media':'Others',\n",
    " 'E-learning':'Education',\n",
    " 'Music':'Others',\n",
    " 'Information Technology & Services':'E-commerce & Retail',\n",
    " 'B2B marketplace':'E-commerce & Retail',\n",
    " 'Financial Services':'Finance & FinTech',\n",
    " 'Healtcare':'Healthcare & HealthTech',\n",
    "'Education Management':'Education',\n",
    " 'E-learning':'Education',\n",
    " 'Music':'Others',\n",
    "'Social commerce':'Others',\n",
    "\n",
    "'Insurance':'Finance & FinTech',\n",
    "  'Social audio':'Others',\n",
    "  'Content commerce':'Others',\n",
    "   'Celebrity Engagement':'Others',\n",
    " 'Trading platform':'Finance & FinTech',\n",
    " 'Innovation Management':'Others',\n",
    "'Advisory firm':'Others',\n",
    "'Vehicle repair startup':'Others',\n",
    " 'Beverages':'Food & Beverages',\n",
    " 'EV startup':'Others',\n",
    "  'Home Decor':'E-commerce & Retail',\n",
    " 'Solar':'E-commerce & Retail',\n",
    " 'Cannabis startup':'E-commerce & Retail',\n",
    "  'Helathcare':'Healthcare & HealthTech',\n",
    " 'Water purification':'Healthcare & HealthTech',\n",
    "'Cosmetics':'Others',\n",
    "'CRM':'Others',\n",
    "'Job discovery platform':'Others',\n",
    "'Aviation':'Others',\n",
    "'SpaceTech':'Others',\n",
    "'NFT Marketplace':'Finance & FinTech',\n",
    "'Human Resources':'Others',\n",
    " 'D2C':'Others',\n",
    " 'Pollution control equiptment':'Othes',\n",
    "'BioTechnology':'Others',\n",
    " 'Software Startup':'Technology & Software',\n",
    " 'Mobile Games':'Technology & Software',\n",
    " 'Podcast':'Others',\n",
    " 'Content publishing':'Others',\n",
    " 'Blockchain startup':'Others',\n",
    " 'Social network':'Others',\n",
    " 'Insuretech':'Finance & FinTech',\n",
    " 'Company-as-a-Service':'Others',\n",
    " 'Eyewear':'E-commerce & Retail',\n",
    " 'Textiles':'E-commerce & Retail',\n",
    " 'Matrimony':'Others',\n",
    " 'Blockchain':'Finance & FinTech',\n",
    " 'Merchandise':'E-commerce & Retail',\n",
    " 'Facilities Services':'E-commerce & Retail',\n",
    " 'Farming':'Healthcare & HealthTech',\n",
    " 'Internet':'Others','Online Media':'Others',\n",
    " 'Social community':'Others','Consumer Electronics':'Others',\n",
    " 'Fishery':'Healthcare & HealthTech','Deeptech':'Others',\n",
    " 'Renewables & Environment':'Others','Tech startup':'Technology & Software',\n",
    " 'Online storytelling':'Others','Digital platform':'Others',\n",
    " 'Nutrition':'Healthcare & HealthTech','Health':'Healthcare & HealthTech',\n",
    " 'Augmented reality':'Technology & Software','Online Media':'Others',\n",
    " 'Co-working':'Others','HealthCare':'Healthcare & HealthTech',\n",
    " 'Blockchain startup':'Finance & FinTech','Healthtech':'Healthcare & HealthTech'})\n",
    "\n"
   ]
  },
  {
   "cell_type": "code",
   "execution_count": 46,
   "id": "6153f6c1",
   "metadata": {},
   "outputs": [],
   "source": [
    "sector = df.Sector.tolist()\n",
    "cat=[]\n",
    "cat = ['Finance & FinTech' if 'bank' in str(a).lower() or 'trading' in str(a).lower() or 'fintech' in str(a).lower() or 'vent' in str(a).lower() or 'capital' in str(a).lower() or 'insure' in str(a).lower() or 'crypt' in str(a).lower()\n",
    "         else 'Technology & Software' if 'ai startup' in str(a).lower() or 'technology' in str(a).lower() or 'it' in str(a).lower() or 'chain' in str(a).lower() or 'augment' in str(a).lower() or 'robot' in str(a).lower() or 'gamin' in str(a).lower() or 'information' in str(a).lower() or 'mobile' in str(a).lower()\n",
    "         else 'E-commerce & Retail' if 'b2b' in str(a).lower() or 'e-com' in str(a).lower() or 'reta' in str(a).lower() or 'soci' in str(a).lower() or 'food' in str(a).lower() or 'content' in str(a).lower() or 'decor' in str(a).lower() or 'electronics' in str(a).lower() or 'apparel' in str(a).lower() or 'fashion' in str(a).lower() or 'food' in str(a).lower() or 'farm' in str(a).lower() or 'fish' in str(a).lower() or 'annabi' in str(a).lower() or 'eye' in str(a).lower()\n",
    "         else 'Education' if 'edtech' in str(a).lower() or 'learn' in str(a).lower() or 'working' in str(a).lower() or 'story' in str(a).lower()\n",
    "         else 'Healthcare & HealthTech' if 'heal' in str(a).lower() or 'medi' in str(a).lower() or 'care' in str(a).lower() or 'hael' in str(a).lower()\n",
    "         else 'Other'\n",
    "         for a in sector]\n"
   ]
  },
  {
   "cell_type": "code",
   "execution_count": 44,
   "id": "3461e56a",
   "metadata": {},
   "outputs": [],
   "source": [
    "df['Category']=cat"
   ]
  },
  {
   "cell_type": "code",
   "execution_count": 47,
   "id": "0e96858d",
   "metadata": {},
   "outputs": [
    {
     "data": {
      "text/html": [
       "<div>\n",
       "<style scoped>\n",
       "    .dataframe tbody tr th:only-of-type {\n",
       "        vertical-align: middle;\n",
       "    }\n",
       "\n",
       "    .dataframe tbody tr th {\n",
       "        vertical-align: top;\n",
       "    }\n",
       "\n",
       "    .dataframe thead th {\n",
       "        text-align: right;\n",
       "    }\n",
       "</style>\n",
       "<table border=\"1\" class=\"dataframe\">\n",
       "  <thead>\n",
       "    <tr style=\"text-align: right;\">\n",
       "      <th></th>\n",
       "      <th>Company_Brand</th>\n",
       "      <th>Founded</th>\n",
       "      <th>HeadQuarter</th>\n",
       "      <th>Sector</th>\n",
       "      <th>What_it_does</th>\n",
       "      <th>Founders</th>\n",
       "      <th>Investor</th>\n",
       "      <th>Stage</th>\n",
       "      <th>Amount</th>\n",
       "      <th>Investment_year</th>\n",
       "      <th>column10</th>\n",
       "      <th>Town</th>\n",
       "      <th>Other</th>\n",
       "      <th>City</th>\n",
       "      <th>Country</th>\n",
       "      <th>Headquarter_City</th>\n",
       "      <th>Category</th>\n",
       "    </tr>\n",
       "  </thead>\n",
       "  <tbody>\n",
       "    <tr>\n",
       "      <th>0</th>\n",
       "      <td>Unbox Robotics</td>\n",
       "      <td>2019.0</td>\n",
       "      <td>Bangalore</td>\n",
       "      <td>AI startup</td>\n",
       "      <td>Unbox Robotics builds on-demand AI-driven ware...</td>\n",
       "      <td>Pramod Ghadge, Shahid Memon</td>\n",
       "      <td>BEENEXT, Entrepreneur First</td>\n",
       "      <td>Pre-series A</td>\n",
       "      <td>1200000</td>\n",
       "      <td>2021</td>\n",
       "      <td>NaN</td>\n",
       "      <td>Bangalore</td>\n",
       "      <td>None</td>\n",
       "      <td>None</td>\n",
       "      <td>None</td>\n",
       "      <td>Bangalore</td>\n",
       "      <td>Technology &amp; Software</td>\n",
       "    </tr>\n",
       "    <tr>\n",
       "      <th>1</th>\n",
       "      <td>upGrad</td>\n",
       "      <td>2015.0</td>\n",
       "      <td>Mumbai</td>\n",
       "      <td>EdTech</td>\n",
       "      <td>UpGrad is an online higher education platform.</td>\n",
       "      <td>Mayank Kumar, Phalgun Kompalli, Ravijot Chugh,...</td>\n",
       "      <td>Unilazer Ventures, IIFL Asset Management</td>\n",
       "      <td>NaN</td>\n",
       "      <td>120000000</td>\n",
       "      <td>2021</td>\n",
       "      <td>NaN</td>\n",
       "      <td>Mumbai</td>\n",
       "      <td>None</td>\n",
       "      <td>None</td>\n",
       "      <td>None</td>\n",
       "      <td>Mumbai</td>\n",
       "      <td>Education</td>\n",
       "    </tr>\n",
       "  </tbody>\n",
       "</table>\n",
       "</div>"
      ],
      "text/plain": [
       "    Company_Brand  Founded HeadQuarter      Sector  \\\n",
       "0  Unbox Robotics   2019.0   Bangalore  AI startup   \n",
       "1          upGrad   2015.0      Mumbai      EdTech   \n",
       "\n",
       "                                        What_it_does  \\\n",
       "0  Unbox Robotics builds on-demand AI-driven ware...   \n",
       "1     UpGrad is an online higher education platform.   \n",
       "\n",
       "                                            Founders  \\\n",
       "0                        Pramod Ghadge, Shahid Memon   \n",
       "1  Mayank Kumar, Phalgun Kompalli, Ravijot Chugh,...   \n",
       "\n",
       "                                   Investor         Stage     Amount  \\\n",
       "0               BEENEXT, Entrepreneur First  Pre-series A    1200000   \n",
       "1  Unilazer Ventures, IIFL Asset Management           NaN  120000000   \n",
       "\n",
       "   Investment_year column10       Town Other  City Country Headquarter_City  \\\n",
       "0             2021      NaN  Bangalore  None  None    None        Bangalore   \n",
       "1             2021      NaN     Mumbai  None  None    None           Mumbai   \n",
       "\n",
       "                Category  \n",
       "0  Technology & Software  \n",
       "1              Education  "
      ]
     },
     "execution_count": 47,
     "metadata": {},
     "output_type": "execute_result"
    }
   ],
   "source": [
    "df.head(2)"
   ]
  },
  {
   "cell_type": "code",
   "execution_count": null,
   "id": "b9f2dbbe",
   "metadata": {},
   "outputs": [
    {
     "data": {
      "text/plain": [
       "array(['BEENEXT, Entrepreneur First',\n",
       "       'Unilazer Ventures, IIFL Asset Management',\n",
       "       'GSV Ventures, Westbridge Capital', ...,\n",
       "       'Norwest Venture Partners, General Catalyst, Fundamentum, Accel Partners',\n",
       "       'TPG, Norwest Venture Partners, Evolvence India', nan],\n",
       "      dtype=object)"
      ]
     },
     "execution_count": 34,
     "metadata": {},
     "output_type": "execute_result"
    }
   ],
   "source": [
    "final_df.Investor.unique()"
   ]
  }
 ],
 "metadata": {
  "kernelspec": {
   "display_name": "Python 3 (ipykernel)",
   "language": "python",
   "name": "python3"
  },
  "language_info": {
   "codemirror_mode": {
    "name": "ipython",
    "version": 3
   },
   "file_extension": ".py",
   "mimetype": "text/x-python",
   "name": "python",
   "nbconvert_exporter": "python",
   "pygments_lexer": "ipython3",
   "version": "3.9.13"
  }
 },
 "nbformat": 4,
 "nbformat_minor": 5
}
