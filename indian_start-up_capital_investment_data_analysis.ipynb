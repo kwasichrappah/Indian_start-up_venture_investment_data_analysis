{
 "cells": [
  {
   "cell_type": "markdown",
   "id": "c5490f1b",
   "metadata": {},
   "source": [
    "# Investigating the Indian startup ecosystem"
   ]
  },
  {
   "cell_type": "markdown",
   "id": "0aa95a93",
   "metadata": {},
   "source": [
    "## Business Understanding"
   ]
  },
  {
   "cell_type": "markdown",
   "id": "17672573",
   "metadata": {},
   "source": [
    "### Description\n",
    "The objective of this project is to analyse the indian start-up investment data over the course of four years (2018-2021)."
   ]
  },
  {
   "cell_type": "markdown",
   "id": "6f8a8009",
   "metadata": {},
   "source": [
    "#### Data Sources\n",
    "- 2 SQL data sources (2021 & 2020)\n",
    "- 2 CSV files (2019 & 2018)"
   ]
  },
  {
   "cell_type": "markdown",
   "id": "116a0a05",
   "metadata": {},
   "source": [
    "### Null Hypothesis \n",
    "Investment amounts received by start-ups have no relation to sectors they operate in.\n"
   ]
  },
  {
   "cell_type": "markdown",
   "id": "c477776d",
   "metadata": {},
   "source": [
    "### Alternate Hypothesis\n",
    "There is a relationship between investment amounts received by start-ups and the sectors they operate in"
   ]
  },
  {
   "cell_type": "markdown",
   "id": "b392e991",
   "metadata": {},
   "source": [
    "### Analytical Questions\n",
    "1. Does location affect the amount of funding or investments?\n",
    "2. Does the sector of start up affect the fundings?\n",
    "3. How many companies need funding and are at what level of funding ?\n",
    "4. Which stages give out the highest investment amounts?\n",
    "5. Which cities have the highest number of startups and at what levels?\n",
    "6. What are the levels of funding the startups are receiving per year?"
   ]
  },
  {
   "cell_type": "code",
   "execution_count": 1,
   "id": "ab9093f6",
   "metadata": {},
   "outputs": [
    {
     "ename": "ModuleNotFoundError",
     "evalue": "No module named 'sqlalchemy'",
     "output_type": "error",
     "traceback": [
      "\u001b[1;31m---------------------------------------------------------------------------\u001b[0m",
      "\u001b[1;31mModuleNotFoundError\u001b[0m                       Traceback (most recent call last)",
      "Cell \u001b[1;32mIn[1], line 2\u001b[0m\n\u001b[0;32m      1\u001b[0m \u001b[38;5;66;03m#Libraries imported\u001b[39;00m\n\u001b[1;32m----> 2\u001b[0m \u001b[38;5;28;01mimport\u001b[39;00m \u001b[38;5;21;01msqlalchemy\u001b[39;00m \u001b[38;5;28;01mas\u001b[39;00m \u001b[38;5;21;01msa\u001b[39;00m\n\u001b[0;32m      3\u001b[0m \u001b[38;5;28;01mimport\u001b[39;00m \u001b[38;5;21;01mpyodbc\u001b[39;00m  \n\u001b[0;32m      4\u001b[0m \u001b[38;5;28;01mfrom\u001b[39;00m \u001b[38;5;21;01mscipy\u001b[39;00m \u001b[38;5;28;01mimport\u001b[39;00m stats   \n",
      "\u001b[1;31mModuleNotFoundError\u001b[0m: No module named 'sqlalchemy'"
     ]
    }
   ],
   "source": [
    "#Libraries imported\n",
    "import sqlalchemy as sa\n",
    "import pyodbc  \n",
    "from scipy import stats   \n",
    "from scipy.stats import kruskal\n",
    "from dotenv import dotenv_values \n",
    "import pandas as pd\n",
    "import seaborn as sns\n",
    "import warnings \n"
   ]
  },
  {
   "cell_type": "code",
   "execution_count": null,
   "id": "7960ef4f",
   "metadata": {},
   "outputs": [],
   "source": [
    "env_variables= dotenv_values('logins.env')\n",
    "database= env_variables.get('database')\n",
    "server = env_variables.get('server')\n",
    "username = env_variables.get('username')\n",
    "password = env_variables.get('password')\n",
    "\n"
   ]
  },
  {
   "cell_type": "markdown",
   "id": "c02588ac",
   "metadata": {},
   "source": [
    "## Data Understanding\n",
    "\n"
   ]
  },
  {
   "cell_type": "markdown",
   "id": "6526fade",
   "metadata": {},
   "source": [
    "#### Connecting to the dapDB to extract the 2020 and 2021 data"
   ]
  },
  {
   "cell_type": "code",
   "execution_count": null,
   "id": "c213a6d4",
   "metadata": {},
   "outputs": [],
   "source": [
    "#Connecting to the database to analyse the 2020-2021 data\n",
    "\n",
    "connection_string = f\"DRIVER={{SQL Server}};SERVER={server};DATABASE={database};UID={username};PWD={password};MARS_Connection=yes;MinProtocolVersion=TLSv1.2;\"\n",
    "connection = pyodbc.connect(connection_string)"
   ]
  },
  {
   "cell_type": "code",
   "execution_count": null,
   "id": "3373bb90",
   "metadata": {},
   "outputs": [],
   "source": [
    "#query the 2020 startup funding data\n",
    "\n",
    "query = \"SELECT * FROM LP1_startup_funding2020\"\n",
    "\n",
    "data_2020 = pd.read_sql(query, connection)\n",
    "data_2020.columns"
   ]
  },
  {
   "cell_type": "code",
   "execution_count": null,
   "id": "bb08e710",
   "metadata": {},
   "outputs": [],
   "source": [
    "#Including the investment year to the data\n",
    "data_2020['Investment_year'] = '2020'\n",
    "data_2020=data_2020.reset_index()"
   ]
  },
  {
   "cell_type": "code",
   "execution_count": null,
   "id": "16261e43",
   "metadata": {},
   "outputs": [],
   "source": [
    "#Checking the datatypes of the columns\n",
    "datatypes = data_2020.dtypes\n",
    "datatypes"
   ]
  },
  {
   "cell_type": "code",
   "execution_count": null,
   "id": "7e67dcd3",
   "metadata": {},
   "outputs": [],
   "source": [
    "#query the 2021 startup funding data\n",
    "query = \"SELECT * FROM LP1_startup_funding2021\"\n",
    "\n",
    "data_2021 = pd.read_sql(query, connection)\n",
    "data_2021.head(5)\n"
   ]
  },
  {
   "cell_type": "code",
   "execution_count": null,
   "id": "349d6fc5",
   "metadata": {},
   "outputs": [],
   "source": [
    "#Checking the datatypes of the columns\n",
    "datatypes = data_2021.dtypes\n",
    "datatypes"
   ]
  },
  {
   "cell_type": "code",
   "execution_count": null,
   "id": "5cf0d6ee",
   "metadata": {},
   "outputs": [],
   "source": [
    "#Currency Converter function\n",
    "def curr_converter(df,rate):\n",
    "    amount_new=[]\n",
    "    for a in df:\n",
    "        if a.startswith('$'):\n",
    "            \n",
    "            amount_new.append(a.split('$')[1].replace(',',''))\n",
    "        elif a.startswith('₹'): \n",
    "            \n",
    "            amount_new.append(float((a.split('₹')[1]).replace(',',''))/rate )  \n",
    "        else :\n",
    "            amount_new.append(a)    \n",
    "    return amount_new"
   ]
  },
  {
   "cell_type": "code",
   "execution_count": null,
   "id": "c417e196",
   "metadata": {},
   "outputs": [],
   "source": [
    "#Removing the dollar sign from data\n",
    "data_2021[data_2021['Amount'].str.contains('$', na = False)]\n",
    "data_2021['Amount']=data_2021.Amount.str.replace('\\W', '', regex=True)\n"
   ]
  },
  {
   "cell_type": "code",
   "execution_count": null,
   "id": "84455b30",
   "metadata": {},
   "outputs": [],
   "source": [
    "data_2021['Founded'] = data_2021['Founded'].astype(str)\n",
    "data_2021.head(2)"
   ]
  },
  {
   "cell_type": "markdown",
   "id": "9a51925d",
   "metadata": {},
   "source": [
    "#### Realised that 2021 data had data entry errors whereby there was a mixup in inputing the data for the Investor,Amount and then the Stage columns"
   ]
  },
  {
   "cell_type": "code",
   "execution_count": null,
   "metadata": {},
   "outputs": [],
   "source": [
    "#combining the Stage and Amount columns since there are mixed data entry errors\n",
    "data_2021['new'] =  data_2021['Investor'].fillna('inv') +data_2021['Amount'].astype(str) + data_2021['Stage'].fillna('ab') \n",
    "\n"
   ]
  },
  {
   "cell_type": "code",
   "execution_count": null,
   "id": "b76fc991",
   "metadata": {},
   "outputs": [],
   "source": [
    "#Extract the amounts in the combined column to get the new amount column\n",
    "data_2021['Amount_new']=data_2021['new'].str.extract('(\\d+)')\n",
    "data_2021.head(1)\n"
   ]
  },
  {
   "cell_type": "code",
   "execution_count": null,
   "id": "ab3b9c0c",
   "metadata": {},
   "outputs": [],
   "source": [
    "\n",
    "data_2021.drop(['new','Amount'], axis =1,inplace=True)\n",
    "data_2021['Investment_year'] = '2021'"
   ]
  },
  {
   "cell_type": "code",
   "execution_count": null,
   "id": "9d3bf247",
   "metadata": {},
   "outputs": [],
   "source": [
    "#Renaming the Amount_new column\n",
    "data_2021.rename(columns={'Amount_new':'Amount'}, inplace=True)\n",
    "data_2021=data_2021.reset_index()\n",
    "\n",
    "#2021 data cleaned!!!!!!!!!!!"
   ]
  },
  {
   "cell_type": "code",
   "execution_count": null,
   "id": "27038f9c",
   "metadata": {},
   "outputs": [],
   "source": [
    "data_2021.head(1)"
   ]
  },
  {
   "cell_type": "code",
   "execution_count": null,
   "id": "833b4a08",
   "metadata": {},
   "outputs": [],
   "source": [
    "#Reading 2018 data from the csv files\n",
    "\n",
    "data_2018=pd.read_csv('startup_funding_2018_2019\\startup_funding2018.csv')\n",
    "data_2018.head(5)"
   ]
  },
  {
   "cell_type": "code",
   "execution_count": null,
   "id": "9933b5b8",
   "metadata": {},
   "outputs": [],
   "source": [
    "#Renaming column names of 2018 data to match all other datasets\n",
    "data_2018.rename(columns={'Company Name':'Company_Brand','Industry':'Sector', 'Round/Series':'Stage', 'Location':'HeadQuarter', 'About Company':'What_it_does'}, inplace=True)\n",
    "data_2018.head(5)"
   ]
  },
  {
   "cell_type": "code",
   "execution_count": null,
   "id": "56c823cc",
   "metadata": {},
   "outputs": [],
   "source": [
    "#Removing the Lahk symbol and converting the Rupees to dollars\n",
    "exch_rate= 158.38\n",
    "amount_list=data_2018.Amount.tolist()\n",
    "amount_new=curr_converter(amount_list,exch_rate)\n",
    "data_2018['Amount']=amount_new\n",
    "data_2018['Investment_year'] = '2018'\n",
    "data_2018=data_2018.reset_index()"
   ]
  },
  {
   "cell_type": "code",
   "execution_count": null,
   "id": "2d3abf18",
   "metadata": {},
   "outputs": [],
   "source": [
    "#Reading 2019 data from the csv files\n",
    "data_2019=pd.read_csv('startup_funding_2018_2019\\startup_funding2019.csv')\n",
    "data_2019['Founded'] = data_2019['Founded'].astype(str)\n",
    "data_2019.head(5)"
   ]
  },
  {
   "cell_type": "code",
   "execution_count": null,
   "id": "07727f93",
   "metadata": {},
   "outputs": [],
   "source": [
    "#Renaming column names of 2019 data to match all other datasets\n",
    "data_2019.rename(columns={'Company/Brand':'Company_Brand', 'What it does':'What_it_does', 'Amount($)':'Amount'}, inplace=True)\n",
    "data_2019.columns\n"
   ]
  },
  {
   "cell_type": "code",
   "execution_count": null,
   "id": "cd271fc1",
   "metadata": {},
   "outputs": [],
   "source": [
    "#Removing the Lahk symbol and converting the Rupees to dollars\n",
    "exch_rate= 177.13\n",
    "amount_list=data_2019.Amount.tolist()\n",
    "amount_new=curr_converter(amount_list,exch_rate)\n",
    "data_2019['Amount']=amount_new\n",
    "data_2019['Investment_year'] = '2019'\n",
    "#data_2019=data_2019.reset_index()"
   ]
  },
  {
   "cell_type": "markdown",
   "id": "c376ae0c",
   "metadata": {},
   "source": [
    "### Merging datasets"
   ]
  },
  {
   "cell_type": "code",
   "execution_count": null,
   "id": "92f18bcf",
   "metadata": {},
   "outputs": [],
   "source": [
    "#Concating the four datasets since they have a similar structure to one big data\n",
    "pd.set_option('display.max_rows', None)\n",
    "final_df = pd.concat([data_2021,data_2020,data_2019,data_2018],axis=0,ignore_index=True)\n",
    "final_df.head(5)\n"
   ]
  },
  {
   "cell_type": "code",
   "execution_count": null,
   "id": "85c608f4",
   "metadata": {},
   "outputs": [],
   "source": [
    "#Saving the combined dataset to xlsx\n",
    "final_df.to_csv(\"startup_funding_2018_2019\\combined.csv\",index=False\n",
    "             ) "
   ]
  },
  {
   "cell_type": "markdown",
   "id": "e8edf755",
   "metadata": {},
   "source": [
    "# Data Cleaning & Exploration"
   ]
  },
  {
   "cell_type": "code",
   "execution_count": null,
   "id": "004843c0",
   "metadata": {},
   "outputs": [],
   "source": [
    "df= final_df\n",
    "df.info()\n",
    "df.head(2)"
   ]
  },
  {
   "cell_type": "code",
   "execution_count": null,
   "id": "9172939b",
   "metadata": {},
   "outputs": [],
   "source": [
    "df.shape\n",
    "df['HeadQuarter'].unique()"
   ]
  },
  {
   "cell_type": "code",
   "execution_count": null,
   "id": "09fe9543",
   "metadata": {},
   "outputs": [],
   "source": [
    "#split HQ column into two columns\n",
    "df[['Town', 'City','Country']] = df['HeadQuarter'].str.split(',', expand=True)\n",
    "df.head(2)\n"
   ]
  },
  {
   "cell_type": "code",
   "execution_count": null,
   "id": "49d6d69c",
   "metadata": {},
   "outputs": [],
   "source": [
    "# Function to fill new column based on conditions\n",
    "def fill_new_column(row):\n",
    "    if row['Town'] != '':\n",
    "        return row['Town']\n",
    "    else:\n",
    "        return row['City']\n",
    "    \n",
    "# Create a new column filled with values from one column or default value if empty\n",
    "df['Headquarter_City'] = df.apply(fill_new_column, axis=1)    \n",
    "\n",
    "df.head(2)"
   ]
  },
  {
   "cell_type": "code",
   "execution_count": null,
   "id": "f5209245",
   "metadata": {},
   "outputs": [],
   "source": [
    "#Categorizing the startups into 9 groups\n",
    "hq = df.Headquarter_City.tolist()\n",
    "hq_cat=[]\n",
    "hq_cat = ['Ahmedabad' if 'ahmedabad' in str(a).lower()  or 'ahmadabad' in str(a).lower()\n",
    "         else 'Bangalore' if 'bangalore' in str(a).lower() \n",
    "         else 'Uttar Pradesh' if 'pradesh' in str(a).lower() \n",
    "         else 'Gurugram' if 'gurugram' in str(a).lower() \n",
    "         else 'Bangalore' if 'bang' in str(a).lower() \n",
    "         else 'Hyderabad' if 'hyderebad' in str(a).lower() or 'hyderabad' in str(a).lower()\n",
    "         else a\n",
    "         for a in hq]\n",
    "hq_cat\n",
    "df['Headquarter_City']=hq_cat"
   ]
  },
  {
   "cell_type": "markdown",
   "id": "04e16ee5",
   "metadata": {},
   "source": [
    "#### Categorising the Sectors into 9 groups for easier classification\n",
    "- Technology & Software: Startups primarily focused on developing software, AI, IT solutions, and technology-related services.\n",
    "- E-commerce & Retail: Startups involved in online retail, e-commerce platforms, marketplace solutions, and retail-focused businesses.\n",
    "- Finance & FinTech: Startups operating in financial services, banking, financial technology (FinTech), cryptocurrency, and related areas.\n",
    "- Healthcare & HealthTech: Startups in the healthcare industry, including health technology (HealthTech), telemedicine, medical devices, and healthcare services.\n",
    "- Education: Startups in the Education industry, including learning,spacetech,data story telling and edtech.\n",
    "- Energy: Startups in the Energy industry, including Renewable energy,battery technology, EV systems, crude oil and other energy related services.\n",
    "- Agriculture: Startups in the Agriclture industry, including farming and fishing.\n",
    "- Hospitality: Startups in the Hospitality industry, including real estate,hotels,homes and hospitality services.\n",
    "- Others: Startups that do not fit directly into the above categories or have unique business models.\n"
   ]
  },
  {
   "cell_type": "code",
   "execution_count": null,
   "id": "6153f6c1",
   "metadata": {},
   "outputs": [],
   "source": [
    "#Categorizing the startups into 9 groups\n",
    "sector = df.Sector.tolist()\n",
    "cat=[]\n",
    "cat = ['Finance & FinTech' if 'bank' in str(a).lower() or 'trading' in str(a).lower() or 'fintech' in str(a).lower() or 'vent' in str(a).lower() or 'capital' in str(a).lower() or 'insure' in str(a).lower() or 'crypt' in str(a).lower() or 'nft' in str(a).lower() or 'equity' in str(a).lower()\n",
    "         else 'Technology & Software' if 'ai startup' in str(a).lower() or 'it' in str(a).lower() or 'chain' in str(a).lower() or 'augment' in str(a).lower() or 'robot' in str(a).lower() or 'gamin' in str(a).lower() or 'information' in str(a).lower() or 'mobile' in str(a).lower() or 'mlops' in str(a).lower() or 'biotech' in str(a).lower() or 'space' in str(a).lower() or 'nano' in str(a).lower()\n",
    "         else 'E-commerce & Retail' if 'b2b' in str(a).lower() or 'e-com' in str(a).lower() or 'reta' in str(a).lower() or 'soci' in str(a).lower() or 'food' in str(a).lower() or 'content' in str(a).lower() or 'decor' in str(a).lower() or 'electronics' in str(a).lower() or 'apparel' in str(a).lower() or 'fashion' in str(a).lower() or 'food' in str(a).lower() or  'eye' in str(a).lower() or 'merchand' in str(a).lower()\n",
    "         else 'Education' if 'edtech' in str(a).lower() or 'learn' in str(a).lower() or 'working' in str(a).lower() or 'story' in str(a).lower()  or 'edcation' in str(a).lower() or 'engineering' in str(a).lower()\n",
    "         else 'Healthcare & HealthTech' if 'heal' in str(a).lower() or 'medi' in str(a).lower() or 'care' in str(a).lower() or 'hael' in str(a).lower() or 'nutri' in str(a).lower()\n",
    "         else 'Agriculture' if 'farm' in str(a).lower() or 'fish' in str(a).lower() or 'annabi' in str(a).lower() or 'pollution' in str(a).lower()\n",
    "         else 'Energy' if 'energy' in str(a).lower() or 'petro' in str(a).lower() or 'crude' in str(a).lower() or 'batter' in str(a).lower() or 'ev start' in str(a).lower() or 'solar' in str(a).lower() or 'ev' in str(a).lower()\n",
    "         else 'Hospitality' if 'hospitalit' in str(a).lower() or 'mortg' in str(a).lower() or 'estate' in str(a).lower() or 'touri' in str(a).lower()\n",
    "         else 'Other'\n",
    "         for a in sector]\n"
   ]
  },
  {
   "cell_type": "markdown",
   "id": "9f5e93b7",
   "metadata": {},
   "source": [
    "#### Categorizing the Stages\n",
    "Categorizing the Stages into the 8 known groups of startup funding. Though there are other ways of funding such as debt financing ,IPO, etc there are eight (8) known groups of startup funding which are the seed funding and the other seven (7) in series from A to G."
   ]
  },
  {
   "cell_type": "code",
   "execution_count": null,
   "id": "c789af86",
   "metadata": {},
   "outputs": [],
   "source": [
    "#Categorizing the Stages into the 9 known groups of startup funding \n",
    "stages = df.Stage.tolist()\n",
    "stage=[]\n",
    "stage = ['Series A' if 'series a' in str(a).lower() \n",
    "         else 'Series B' if 'series b' in str(a).lower() \n",
    "         else 'Series C' if 'series c' in str(a).lower()\n",
    "         else 'Series D' if 'series d' in str(a).lower() \n",
    "         else 'Series E' if 'series e' in str(a).lower() \n",
    "         else 'Series F' if 'series f' in str(a).lower() \n",
    "         else 'Series G' if 'series g' in str(a).lower() \n",
    "         else 'Seed' if 'seed' in str(a).lower() \n",
    "         else 'Other'\n",
    "         for a in stages]"
   ]
  },
  {
   "cell_type": "code",
   "execution_count": null,
   "id": "3461e56a",
   "metadata": {},
   "outputs": [],
   "source": [
    "#Adding the category and categorised stages to the dataset\n",
    "df['Category']=cat\n",
    "df['Categorised_stage']=stage"
   ]
  },
  {
   "cell_type": "code",
   "execution_count": null,
   "id": "0e96858d",
   "metadata": {},
   "outputs": [],
   "source": [
    "df.head(2)"
   ]
  },
  {
   "cell_type": "code",
   "execution_count": null,
   "id": "c6d93ce6",
   "metadata": {},
   "outputs": [],
   "source": [
    "df.info()"
   ]
  },
  {
   "cell_type": "code",
   "execution_count": null,
   "id": "f29a0e62",
   "metadata": {},
   "outputs": [],
   "source": [
    "#Dropping the Town,Other,City and column10 columns \n",
    "df.drop(['index','Town','Country','City','column10'],axis =1,inplace=True)"
   ]
  },
  {
   "cell_type": "code",
   "execution_count": null,
   "id": "ee35c92b",
   "metadata": {},
   "outputs": [],
   "source": [
    "#Converting the Amount column to numeric\n",
    "df['Amount'] = pd.to_numeric(df['Amount'], errors='coerce')\n"
   ]
  },
  {
   "cell_type": "code",
   "execution_count": null,
   "id": "5ac088db",
   "metadata": {},
   "outputs": [],
   "source": [
    "df.Category.unique()\n",
    "df.head(1)"
   ]
  },
  {
   "cell_type": "markdown",
   "id": "796d1f56",
   "metadata": {},
   "source": [
    "#### Filling the empty Amount rows\n",
    "- Since investments made for startups can not be zero, we are replacing the 'nan' with the median investment of the sector that the startup finds itself in.\n",
    "- Since investments made for startups are not less than $1000, we are replacing these rows with the average investment of the sector that the startup finds itself in."
   ]
  },
  {
   "cell_type": "code",
   "execution_count": null,
   "id": "80f3bb9e",
   "metadata": {},
   "outputs": [],
   "source": [
    "# Finding the medians of the respective category\n",
    "cat_median_dict={}\n",
    "for cat in df.Category.unique():\n",
    "    cat_median_dict[cat] = df[df.Category == cat].Amount.median()\n",
    "\n",
    "cat_median_dict"
   ]
  },
  {
   "cell_type": "code",
   "execution_count": null,
   "id": "430cc937",
   "metadata": {},
   "outputs": [],
   "source": [
    "# Finding the averages of the respective category\n",
    "cat_average_dict={}\n",
    "for cat in df.Category.unique():\n",
    "    cat_average_dict[cat] = df[df.Category == cat].Amount.mean()\n",
    "\n",
    "cat_average_dict"
   ]
  },
  {
   "cell_type": "code",
   "execution_count": null,
   "id": "a95e6c00",
   "metadata": {},
   "outputs": [],
   "source": [
    "#Filling the Amount values less than 1000 with their respective averages of their respective category\n",
    "index_list = df.query(\"Amount < 1000\").index.tolist()\n",
    "for nums in index_list:\n",
    "    cat=df.iloc[nums].Category\n",
    "    old=df.iloc[nums].Amount\n",
    "    df.replace(old,cat_average_dict[cat],inplace=True)"
   ]
  },
  {
   "cell_type": "code",
   "execution_count": null,
   "id": "294b139b",
   "metadata": {},
   "outputs": [],
   "source": [
    "#Fill nan with their respective medians of their respective category\n",
    "index_list = df.query(\"Amount == 'nan'\").index.tolist()\n",
    "for nums in index_list:\n",
    "    cat=df.iloc[nums].Category\n",
    "    old=df.iloc[nums].Amount\n",
    "    df.replace(old,cat_median_dict[cat],inplace=True)\n"
   ]
  },
  {
   "cell_type": "code",
   "execution_count": null,
   "id": "29332af3",
   "metadata": {},
   "outputs": [],
   "source": [
    "# Find nulls using .isnull()\n",
    "df=df.replace(r'^s*$', float('NaN'), regex = True)"
   ]
  },
  {
   "cell_type": "code",
   "execution_count": null,
   "id": "b4fe2f6e",
   "metadata": {},
   "outputs": [],
   "source": [
    "# Sum of nulls using .isna()\n",
    "df.isna().sum()"
   ]
  },
  {
   "cell_type": "code",
   "execution_count": null,
   "id": "d311131d",
   "metadata": {},
   "outputs": [],
   "source": [
    "df.dropna(subset = ['Amount'], inplace = True) "
   ]
  },
  {
   "cell_type": "code",
   "execution_count": null,
   "id": "45110a75",
   "metadata": {},
   "outputs": [],
   "source": [
    "#finding duplicates\n",
    "duplicate = df[df.duplicated()]\n",
    "duplicate.shape"
   ]
  },
  {
   "cell_type": "code",
   "execution_count": null,
   "id": "6bd9aa29",
   "metadata": {},
   "outputs": [],
   "source": [
    "#Converting the Amount column to numeric\n",
    "df.describe().T"
   ]
  },
  {
   "cell_type": "markdown",
   "id": "10cb39fd",
   "metadata": {},
   "source": [
    "#### OBSERVATION\n",
    "- There are no duplicates in the dataset"
   ]
  },
  {
   "cell_type": "code",
   "execution_count": null,
   "id": "5be642f0",
   "metadata": {},
   "outputs": [],
   "source": [
    "### Only india cities\n",
    "\n",
    "indian_cities=['Bangalore', 'Mumbai','Gurugram', 'New Delhi','Hyderabad','Jaipur', 'Ahmedabad', 'Chennai','Goa','Rajsamand','Ranchi','Faridabad', 'Gujarat','Thane','Pune','Cochin',\n",
    " 'Noida', 'Chandigarh','Gurgaon','Vadodara','Kolkata', 'Haryana','Indore','Powai','Ghaziabad','Nagpur','West Bengal','Patna','Samsitpur','Lucknow','Telangana','Silvassa', 'Ambernath',\n",
    " 'Panchkula','Surat', 'Andheri','Telugana','Bhubaneswar','Kottayam', 'Panaji','Coimbatore','Satara',\n",
    " 'Orissia','Jodhpur','Santra','Trivandrum','Bhilwara','Kochi', 'The Nilgiris','Gandhinagar', 'Belgaum','Tirunelveli','Delhi', 'Dhingsara',\n",
    " 'Bangaldesh','Samastipur','Rajastan','Ludhiana','Dehradun',\n",
    " 'Kanpur','Odisha','Bihar','Uttar Pradesh','Banglore', 'Rajasthan','Bengaluru','Kalkaji','India',\n",
    " 'Kota','Margão','Kannur','Kormangala','Mylapore','Guntur','Kalpakkam','Bhopal','Alleppey','Guindy']\n",
    "\n",
    "\n",
    "\n",
    "df=df[df['Headquarter_City'].isin(indian_cities)]\n"
   ]
  },
  {
   "cell_type": "code",
   "execution_count": null,
   "id": "b16b7ddd",
   "metadata": {},
   "outputs": [],
   "source": [
    "#Checking Normality of the data \n",
    "\n",
    "def check_normality(data,name):\n",
    "    test_stat_normality, p_value_normality=stats.shapiro(data)\n",
    "    print(\"p value:%.10f\" % p_value_normality)\n",
    "    if p_value_normality <0.05:\n",
    "        print(f\"Reject null hypothesis >> The data for {name} is not normally distributed\")\n",
    "    else:\n",
    "        print(f\"Fail to reject null hypothesis >> The data for {name} is normally distributed\")"
   ]
  },
  {
   "cell_type": "code",
   "execution_count": null,
   "id": "ada78c34",
   "metadata": {},
   "outputs": [],
   "source": [
    "fintech=df[df.Category=='Finance & FinTech']\n",
    "tech = df[df.Category=='Technology & Software']\n",
    "commerce=df[df.Category=='E-commerce & Retail']\n",
    "health=df[df.Category=='Healthcare & HealthTech']\n",
    "edu=df[df.Category=='Education']\n",
    "agric = df[df.Category=='Agriculture']\n",
    "energy = df[df.Category == 'Energy']\n",
    "other=df[df.Category=='Other']\n"
   ]
  },
  {
   "cell_type": "code",
   "execution_count": null,
   "id": "f5a83c6a",
   "metadata": {},
   "outputs": [],
   "source": [
    "fintech\n",
    "check_normality(fintech.Amount,'Finance & FinTech')\n",
    "check_normality(tech.Amount,'Technology & Software')\n",
    "check_normality(commerce.Amount,'E-commerce & Retail')\n",
    "check_normality(health.Amount,'Healthcare & HealthTech')\n",
    "check_normality(edu.Amount,'Education')\n",
    "check_normality(agric.Amount,'Agriculture')\n",
    "check_normality(energy.Amount,'Energy')\n",
    "check_normality(other.Amount,'Other')\n"
   ]
  },
  {
   "cell_type": "code",
   "execution_count": null,
   "id": "85d58984",
   "metadata": {},
   "outputs": [],
   "source": [
    "#Use an ANOVA test (READ ABOUT IT) (Non parametric tests)\n",
    "#Using the P-Levene to test the Hypothesis\n",
    "stat, pvalue_levene= stats.levene(fintech.Amount, commerce.Amount, health.Amount,tech.Amount,edu.Amount,agric.Amount,energy.Amount,other.Amount)\n",
    "\n",
    "print(\"p value:%.4f\" % pvalue_levene)\n",
    "if pvalue_levene <0.05:\n",
    "    print(\"Reject null hypothesis >> The variances of the samples are different.\")\n",
    "else:\n",
    "    print(\"Fail to reject null hypothesis >> The variances of the samples are same.\")"
   ]
  },
  {
   "cell_type": "markdown",
   "id": "14032d50",
   "metadata": {},
   "source": [
    "#### OBSERVATION\n",
    "- Though the Variances of the samples are the same satisifying the homeostadasicity,the distribution of the samples differ therefore using ANOVA to test the hypothesis will introduce a significant level of error \n",
    "- Conducting a non-parametric test will be ideal (the Kruskal-Wallis test)"
   ]
  },
  {
   "cell_type": "code",
   "execution_count": null,
   "id": "6e6100a0",
   "metadata": {},
   "outputs": [],
   "source": [
    "\n",
    "stat, p = kruskal(fintech.Amount, commerce.Amount, health.Amount,tech.Amount,edu.Amount,agric.Amount,energy.Amount,other.Amount)\n",
    "print('Statistics=%.3f, p=%.10f' % (stat, p))\n",
    "\n",
    "if p > 0.05:\n",
    " print('All sample distributions are the same (fail to reject H0)')\n",
    "else:\n",
    " print('One or more sample distributions are not equal distributions (reject null Hypothesis)')"
   ]
  },
  {
   "cell_type": "markdown",
   "id": "4dfe4dc7",
   "metadata": {},
   "source": [
    "### Analytical Questions"
   ]
  },
  {
   "cell_type": "code",
   "execution_count": null,
   "id": "f0f4bdde",
   "metadata": {},
   "outputs": [],
   "source": [
    "df.head(2)"
   ]
  },
  {
   "cell_type": "markdown",
   "id": "84792fe7",
   "metadata": {},
   "source": [
    "#### 1. Does location affect the amount of funding or investments?"
   ]
  },
  {
   "cell_type": "code",
   "execution_count": null,
   "id": "9cb68cef",
   "metadata": {},
   "outputs": [],
   "source": [
    "#Converting Amount to millions of dollars\n",
    "df['Amount']=df.Amount/1000000\n",
    "pd.options.display.float_format = '${:,.2f}'.format\n"
   ]
  },
  {
   "cell_type": "code",
   "execution_count": null,
   "id": "b9f2dbbe",
   "metadata": {},
   "outputs": [],
   "source": [
    "startup_loc= df.groupby('Headquarter_City')['Amount'].mean().head(10).sort_values(ascending=False)\n",
    "\n",
    "startup_loc"
   ]
  },
  {
   "cell_type": "code",
   "execution_count": null,
   "id": "18211753",
   "metadata": {},
   "outputs": [],
   "source": [
    "startup_loc.plot(kind=\"bar\",title='Top Ten Average Investments per Headquarter Locations', legend=True,rot=30,y='Millions of Dollars')\n"
   ]
  },
  {
   "cell_type": "markdown",
   "id": "35b2e717",
   "metadata": {},
   "source": [
    "#### 2. What is the minimum funding needed per Sector/Category of start up affect the fundings?"
   ]
  },
  {
   "cell_type": "code",
   "execution_count": null,
   "id": "25d1e97f",
   "metadata": {},
   "outputs": [],
   "source": [
    "startup_cat= df.groupby('Category')['Amount'].mean().sort_values(ascending=False)\n",
    "startup_cat"
   ]
  },
  {
   "cell_type": "code",
   "execution_count": null,
   "id": "2828ab58",
   "metadata": {},
   "outputs": [],
   "source": [
    "startup_cat.plot(kind=\"bar\",title='Minimum Investments recorded per Category', legend=True,rot=30,y='Millions of Dollars')"
   ]
  },
  {
   "cell_type": "markdown",
   "id": "2f27f379",
   "metadata": {},
   "source": [
    "#### 3. How many companies are in the different sectors of funding ?"
   ]
  },
  {
   "cell_type": "code",
   "execution_count": null,
   "id": "ad595f86",
   "metadata": {},
   "outputs": [],
   "source": [
    "startup_stages= df.groupby(['Categorised_stage'])['Category'].count().sort_values(ascending=False)\n",
    "startup_stages"
   ]
  },
  {
   "cell_type": "code",
   "execution_count": null,
   "id": "ffd3ba67",
   "metadata": {},
   "outputs": [],
   "source": [
    "startup_stages.plot(kind=\"bar\",title='Number of companies in the different funding sectors', legend=True,rot=30,y='Millions of Dollars')"
   ]
  },
  {
   "cell_type": "markdown",
   "id": "a890a14d",
   "metadata": {},
   "source": [
    "#### 4. Which stages give out the highest investment amounts?"
   ]
  },
  {
   "cell_type": "code",
   "execution_count": null,
   "id": "d1406af8",
   "metadata": {},
   "outputs": [],
   "source": [
    "startup_sectors= df.groupby('Categorised_stage')['Amount'].mean()\n",
    "startup_sectors"
   ]
  },
  {
   "cell_type": "code",
   "execution_count": null,
   "id": "0276ddd2",
   "metadata": {},
   "outputs": [],
   "source": [
    "startup_sectors.plot(kind=\"bar\",title='Number of companies in the different funding sectors', legend=True,rot=30,y='Millions of Dollars')"
   ]
  },
  {
   "cell_type": "markdown",
   "id": "e6071267",
   "metadata": {},
   "source": [
    "#### 5. Which cities have the highest number of startups and at what levels?"
   ]
  },
  {
   "cell_type": "code",
   "execution_count": null,
   "id": "c4457266",
   "metadata": {},
   "outputs": [],
   "source": [
    "startup_cities= df.groupby('Headquarter_City')['Categorised_stage'].count().head(5).sort_values(ascending=False)\n",
    "startup_cities"
   ]
  },
  {
   "cell_type": "code",
   "execution_count": null,
   "id": "b772ac95",
   "metadata": {},
   "outputs": [],
   "source": [
    "startup_cities.plot(kind=\"bar\",title='Number of companies in the different funding sectors', legend=True,rot=30,y='Millions of Dollars')"
   ]
  },
  {
   "cell_type": "markdown",
   "id": "f7903a9c",
   "metadata": {},
   "source": [
    "#### 6. What are the levels of funding the startups are receiving per year?"
   ]
  },
  {
   "cell_type": "code",
   "execution_count": null,
   "id": "b6150d50",
   "metadata": {},
   "outputs": [],
   "source": [
    "startup_year= df.groupby('Investment_year')['Amount'].mean().sort_values(ascending=True)\n",
    "startup_year"
   ]
  },
  {
   "cell_type": "code",
   "execution_count": null,
   "id": "3d56f210",
   "metadata": {},
   "outputs": [],
   "source": [
    "startup_year.plot(kind=\"bar\",title='Number of companies in the different funding sectors', legend=True,rot=30,y='Millions of Dollars')"
   ]
  }
 ],
 "metadata": {
  "kernelspec": {
   "display_name": "Python 3 (ipykernel)",
   "language": "python",
   "name": "python3"
  },
  "language_info": {
   "codemirror_mode": {
    "name": "ipython",
    "version": 3
   },
   "file_extension": ".py",
   "mimetype": "text/x-python",
   "name": "python",
   "nbconvert_exporter": "python",
   "pygments_lexer": "ipython3",
   "version": "3.9.13"
  }
 },
 "nbformat": 4,
 "nbformat_minor": 5
}
